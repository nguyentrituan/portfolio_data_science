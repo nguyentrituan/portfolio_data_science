{
  "cells": [
    {
      "cell_type": "markdown",
      "metadata": {
        "id": "p4pv5bgw7LPU"
      },
      "source": [
        "# Get all required data"
      ]
    },
    {
      "cell_type": "code",
      "execution_count": 1,
      "metadata": {
        "id": "C4L-NiWL3w8g"
      },
      "outputs": [],
      "source": [
        "import numpy as np\n",
        "import pandas as pd\n",
        "pd.set_option('display.max_columns', None)\n",
        "import sklearn\n",
        "sklearn.set_config(transform_output=\"pandas\")"
      ]
    },
    {
      "cell_type": "code",
      "execution_count": 2,
      "metadata": {
        "id": "rGCqvjlU5eLh"
      },
      "outputs": [],
      "source": [
        "data_path = '/Users/tuan.nt/Documents/kaggle_interval_prediction/data/'\n",
        "\n",
        "train_data = data_path + 'train.csv'\n",
        "test_data = data_path + 'test.csv'\n",
        "sample_sub = data_path + 'sample_submission.csv'\n",
        "submission = data_path + 'submission.csv'"
      ]
    },
    {
      "cell_type": "code",
      "execution_count": 3,
      "metadata": {
        "id": "q0wM8M434Hb_"
      },
      "outputs": [],
      "source": [
        "# Notice that we use absolute values due to the possibility of 'quantile crossing' where lower > upper.\n",
        "\n",
        "def WIS_and_coverage(y_true,lower,upper,alpha):\n",
        "\n",
        "    assert np.isnan(y_true) == False, \"y_true contains NaN value(s)\"\n",
        "    assert np.isinf(y_true) == False, \"y_true contains inf values(s)\"\n",
        "    assert np.isnan(lower)  == False, \"lower interval value contains NaN value(s)\"\n",
        "    assert np.isinf(lower)  == False, \"lower interval value contains inf values(s)\"\n",
        "    assert np.isnan(upper)  == False, \"upper interval value contains NaN value(s)\"\n",
        "    assert np.isinf(upper)  == False, \"upper interval value contains inf values(s)\"\n",
        "    assert alpha > 0 and alpha <= 1,  f\"alpha should be (0,1]. Found: {alpha}\"\n",
        "\n",
        "    # WIS for one single row\n",
        "    score = np.abs(upper-lower)\n",
        "    if y_true < np.minimum(upper,lower):\n",
        "        score += ((2/alpha) * (np.minimum(upper,lower) - y_true))\n",
        "    if y_true > np.maximum(upper,lower):\n",
        "        score += ((2/alpha) * (y_true - np.maximum(upper,lower)))\n",
        "    # coverage for one single row\n",
        "    coverage  = 1 # assume is within coverage\n",
        "    if (y_true < np.minimum(upper,lower)) or (y_true > np.maximum(upper,lower)):\n",
        "        coverage = 0\n",
        "    return score, coverage\n",
        "\n",
        "# vectorize the function\n",
        "v_WIS_and_coverage = np.vectorize(WIS_and_coverage)\n",
        "\n",
        "def score(y_true,lower,upper,alpha):\n",
        "    \"\"\"\n",
        "    This is an implementation of the Winkler Interval score (https://otexts.com/fpp3/distaccuracy.html#winkler-score).\n",
        "    The mean over all of the individual Winkler Interval scores (MWIS) is returned, along with the coverage.\n",
        "\n",
        "    See:\n",
        "    [1] Robert L. Winkler \"A Decision-Theoretic Approach to Interval Estimation\", Journal of the American Statistical Association, vol. 67, pp. 187-191 (1972) (https://doi.org/10.1080/01621459.1972.10481224)\n",
        "    [2] Tilmann Gneiting and Adrian E Raftery \"Strictly Proper Scoring Rules, Prediction, and Estimation\", Journal of the American Statistical Association, vol. 102, pp. 359-378 (2007) (https://doi.org/10.1198/016214506000001437) (Section 6.2)\n",
        "\n",
        "    Version: 1.0.4\n",
        "    Author:  Carl McBride Ellis\n",
        "    Date:    2023-12-07\n",
        "    \"\"\"\n",
        "\n",
        "    assert y_true.ndim == 1, \"y_true: pandas Series or 1D array expected\"\n",
        "    assert lower.ndim  == 1, \"lower: pandas Series or 1D array expected\"\n",
        "    assert upper.ndim  == 1, \"upper: pandas Series or 1D array expected\"\n",
        "    assert isinstance(alpha, float) == True, \"alpha: float expected\"\n",
        "\n",
        "    WIS_scores, coverage = v_WIS_and_coverage(y_true,lower,upper,alpha)\n",
        "    MWIS      = np.mean(WIS_scores)\n",
        "    MWIS      = float(MWIS)\n",
        "    coverage  = coverage.sum()/coverage.shape[0]\n",
        "    coverage  = float(coverage)\n",
        "\n",
        "    return MWIS,coverage"
      ]
    },
    {
      "cell_type": "code",
      "execution_count": 4,
      "metadata": {
        "id": "5Dz5uuZm5WBJ"
      },
      "outputs": [],
      "source": [
        "train  = pd.read_csv(train_data, index_col=\"id\")\n",
        "test = pd.read_csv(test_data, index_col=\"id\")"
      ]
    },
    {
      "cell_type": "code",
      "execution_count": 5,
      "metadata": {
        "id": "d1DhBSRn6zZJ"
      },
      "outputs": [],
      "source": [
        "# Split Train into X train set and Y train set \n",
        "\n",
        "X = train\n",
        "X = X.drop([\"DBWT\"], axis=1)\n",
        "y = train[\"DBWT\"]\n",
        "\n",
        "X_test = test"
      ]
    },
    {
      "cell_type": "code",
      "execution_count": 6,
      "metadata": {
        "colab": {
          "base_uri": "https://localhost:8080/"
        },
        "id": "4FHp-Y_F7ikr",
        "outputId": "6a1292f8-e5be-4b5c-a735-89a12970da32"
      },
      "outputs": [
        {
          "name": "stdout",
          "output_type": "stream",
          "text": [
            "(54041, 36)\n",
            "(54041, 36)\n"
          ]
        }
      ],
      "source": [
        "# Split X train, y train, X_validation, y_validation => Be easy for Simulation for tuning model.\n",
        "from sklearn.model_selection import train_test_split\n",
        "X_train, X_validation, y_train, y_validation   = train_test_split(X, y, test_size=0.50, random_state = 42)\n",
        "\n",
        "print(X_train.shape)\n",
        "print(X_validation.shape)"
      ]
    },
    {
      "cell_type": "code",
      "execution_count": 7,
      "metadata": {
        "colab": {
          "base_uri": "https://localhost:8080/",
          "height": 258
        },
        "id": "nI14G-eW8nlM",
        "outputId": "3be158dc-980d-4de5-812b-0d4cee16141d"
      },
      "outputs": [
        {
          "data": {
            "text/html": [
              "<div>\n",
              "<style scoped>\n",
              "    .dataframe tbody tr th:only-of-type {\n",
              "        vertical-align: middle;\n",
              "    }\n",
              "\n",
              "    .dataframe tbody tr th {\n",
              "        vertical-align: top;\n",
              "    }\n",
              "\n",
              "    .dataframe thead th {\n",
              "        text-align: right;\n",
              "    }\n",
              "</style>\n",
              "<table border=\"1\" class=\"dataframe\">\n",
              "  <thead>\n",
              "    <tr style=\"text-align: right;\">\n",
              "      <th></th>\n",
              "      <th>ATTEND</th>\n",
              "      <th>BFACIL</th>\n",
              "      <th>BMI</th>\n",
              "      <th>CIG_0</th>\n",
              "      <th>DLMP_MM</th>\n",
              "      <th>DOB_MM</th>\n",
              "      <th>DOB_TT</th>\n",
              "      <th>DOB_WK</th>\n",
              "      <th>FAGECOMB</th>\n",
              "      <th>FEDUC</th>\n",
              "      <th>ILLB_R</th>\n",
              "      <th>ILOP_R</th>\n",
              "      <th>ILP_R</th>\n",
              "      <th>MAGER</th>\n",
              "      <th>MBSTATE_REC</th>\n",
              "      <th>MEDUC</th>\n",
              "      <th>M_Ht_In</th>\n",
              "      <th>NO_INFEC</th>\n",
              "      <th>NO_MMORB</th>\n",
              "      <th>NO_RISKS</th>\n",
              "      <th>PAY</th>\n",
              "      <th>PAY_REC</th>\n",
              "      <th>PRECARE</th>\n",
              "      <th>PREVIS</th>\n",
              "      <th>PRIORDEAD</th>\n",
              "      <th>PRIORLIVE</th>\n",
              "      <th>PRIORTERM</th>\n",
              "      <th>PWgt_R</th>\n",
              "      <th>RDMETH_REC</th>\n",
              "      <th>RESTATUS</th>\n",
              "      <th>RF_CESARN</th>\n",
              "      <th>WTGAIN</th>\n",
              "      <th>DMAR_</th>\n",
              "      <th>DMAR_1</th>\n",
              "      <th>DMAR_2</th>\n",
              "      <th>LD_INDL_N</th>\n",
              "      <th>LD_INDL_Y</th>\n",
              "      <th>RF_CESAR_N</th>\n",
              "      <th>RF_CESAR_Y</th>\n",
              "      <th>SEX_F</th>\n",
              "      <th>SEX_M</th>\n",
              "    </tr>\n",
              "    <tr>\n",
              "      <th>id</th>\n",
              "      <th></th>\n",
              "      <th></th>\n",
              "      <th></th>\n",
              "      <th></th>\n",
              "      <th></th>\n",
              "      <th></th>\n",
              "      <th></th>\n",
              "      <th></th>\n",
              "      <th></th>\n",
              "      <th></th>\n",
              "      <th></th>\n",
              "      <th></th>\n",
              "      <th></th>\n",
              "      <th></th>\n",
              "      <th></th>\n",
              "      <th></th>\n",
              "      <th></th>\n",
              "      <th></th>\n",
              "      <th></th>\n",
              "      <th></th>\n",
              "      <th></th>\n",
              "      <th></th>\n",
              "      <th></th>\n",
              "      <th></th>\n",
              "      <th></th>\n",
              "      <th></th>\n",
              "      <th></th>\n",
              "      <th></th>\n",
              "      <th></th>\n",
              "      <th></th>\n",
              "      <th></th>\n",
              "      <th></th>\n",
              "      <th></th>\n",
              "      <th></th>\n",
              "      <th></th>\n",
              "      <th></th>\n",
              "      <th></th>\n",
              "      <th></th>\n",
              "      <th></th>\n",
              "      <th></th>\n",
              "      <th></th>\n",
              "    </tr>\n",
              "  </thead>\n",
              "  <tbody>\n",
              "    <tr>\n",
              "      <th>21551</th>\n",
              "      <td>1</td>\n",
              "      <td>1</td>\n",
              "      <td>31.5</td>\n",
              "      <td>0</td>\n",
              "      <td>12</td>\n",
              "      <td>9</td>\n",
              "      <td>812</td>\n",
              "      <td>2</td>\n",
              "      <td>26</td>\n",
              "      <td>6</td>\n",
              "      <td>888</td>\n",
              "      <td>888</td>\n",
              "      <td>888</td>\n",
              "      <td>21</td>\n",
              "      <td>1</td>\n",
              "      <td>3</td>\n",
              "      <td>63</td>\n",
              "      <td>1</td>\n",
              "      <td>1</td>\n",
              "      <td>0</td>\n",
              "      <td>1</td>\n",
              "      <td>1</td>\n",
              "      <td>4</td>\n",
              "      <td>12</td>\n",
              "      <td>0</td>\n",
              "      <td>0</td>\n",
              "      <td>0</td>\n",
              "      <td>178</td>\n",
              "      <td>3</td>\n",
              "      <td>1</td>\n",
              "      <td>0</td>\n",
              "      <td>26</td>\n",
              "      <td>0</td>\n",
              "      <td>1</td>\n",
              "      <td>0</td>\n",
              "      <td>0</td>\n",
              "      <td>1</td>\n",
              "      <td>1</td>\n",
              "      <td>0</td>\n",
              "      <td>0</td>\n",
              "      <td>1</td>\n",
              "    </tr>\n",
              "    <tr>\n",
              "      <th>40417</th>\n",
              "      <td>1</td>\n",
              "      <td>1</td>\n",
              "      <td>25.2</td>\n",
              "      <td>0</td>\n",
              "      <td>9</td>\n",
              "      <td>6</td>\n",
              "      <td>648</td>\n",
              "      <td>2</td>\n",
              "      <td>28</td>\n",
              "      <td>2</td>\n",
              "      <td>888</td>\n",
              "      <td>888</td>\n",
              "      <td>888</td>\n",
              "      <td>28</td>\n",
              "      <td>2</td>\n",
              "      <td>4</td>\n",
              "      <td>63</td>\n",
              "      <td>1</td>\n",
              "      <td>1</td>\n",
              "      <td>1</td>\n",
              "      <td>1</td>\n",
              "      <td>1</td>\n",
              "      <td>2</td>\n",
              "      <td>11</td>\n",
              "      <td>0</td>\n",
              "      <td>0</td>\n",
              "      <td>0</td>\n",
              "      <td>142</td>\n",
              "      <td>1</td>\n",
              "      <td>1</td>\n",
              "      <td>0</td>\n",
              "      <td>36</td>\n",
              "      <td>0</td>\n",
              "      <td>1</td>\n",
              "      <td>0</td>\n",
              "      <td>1</td>\n",
              "      <td>0</td>\n",
              "      <td>1</td>\n",
              "      <td>0</td>\n",
              "      <td>1</td>\n",
              "      <td>0</td>\n",
              "    </tr>\n",
              "    <tr>\n",
              "      <th>30079</th>\n",
              "      <td>1</td>\n",
              "      <td>1</td>\n",
              "      <td>20.6</td>\n",
              "      <td>0</td>\n",
              "      <td>9</td>\n",
              "      <td>5</td>\n",
              "      <td>1718</td>\n",
              "      <td>5</td>\n",
              "      <td>31</td>\n",
              "      <td>4</td>\n",
              "      <td>88</td>\n",
              "      <td>888</td>\n",
              "      <td>88</td>\n",
              "      <td>29</td>\n",
              "      <td>1</td>\n",
              "      <td>4</td>\n",
              "      <td>57</td>\n",
              "      <td>1</td>\n",
              "      <td>1</td>\n",
              "      <td>1</td>\n",
              "      <td>2</td>\n",
              "      <td>2</td>\n",
              "      <td>2</td>\n",
              "      <td>13</td>\n",
              "      <td>0</td>\n",
              "      <td>2</td>\n",
              "      <td>0</td>\n",
              "      <td>95</td>\n",
              "      <td>1</td>\n",
              "      <td>2</td>\n",
              "      <td>0</td>\n",
              "      <td>4</td>\n",
              "      <td>0</td>\n",
              "      <td>0</td>\n",
              "      <td>1</td>\n",
              "      <td>1</td>\n",
              "      <td>0</td>\n",
              "      <td>1</td>\n",
              "      <td>0</td>\n",
              "      <td>1</td>\n",
              "      <td>0</td>\n",
              "    </tr>\n",
              "    <tr>\n",
              "      <th>53786</th>\n",
              "      <td>1</td>\n",
              "      <td>1</td>\n",
              "      <td>44.2</td>\n",
              "      <td>0</td>\n",
              "      <td>1</td>\n",
              "      <td>10</td>\n",
              "      <td>2138</td>\n",
              "      <td>3</td>\n",
              "      <td>22</td>\n",
              "      <td>3</td>\n",
              "      <td>888</td>\n",
              "      <td>888</td>\n",
              "      <td>888</td>\n",
              "      <td>21</td>\n",
              "      <td>1</td>\n",
              "      <td>3</td>\n",
              "      <td>67</td>\n",
              "      <td>1</td>\n",
              "      <td>1</td>\n",
              "      <td>1</td>\n",
              "      <td>1</td>\n",
              "      <td>1</td>\n",
              "      <td>2</td>\n",
              "      <td>13</td>\n",
              "      <td>0</td>\n",
              "      <td>0</td>\n",
              "      <td>0</td>\n",
              "      <td>282</td>\n",
              "      <td>1</td>\n",
              "      <td>1</td>\n",
              "      <td>0</td>\n",
              "      <td>28</td>\n",
              "      <td>0</td>\n",
              "      <td>0</td>\n",
              "      <td>1</td>\n",
              "      <td>0</td>\n",
              "      <td>1</td>\n",
              "      <td>1</td>\n",
              "      <td>0</td>\n",
              "      <td>0</td>\n",
              "      <td>1</td>\n",
              "    </tr>\n",
              "    <tr>\n",
              "      <th>65340</th>\n",
              "      <td>1</td>\n",
              "      <td>1</td>\n",
              "      <td>22.9</td>\n",
              "      <td>0</td>\n",
              "      <td>9</td>\n",
              "      <td>5</td>\n",
              "      <td>538</td>\n",
              "      <td>5</td>\n",
              "      <td>39</td>\n",
              "      <td>8</td>\n",
              "      <td>888</td>\n",
              "      <td>15</td>\n",
              "      <td>15</td>\n",
              "      <td>36</td>\n",
              "      <td>2</td>\n",
              "      <td>7</td>\n",
              "      <td>67</td>\n",
              "      <td>1</td>\n",
              "      <td>1</td>\n",
              "      <td>1</td>\n",
              "      <td>2</td>\n",
              "      <td>2</td>\n",
              "      <td>3</td>\n",
              "      <td>10</td>\n",
              "      <td>0</td>\n",
              "      <td>0</td>\n",
              "      <td>1</td>\n",
              "      <td>146</td>\n",
              "      <td>1</td>\n",
              "      <td>1</td>\n",
              "      <td>0</td>\n",
              "      <td>32</td>\n",
              "      <td>1</td>\n",
              "      <td>0</td>\n",
              "      <td>0</td>\n",
              "      <td>1</td>\n",
              "      <td>0</td>\n",
              "      <td>1</td>\n",
              "      <td>0</td>\n",
              "      <td>1</td>\n",
              "      <td>0</td>\n",
              "    </tr>\n",
              "  </tbody>\n",
              "</table>\n",
              "</div>"
            ],
            "text/plain": [
              "       ATTEND  BFACIL   BMI  CIG_0  DLMP_MM  DOB_MM  DOB_TT  DOB_WK  FAGECOMB  \\\n",
              "id                                                                              \n",
              "21551       1       1  31.5      0       12       9     812       2        26   \n",
              "40417       1       1  25.2      0        9       6     648       2        28   \n",
              "30079       1       1  20.6      0        9       5    1718       5        31   \n",
              "53786       1       1  44.2      0        1      10    2138       3        22   \n",
              "65340       1       1  22.9      0        9       5     538       5        39   \n",
              "\n",
              "       FEDUC  ILLB_R  ILOP_R  ILP_R  MAGER  MBSTATE_REC  MEDUC  M_Ht_In  \\\n",
              "id                                                                        \n",
              "21551      6     888     888    888     21            1      3       63   \n",
              "40417      2     888     888    888     28            2      4       63   \n",
              "30079      4      88     888     88     29            1      4       57   \n",
              "53786      3     888     888    888     21            1      3       67   \n",
              "65340      8     888      15     15     36            2      7       67   \n",
              "\n",
              "       NO_INFEC  NO_MMORB  NO_RISKS  PAY  PAY_REC  PRECARE  PREVIS  PRIORDEAD  \\\n",
              "id                                                                              \n",
              "21551         1         1         0    1        1        4      12          0   \n",
              "40417         1         1         1    1        1        2      11          0   \n",
              "30079         1         1         1    2        2        2      13          0   \n",
              "53786         1         1         1    1        1        2      13          0   \n",
              "65340         1         1         1    2        2        3      10          0   \n",
              "\n",
              "       PRIORLIVE  PRIORTERM  PWgt_R  RDMETH_REC  RESTATUS  RF_CESARN  WTGAIN  \\\n",
              "id                                                                             \n",
              "21551          0          0     178           3         1          0      26   \n",
              "40417          0          0     142           1         1          0      36   \n",
              "30079          2          0      95           1         2          0       4   \n",
              "53786          0          0     282           1         1          0      28   \n",
              "65340          0          1     146           1         1          0      32   \n",
              "\n",
              "       DMAR_   DMAR_1  DMAR_2  LD_INDL_N  LD_INDL_Y  RF_CESAR_N  RF_CESAR_Y  \\\n",
              "id                                                                            \n",
              "21551       0       1       0          0          1           1           0   \n",
              "40417       0       1       0          1          0           1           0   \n",
              "30079       0       0       1          1          0           1           0   \n",
              "53786       0       0       1          0          1           1           0   \n",
              "65340       1       0       0          1          0           1           0   \n",
              "\n",
              "       SEX_F  SEX_M  \n",
              "id                   \n",
              "21551      0      1  \n",
              "40417      1      0  \n",
              "30079      1      0  \n",
              "53786      0      1  \n",
              "65340      1      0  "
            ]
          },
          "execution_count": 7,
          "metadata": {},
          "output_type": "execute_result"
        }
      ],
      "source": [
        "# In Python, you can use the get_dummies function from the pandas library to create dummy variables from categorical variables. Here's how you can use it:\n",
        "X_train = pd.get_dummies(X_train)\n",
        "X_validation = pd.get_dummies(X_validation)\n",
        "X_test = pd.get_dummies(X_test)\n",
        "X_train.head()"
      ]
    },
    {
      "cell_type": "markdown",
      "metadata": {},
      "source": [
        "Problem: Produce prediction interval \n",
        "\n",
        "Solution: Using KNN to predict expectation (expectation values) - called mean after that based on this we use std to calcuate the interval \n"
      ]
    },
    {
      "cell_type": "code",
      "execution_count": 11,
      "metadata": {
        "colab": {
          "base_uri": "https://localhost:8080/",
          "height": 75
        },
        "id": "YQ7nq5_e7xqQ",
        "outputId": "9565f355-650c-480a-ac50-575c97d1ab60"
      },
      "outputs": [
        {
          "data": {
            "text/html": [
              "<style>#sk-container-id-2 {color: black;}#sk-container-id-2 pre{padding: 0;}#sk-container-id-2 div.sk-toggleable {background-color: white;}#sk-container-id-2 label.sk-toggleable__label {cursor: pointer;display: block;width: 100%;margin-bottom: 0;padding: 0.3em;box-sizing: border-box;text-align: center;}#sk-container-id-2 label.sk-toggleable__label-arrow:before {content: \"▸\";float: left;margin-right: 0.25em;color: #696969;}#sk-container-id-2 label.sk-toggleable__label-arrow:hover:before {color: black;}#sk-container-id-2 div.sk-estimator:hover label.sk-toggleable__label-arrow:before {color: black;}#sk-container-id-2 div.sk-toggleable__content {max-height: 0;max-width: 0;overflow: hidden;text-align: left;background-color: #f0f8ff;}#sk-container-id-2 div.sk-toggleable__content pre {margin: 0.2em;color: black;border-radius: 0.25em;background-color: #f0f8ff;}#sk-container-id-2 input.sk-toggleable__control:checked~div.sk-toggleable__content {max-height: 200px;max-width: 100%;overflow: auto;}#sk-container-id-2 input.sk-toggleable__control:checked~label.sk-toggleable__label-arrow:before {content: \"▾\";}#sk-container-id-2 div.sk-estimator input.sk-toggleable__control:checked~label.sk-toggleable__label {background-color: #d4ebff;}#sk-container-id-2 div.sk-label input.sk-toggleable__control:checked~label.sk-toggleable__label {background-color: #d4ebff;}#sk-container-id-2 input.sk-hidden--visually {border: 0;clip: rect(1px 1px 1px 1px);clip: rect(1px, 1px, 1px, 1px);height: 1px;margin: -1px;overflow: hidden;padding: 0;position: absolute;width: 1px;}#sk-container-id-2 div.sk-estimator {font-family: monospace;background-color: #f0f8ff;border: 1px dotted black;border-radius: 0.25em;box-sizing: border-box;margin-bottom: 0.5em;}#sk-container-id-2 div.sk-estimator:hover {background-color: #d4ebff;}#sk-container-id-2 div.sk-parallel-item::after {content: \"\";width: 100%;border-bottom: 1px solid gray;flex-grow: 1;}#sk-container-id-2 div.sk-label:hover label.sk-toggleable__label {background-color: #d4ebff;}#sk-container-id-2 div.sk-serial::before {content: \"\";position: absolute;border-left: 1px solid gray;box-sizing: border-box;top: 0;bottom: 0;left: 50%;z-index: 0;}#sk-container-id-2 div.sk-serial {display: flex;flex-direction: column;align-items: center;background-color: white;padding-right: 0.2em;padding-left: 0.2em;position: relative;}#sk-container-id-2 div.sk-item {position: relative;z-index: 1;}#sk-container-id-2 div.sk-parallel {display: flex;align-items: stretch;justify-content: center;background-color: white;position: relative;}#sk-container-id-2 div.sk-item::before, #sk-container-id-2 div.sk-parallel-item::before {content: \"\";position: absolute;border-left: 1px solid gray;box-sizing: border-box;top: 0;bottom: 0;left: 50%;z-index: -1;}#sk-container-id-2 div.sk-parallel-item {display: flex;flex-direction: column;z-index: 1;position: relative;background-color: white;}#sk-container-id-2 div.sk-parallel-item:first-child::after {align-self: flex-end;width: 50%;}#sk-container-id-2 div.sk-parallel-item:last-child::after {align-self: flex-start;width: 50%;}#sk-container-id-2 div.sk-parallel-item:only-child::after {width: 0;}#sk-container-id-2 div.sk-dashed-wrapped {border: 1px dashed gray;margin: 0 0.4em 0.5em 0.4em;box-sizing: border-box;padding-bottom: 0.4em;background-color: white;}#sk-container-id-2 div.sk-label label {font-family: monospace;font-weight: bold;display: inline-block;line-height: 1.2em;}#sk-container-id-2 div.sk-label-container {text-align: center;}#sk-container-id-2 div.sk-container {/* jupyter's `normalize.less` sets `[hidden] { display: none; }` but bootstrap.min.css set `[hidden] { display: none !important; }` so we also need the `!important` here to be able to override the default hidden behavior on the sphinx rendered scikit-learn.org. See: https://github.com/scikit-learn/scikit-learn/issues/21755 */display: inline-block !important;position: relative;}#sk-container-id-2 div.sk-text-repr-fallback {display: none;}</style><div id=\"sk-container-id-2\" class=\"sk-top-container\"><div class=\"sk-text-repr-fallback\"><pre>KNeighborsRegressor(n_neighbors=2)</pre><b>In a Jupyter environment, please rerun this cell to show the HTML representation or trust the notebook. <br />On GitHub, the HTML representation is unable to render, please try loading this page with nbviewer.org.</b></div><div class=\"sk-container\" hidden><div class=\"sk-item\"><div class=\"sk-estimator sk-toggleable\"><input class=\"sk-toggleable__control sk-hidden--visually\" id=\"sk-estimator-id-2\" type=\"checkbox\" checked><label for=\"sk-estimator-id-2\" class=\"sk-toggleable__label sk-toggleable__label-arrow\">KNeighborsRegressor</label><div class=\"sk-toggleable__content\"><pre>KNeighborsRegressor(n_neighbors=2)</pre></div></div></div></div></div>"
            ],
            "text/plain": [
              "KNeighborsRegressor(n_neighbors=2)"
            ]
          },
          "execution_count": 11,
          "metadata": {},
          "output_type": "execute_result"
        }
      ],
      "source": [
        "# Using model KNN to predict \n",
        "from sklearn.neighbors import KNeighborsRegressor\n",
        "neigh = KNeighborsRegressor(n_neighbors=2)\n",
        "neigh.fit(X_train, y_train)"
      ]
    },
    {
      "cell_type": "code",
      "execution_count": 12,
      "metadata": {
        "colab": {
          "base_uri": "https://localhost:8080/"
        },
        "id": "8zxj20K--R87",
        "outputId": "7cb2b9d4-0de1-4b76-8c84-5d5a383a164c"
      },
      "outputs": [
        {
          "data": {
            "text/plain": [
              "587.5030059550135"
            ]
          },
          "execution_count": 12,
          "metadata": {},
          "output_type": "execute_result"
        }
      ],
      "source": [
        "train_std = np.std(y_train)\n",
        "train_std"
      ]
    },
    {
      "cell_type": "code",
      "execution_count": 14,
      "metadata": {
        "colab": {
          "base_uri": "https://localhost:8080/",
          "height": 455
        },
        "id": "2P4ZBIWS-HzM",
        "outputId": "f7450b31-0383-4b35-afd2-2b7d24f6a87a"
      },
      "outputs": [
        {
          "data": {
            "text/html": [
              "<div>\n",
              "<style scoped>\n",
              "    .dataframe tbody tr th:only-of-type {\n",
              "        vertical-align: middle;\n",
              "    }\n",
              "\n",
              "    .dataframe tbody tr th {\n",
              "        vertical-align: top;\n",
              "    }\n",
              "\n",
              "    .dataframe thead th {\n",
              "        text-align: right;\n",
              "    }\n",
              "</style>\n",
              "<table border=\"1\" class=\"dataframe\">\n",
              "  <thead>\n",
              "    <tr style=\"text-align: right;\">\n",
              "      <th></th>\n",
              "      <th>y_true</th>\n",
              "      <th>pi_lower</th>\n",
              "      <th>pi_upper</th>\n",
              "    </tr>\n",
              "    <tr>\n",
              "      <th>id</th>\n",
              "      <th></th>\n",
              "      <th></th>\n",
              "      <th></th>\n",
              "    </tr>\n",
              "  </thead>\n",
              "  <tbody>\n",
              "    <tr>\n",
              "      <th>33498</th>\n",
              "      <td>3033</td>\n",
              "      <td>2510.493988</td>\n",
              "      <td>4860.506012</td>\n",
              "    </tr>\n",
              "    <tr>\n",
              "      <th>7125</th>\n",
              "      <td>3470</td>\n",
              "      <td>2327.993988</td>\n",
              "      <td>4678.006012</td>\n",
              "    </tr>\n",
              "    <tr>\n",
              "      <th>8648</th>\n",
              "      <td>2270</td>\n",
              "      <td>2084.993988</td>\n",
              "      <td>4435.006012</td>\n",
              "    </tr>\n",
              "    <tr>\n",
              "      <th>74876</th>\n",
              "      <td>3515</td>\n",
              "      <td>1834.493988</td>\n",
              "      <td>4184.506012</td>\n",
              "    </tr>\n",
              "    <tr>\n",
              "      <th>12576</th>\n",
              "      <td>3455</td>\n",
              "      <td>581.493988</td>\n",
              "      <td>2931.506012</td>\n",
              "    </tr>\n",
              "    <tr>\n",
              "      <th>...</th>\n",
              "      <td>...</td>\n",
              "      <td>...</td>\n",
              "      <td>...</td>\n",
              "    </tr>\n",
              "    <tr>\n",
              "      <th>60199</th>\n",
              "      <td>3208</td>\n",
              "      <td>2244.993988</td>\n",
              "      <td>4595.006012</td>\n",
              "    </tr>\n",
              "    <tr>\n",
              "      <th>59559</th>\n",
              "      <td>3410</td>\n",
              "      <td>2473.493988</td>\n",
              "      <td>4823.506012</td>\n",
              "    </tr>\n",
              "    <tr>\n",
              "      <th>30715</th>\n",
              "      <td>3969</td>\n",
              "      <td>2354.493988</td>\n",
              "      <td>4704.506012</td>\n",
              "    </tr>\n",
              "    <tr>\n",
              "      <th>102836</th>\n",
              "      <td>3260</td>\n",
              "      <td>1948.993988</td>\n",
              "      <td>4299.006012</td>\n",
              "    </tr>\n",
              "    <tr>\n",
              "      <th>4774</th>\n",
              "      <td>2875</td>\n",
              "      <td>1874.993988</td>\n",
              "      <td>4225.006012</td>\n",
              "    </tr>\n",
              "  </tbody>\n",
              "</table>\n",
              "<p>54041 rows × 3 columns</p>\n",
              "</div>"
            ],
            "text/plain": [
              "        y_true     pi_lower     pi_upper\n",
              "id                                      \n",
              "33498     3033  2510.493988  4860.506012\n",
              "7125      3470  2327.993988  4678.006012\n",
              "8648      2270  2084.993988  4435.006012\n",
              "74876     3515  1834.493988  4184.506012\n",
              "12576     3455   581.493988  2931.506012\n",
              "...        ...          ...          ...\n",
              "60199     3208  2244.993988  4595.006012\n",
              "59559     3410  2473.493988  4823.506012\n",
              "30715     3969  2354.493988  4704.506012\n",
              "102836    3260  1948.993988  4299.006012\n",
              "4774      2875  1874.993988  4225.006012\n",
              "\n",
              "[54041 rows x 3 columns]"
            ]
          },
          "execution_count": 14,
          "metadata": {},
          "output_type": "execute_result"
        }
      ],
      "source": [
        "# We use y_validation for running simluation to tune model. In details we use it as y_true\n",
        "# We will run simulation based on MWI score with y_true \n",
        "predictions = y_validation.to_frame(name=\"y_true\") # the \"ground truth\" column\n",
        "mean = neigh.predict(X_validation)\n",
        "predictions[\"pi_lower\"] = mean - 2 * train_std\n",
        "predictions[\"pi_upper\"] = mean + 2 * train_std\n",
        "# take a quick look\n",
        "predictions"
      ]
    },
    {
      "cell_type": "code",
      "execution_count": 15,
      "metadata": {
        "colab": {
          "base_uri": "https://localhost:8080/"
        },
        "id": "IEpoxBoh-sz9",
        "outputId": "be51b239-ac80-4f74-8389-62787e44f4b8"
      },
      "outputs": [
        {
          "name": "stdout",
          "output_type": "stream",
          "text": [
            "Local MWI score       3035.76\n",
            "Predictions coverage    92.1 %\n"
          ]
        }
      ],
      "source": [
        "alpha = 0.1 # the competition alpha\n",
        "MWIS,coverage = score(predictions[\"y_true\"],predictions[\"pi_lower\"],predictions[\"pi_upper\"],alpha)\n",
        "\n",
        "print(f\"Local MWI score      \",round(MWIS,3))\n",
        "print(\"Predictions coverage   \", round(coverage*100,1),\"%\")"
      ]
    },
    {
      "cell_type": "code",
      "execution_count": 16,
      "metadata": {
        "colab": {
          "base_uri": "https://localhost:8080/"
        },
        "id": "w0tLpOmU_9R3",
        "outputId": "fd30e478-c541-403b-a0da-fe3d867ce2c2"
      },
      "outputs": [
        {
          "name": "stdout",
          "output_type": "stream",
          "text": [
            "Number of neighbors  1\n",
            "Local MWI score       3493.51\n",
            "Predictions coverage    88.6 %\n",
            "Number of neighbors  2\n",
            "Local MWI score       3035.76\n",
            "Predictions coverage    92.1 %\n",
            "Number of neighbors  3\n",
            "Local MWI score       2919.332\n",
            "Predictions coverage    93.5 %\n",
            "Number of neighbors  4\n",
            "Local MWI score       2873.407\n",
            "Predictions coverage    94.1 %\n",
            "Number of neighbors  5\n",
            "Local MWI score       2848.774\n",
            "Predictions coverage    94.5 %\n",
            "Number of neighbors  6\n",
            "Local MWI score       2834.98\n",
            "Predictions coverage    94.8 %\n",
            "Number of neighbors  7\n",
            "Local MWI score       2825.093\n",
            "Predictions coverage    94.9 %\n",
            "Number of neighbors  8\n",
            "Local MWI score       2818.609\n",
            "Predictions coverage    95.0 %\n",
            "Number of neighbors  9\n",
            "Local MWI score       2815.421\n",
            "Predictions coverage    95.1 %\n"
          ]
        }
      ],
      "source": [
        "# We run simulation for tunning the parameter related to train_std to balance prediction coverage and MWI score\n",
        "# We tune n_neightbors = i in advance\n",
        "from sklearn.neighbors import KNeighborsRegressor\n",
        "hyper_params = []\n",
        "mwis_score = []\n",
        "models = []\n",
        "cov = []\n",
        "for i in range(1,10):\n",
        "  neigh = KNeighborsRegressor(n_neighbors=i)\n",
        "  neigh.fit(X_train, y_train)\n",
        "  #Prediction\n",
        "  predictions = y_validation.to_frame(name=\"y_true\") # the \"ground truth\" column\n",
        "  mean = neigh.predict(X_validation)\n",
        "  predictions[\"pi_lower\"] = mean - 2 * train_std\n",
        "  predictions[\"pi_upper\"] = mean + 2 * train_std\n",
        "\n",
        "  alpha = 0.1 # the competition alpha\n",
        "  MWIS,coverage = score(predictions[\"y_true\"],predictions[\"pi_lower\"],predictions[\"pi_upper\"],alpha)\n",
        "  models.append(neigh)\n",
        "  hyper_params.append(i)\n",
        "  mwis_score.append(MWIS)\n",
        "  cov.append(coverage)\n",
        "  print(f\"Number of neighbors \", i)\n",
        "  print(f\"Local MWI score      \",round(MWIS,3))\n",
        "  print(\"Predictions coverage   \", round(coverage*100,1),\"%\")"
      ]
    },
    {
      "cell_type": "code",
      "execution_count": 17,
      "metadata": {
        "colab": {
          "base_uri": "https://localhost:8080/",
          "height": 472
        },
        "id": "_j28vqnNBxBr",
        "outputId": "55bf8888-6e7f-426b-abc8-33d8e78f68f0"
      },
      "outputs": [
        {
          "data": {
            "image/png": "[encoded data removed]",
            "text/plain": [
              "<Figure size 640x480 with 1 Axes>"
            ]
          },
          "metadata": {},
          "output_type": "display_data"
        }
      ],
      "source": [
        "from matplotlib.pylab import plt\n",
        "# Plot and label the training and validation loss values\n",
        "plt.plot(hyper_params, cov, label='Coverage')\n",
        "\n",
        "# Add in a title and axes labels\n",
        "plt.title('Training and Validation Loss')\n",
        "plt.xlabel('Number of Neighbors')\n",
        "plt.ylabel('Coverage (%)')\n",
        "\n",
        "\n",
        "\n",
        "# Display the plot\n",
        "plt.legend(loc='best')\n",
        "plt.show()"
      ]
    },
    {
      "cell_type": "code",
      "execution_count": 167,
      "metadata": {
        "colab": {
          "base_uri": "https://localhost:8080/"
        },
        "id": "8f1Chf-2D7sZ",
        "outputId": "9e844db9-1699-47db-de75-420995b9810f"
      },
      "outputs": [
        {
          "name": "stdout",
          "output_type": "stream",
          "text": [
            "Number of neighbors  0.5\n",
            "The value of       5358.114\n",
            "Predictions coverage    41.2 %\n",
            "Number of neighbors  0.75\n",
            "The value of       4176.253\n",
            "Predictions coverage    57.6 %\n",
            "Number of neighbors  1.0\n",
            "The value of       3423.263\n",
            "Predictions coverage    70.6 %\n",
            "Number of neighbors  1.25\n",
            "The value of       3000.674\n",
            "Predictions coverage    80.1 %\n",
            "Number of neighbors  1.5\n",
            "The value of       2813.441\n",
            "Predictions coverage    86.8 %\n",
            "Number of neighbors  1.75\n",
            "The value of       2791.456\n",
            "Predictions coverage    91.3 %\n",
            "Number of neighbors  2.0\n",
            "The value of       2873.407\n",
            "Predictions coverage    94.1 %\n",
            "Number of neighbors  2.25\n",
            "The value of       3024.662\n",
            "Predictions coverage    96.0 %\n",
            "Number of neighbors  2.5\n",
            "The value of       3218.447\n",
            "Predictions coverage    97.1 %\n",
            "Number of neighbors  2.75\n",
            "The value of       3438.654\n",
            "Predictions coverage    97.8 %\n"
          ]
        }
      ],
      "source": [
        "# Tune j * train_std => maximize score and balance better for coverage\n",
        "\n",
        "for j in np.arange(0.5,3,0.25):\n",
        "  neigh = models[3]\n",
        "  #Prediction\n",
        "  predictions = y_validation.to_frame(name=\"y_true\") # the \"ground truth\" column\n",
        "  mean = neigh.predict(X_validation)\n",
        "  predictions[\"pi_lower\"] = mean - j * train_std\n",
        "  predictions[\"pi_upper\"] = mean + j * train_std\n",
        "\n",
        "  alpha = 0.1 # the competition alpha\n",
        "  MWIS,coverage = score(predictions[\"y_true\"],predictions[\"pi_lower\"],predictions[\"pi_upper\"],alpha)\n",
        "  cov.append(coverage)\n",
        "  print(f\"Number of neighbors \", j)\n",
        "  print(f\"The value of      \",round(MWIS,3))\n",
        "  print(\"Predictions coverage   \", round(coverage*100,1),\"%\")"
      ]
    },
    {
      "cell_type": "code",
      "execution_count": 172,
      "metadata": {
        "id": "bdwWx-cDFlfr"
      },
      "outputs": [],
      "source": [
        "knn = models[3]\n",
        "y_pred = knn.predict(X_test)\n",
        "test[\"pi_lower\"] = y_pred - 1.8 * train_std\n",
        "test[\"pi_upper\"] = y_pred + 1.8 * train_std"
      ]
    },
    {
      "cell_type": "code",
      "execution_count": 173,
      "metadata": {
        "id": "AyQ5GW3qGN41"
      },
      "outputs": [],
      "source": [
        "res = test[[\"pi_lower\",\"pi_upper\"]]"
      ]
    },
    {
      "cell_type": "code",
      "execution_count": 174,
      "metadata": {
        "id": "HlmUClo1HL8K"
      },
      "outputs": [],
      "source": [
        "res.to_csv(submission)"
      ]
    }
  ],
  "metadata": {
    "colab": {
      "provenance": []
    },
    "kernelspec": {
      "display_name": "Python 3",
      "name": "python3"
    },
    "language_info": {
      "codemirror_mode": {
        "name": "ipython",
        "version": 3
      },
      "file_extension": ".py",
      "mimetype": "text/x-python",
      "name": "python",
      "nbconvert_exporter": "python",
      "pygments_lexer": "ipython3",
      "version": "3.8.15"
    }
  },
  "nbformat": 4,
  "nbformat_minor": 0
}
