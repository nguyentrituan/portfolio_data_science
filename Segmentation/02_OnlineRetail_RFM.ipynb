{
 "cells": [
  {
   "cell_type": "markdown",
   "metadata": {},
   "source": [
    "# Hands-on 01: Online retail - RFM"
   ]
  },
  {
   "cell_type": "markdown",
   "metadata": {},
   "source": [
    "## Concepts\n",
    "\n",
    "Segmentation is the technique to uncover information, by **Categorizing and understandings**. By segmenting customer, we can compare and tailor the treatment for each segment (for example: different pricing, promotions, product placement)\n",
    "\n",
    "### Customer Segmentation\n",
    "\n",
    "> The general principal of segmentation is to split the population into subgroups by various customer attributes, so that (we hope) the members within a subgroup share something common, and between subgroups we hope to see some differences in patterns. \n",
    "\n",
    "> *For example*: \n",
    "> Split by age, so member in young ages are expected to behave similarly. While the behaviors of young ages are different from the group of middle age.\n",
    "\n",
    "- When segmenting the customer base into subgroups, we can use metrics that represent characteristics and their statistics to describe and compare among groups\n",
    "- Segmentation could start with some arbitrary subgroups: demographic info (age, gender), geographic infor (state, post code), behaviors (transactions). For example:\n",
    "\t- Segment by States as in  - Distribution of `yearly_amount_spent` by states\n",
    "    - Convert numerical variable `length_of_membership` to high-mid-low bin and compare the `yearly_amount_spent`\n",
    "    - Segment clients by `age_group` and compare `conversion_rate`\n",
    "    - Segment clients by `marital` and compare `conversions`\n",
    "    - Segment clients by both `education` and `marital` to compare `conversions`\n",
    "- It could become exponentially difficult, when the number of attributes to segment users increases (that we can use some Machine Learning for the task of customer segmentation)\n",
    "\n",
    "### Objectives\n",
    "\n",
    "Segmentation can help a business in multitude of ways:\n",
    "- `Customer Understanding`: deeper understandings about customers, their attributes and behaviors\n",
    "- `Target Marketing`: enable the business to focus marketing effort effectively and efficiently\n",
    "- `Optimal Product Placement`: good segmentation strategy will help the business to develop and offer new products\n",
    "- `Categorize customers`: high revenue customers for better advantages, untapped customers, loyal customers.\n",
    "\n",
    "## RFM Model\n",
    "\n",
    "In the topic of Segmentation, we will introduce the RFM model, which is a popular model in marketing and customer segmentation for determining Customer Value (CV).\n",
    "\n",
    "\n",
    "### What's R, F, M?\n",
    "\n",
    "RFM segments customers by 3 important features:\n",
    "\n",
    "1. `Recency`: to measure how recent the last interaction with a customer\n",
    "2. `Frequency`: how frequent a customer interact with the business\n",
    "3. `Monetary`: the monetary value a customer generate\n",
    "\n",
    "Normally, each element in `R`, `F`, `M` will be assigned a score from 1-5 (5 as the best), or value of low, mid, high. \n",
    "\t- So that, the customer with `RFM score = 555` (R=5, F=5, M=5) will be very recently active, purchase frequently and strong purchasing power - 'spender' (high R, high F, high M) -> Most important group of users\n",
    "\t- On the other hand, `RFM score = 111` are customers who buy only one very cheap product for a long time ago.\n",
    "\n",
    "### Discretization/Splits\n",
    "- Notice that when we compute the R, F, M from the data (we will see in details in this notebook), they are numerical values\n",
    "\t- For example of `Frequency` (as below), we count times of purchases, having value from 0 to 25. Then, we need to split them into 5 bins\n",
    "\t- How to do it?\n",
    "- There are several ways to discretize R, F, M into bins:\n",
    "\t- Percentiles or quantiles \n",
    "\t- Pareto Rule - 80/20: Split into `<80th percentiles`, and `>=80th percentiles`\n",
    "\t- Arbitrary/Expert Split (based on business acumen and experience)\n",
    "\t\n",
    "- The number of splits are up to the DA (and inputs from business). We can also split by low/mid/high. \n",
    "\t- From that, we will have a matrix as below, to classify customers into different groups, based on the combination of their segments in each factor of RFM\n",
    "\n",
    "\n",
    "### RFM Variants\n",
    "\n",
    "Notice that you do not need to stick with the classic RFM, there are multiple variants (you can also create one variants from your creativity):\n",
    "\n",
    "- `RFD`: Recency, Frequency, Duration (for viewership/streaming business, such as Youtube, Spotify)\n",
    "- `RFE`: Recency, Frequency, Engagement - A broader version, where Engagement is up to the design of business/DA\n",
    "- `RFMTC`: Recency, Frequency, Monetary Value, Time, Churn rate - Augmented model\n"
   ]
  },
  {
   "cell_type": "markdown",
   "metadata": {},
   "source": [
    "Go through the notebook and fill in TODO part (Google might help you along the way). \n",
    "**There are 09 in total**."
   ]
  },
  {
   "cell_type": "code",
   "execution_count": 1,
   "metadata": {
    "id": "6ZkwGAe3oQs1"
   },
   "outputs": [],
   "source": [
    "import numpy as np\n",
    "import pandas as pd\n",
    "import matplotlib.pyplot as plt\n",
    "from matplotlib import rcParams\n",
    "import seaborn as sns \n",
    "import pandas as pd \n",
    "import missingno"
   ]
  },
  {
   "cell_type": "code",
   "execution_count": 2,
   "metadata": {
    "id": "qDjafnMMwSPe"
   },
   "outputs": [],
   "source": [
    "# OPTIONA:\n",
    "import warnings\n",
    "warnings.filterwarnings('ignore')"
   ]
  },
  {
   "cell_type": "markdown",
   "metadata": {
    "id": "9i-eaagfrNDe"
   },
   "source": [
    "## Load Data"
   ]
  },
  {
   "cell_type": "code",
   "execution_count": 4,
   "metadata": {
    "id": "hJBiIkAnrP9X"
   },
   "outputs": [],
   "source": [
    "df = pd.read_excel('data/Online Retail.xlsx', dtype={'CustomerID': str})"
   ]
  },
  {
   "cell_type": "code",
   "execution_count": 5,
   "metadata": {
    "colab": {
     "base_uri": "https://localhost:8080/",
     "height": 197
    },
    "id": "wKBtYcVvrUem",
    "outputId": "cc69ffb4-61a6-4177-dc89-c66001a829d9"
   },
   "outputs": [
    {
     "data": {
      "text/html": [
       "<div>\n",
       "<style scoped>\n",
       "    .dataframe tbody tr th:only-of-type {\n",
       "        vertical-align: middle;\n",
       "    }\n",
       "\n",
       "    .dataframe tbody tr th {\n",
       "        vertical-align: top;\n",
       "    }\n",
       "\n",
       "    .dataframe thead th {\n",
       "        text-align: right;\n",
       "    }\n",
       "</style>\n",
       "<table border=\"1\" class=\"dataframe\">\n",
       "  <thead>\n",
       "    <tr style=\"text-align: right;\">\n",
       "      <th></th>\n",
       "      <th>InvoiceNo</th>\n",
       "      <th>StockCode</th>\n",
       "      <th>Description</th>\n",
       "      <th>Quantity</th>\n",
       "      <th>InvoiceDate</th>\n",
       "      <th>UnitPrice</th>\n",
       "      <th>CustomerID</th>\n",
       "      <th>Country</th>\n",
       "    </tr>\n",
       "  </thead>\n",
       "  <tbody>\n",
       "    <tr>\n",
       "      <th>0</th>\n",
       "      <td>536365</td>\n",
       "      <td>85123A</td>\n",
       "      <td>WHITE HANGING HEART T-LIGHT HOLDER</td>\n",
       "      <td>6</td>\n",
       "      <td>2010-12-01 08:26:00</td>\n",
       "      <td>2.55</td>\n",
       "      <td>17850</td>\n",
       "      <td>United Kingdom</td>\n",
       "    </tr>\n",
       "    <tr>\n",
       "      <th>1</th>\n",
       "      <td>536365</td>\n",
       "      <td>71053</td>\n",
       "      <td>WHITE METAL LANTERN</td>\n",
       "      <td>6</td>\n",
       "      <td>2010-12-01 08:26:00</td>\n",
       "      <td>3.39</td>\n",
       "      <td>17850</td>\n",
       "      <td>United Kingdom</td>\n",
       "    </tr>\n",
       "    <tr>\n",
       "      <th>2</th>\n",
       "      <td>536365</td>\n",
       "      <td>84406B</td>\n",
       "      <td>CREAM CUPID HEARTS COAT HANGER</td>\n",
       "      <td>8</td>\n",
       "      <td>2010-12-01 08:26:00</td>\n",
       "      <td>2.75</td>\n",
       "      <td>17850</td>\n",
       "      <td>United Kingdom</td>\n",
       "    </tr>\n",
       "    <tr>\n",
       "      <th>3</th>\n",
       "      <td>536365</td>\n",
       "      <td>84029G</td>\n",
       "      <td>KNITTED UNION FLAG HOT WATER BOTTLE</td>\n",
       "      <td>6</td>\n",
       "      <td>2010-12-01 08:26:00</td>\n",
       "      <td>3.39</td>\n",
       "      <td>17850</td>\n",
       "      <td>United Kingdom</td>\n",
       "    </tr>\n",
       "    <tr>\n",
       "      <th>4</th>\n",
       "      <td>536365</td>\n",
       "      <td>84029E</td>\n",
       "      <td>RED WOOLLY HOTTIE WHITE HEART.</td>\n",
       "      <td>6</td>\n",
       "      <td>2010-12-01 08:26:00</td>\n",
       "      <td>3.39</td>\n",
       "      <td>17850</td>\n",
       "      <td>United Kingdom</td>\n",
       "    </tr>\n",
       "  </tbody>\n",
       "</table>\n",
       "</div>"
      ],
      "text/plain": [
       "  InvoiceNo StockCode                          Description  Quantity  \\\n",
       "0    536365    85123A   WHITE HANGING HEART T-LIGHT HOLDER         6   \n",
       "1    536365     71053                  WHITE METAL LANTERN         6   \n",
       "2    536365    84406B       CREAM CUPID HEARTS COAT HANGER         8   \n",
       "3    536365    84029G  KNITTED UNION FLAG HOT WATER BOTTLE         6   \n",
       "4    536365    84029E       RED WOOLLY HOTTIE WHITE HEART.         6   \n",
       "\n",
       "          InvoiceDate  UnitPrice CustomerID         Country  \n",
       "0 2010-12-01 08:26:00       2.55      17850  United Kingdom  \n",
       "1 2010-12-01 08:26:00       3.39      17850  United Kingdom  \n",
       "2 2010-12-01 08:26:00       2.75      17850  United Kingdom  \n",
       "3 2010-12-01 08:26:00       3.39      17850  United Kingdom  \n",
       "4 2010-12-01 08:26:00       3.39      17850  United Kingdom  "
      ]
     },
     "execution_count": 5,
     "metadata": {},
     "output_type": "execute_result"
    }
   ],
   "source": [
    "df.head()"
   ]
  },
  {
   "cell_type": "code",
   "execution_count": 6,
   "metadata": {
    "id": "lUFHL26uuLKD"
   },
   "outputs": [],
   "source": [
    "# Create the order_value\n",
    "df['order_value'] = df.Quantity * df.UnitPrice "
   ]
  },
  {
   "cell_type": "code",
   "execution_count": 8,
   "metadata": {},
   "outputs": [
    {
     "data": {
      "text/plain": [
       "0    15.30\n",
       "1    20.34\n",
       "2    22.00\n",
       "3    20.34\n",
       "4    20.34\n",
       "Name: order_value, dtype: float64"
      ]
     },
     "execution_count": 8,
     "metadata": {},
     "output_type": "execute_result"
    }
   ],
   "source": [
    "df['order_value'].head()"
   ]
  },
  {
   "cell_type": "markdown",
   "metadata": {
    "id": "l1mhuMo9uaol"
   },
   "source": [
    "## Data Explore"
   ]
  },
  {
   "cell_type": "code",
   "execution_count": 9,
   "metadata": {
    "colab": {
     "base_uri": "https://localhost:8080/"
    },
    "id": "4vyY5fGsuCJi",
    "outputId": "e9109679-2789-447e-8011-ec8e4f910e93"
   },
   "outputs": [
    {
     "name": "stdout",
     "output_type": "stream",
     "text": [
      "<class 'pandas.core.frame.DataFrame'>\n",
      "RangeIndex: 541909 entries, 0 to 541908\n",
      "Data columns (total 9 columns):\n",
      " #   Column       Non-Null Count   Dtype         \n",
      "---  ------       --------------   -----         \n",
      " 0   InvoiceNo    541909 non-null  object        \n",
      " 1   StockCode    541909 non-null  object        \n",
      " 2   Description  540455 non-null  object        \n",
      " 3   Quantity     541909 non-null  int64         \n",
      " 4   InvoiceDate  541909 non-null  datetime64[ns]\n",
      " 5   UnitPrice    541909 non-null  float64       \n",
      " 6   CustomerID   406829 non-null  object        \n",
      " 7   Country      541909 non-null  object        \n",
      " 8   order_value  541909 non-null  float64       \n",
      "dtypes: datetime64[ns](1), float64(2), int64(1), object(5)\n",
      "memory usage: 37.2+ MB\n"
     ]
    }
   ],
   "source": [
    "df.info()"
   ]
  },
  {
   "cell_type": "markdown",
   "metadata": {
    "id": "F4bgksjeOv5c"
   },
   "source": [
    "### Missing Values"
   ]
  },
  {
   "cell_type": "code",
   "execution_count": 10,
   "metadata": {
    "colab": {
     "base_uri": "https://localhost:8080/",
     "height": 846
    },
    "id": "iJ-QcnC_r8Gj",
    "outputId": "431bbdd0-948f-4c09-d98b-312b0e4cbc68"
   },
   "outputs": [
    {
     "name": "stdout",
     "output_type": "stream",
     "text": [
      "\n",
      "Preview of data with null values:\n",
      "==========\n",
      "     InvoiceNo StockCode                      Description  Quantity  \\\n",
      "622     536414     22139                              NaN        56   \n",
      "1443    536544     21773  DECORATIVE ROSE BATHROOM BOTTLE         1   \n",
      "1444    536544     21774  DECORATIVE CATS BATHROOM BOTTLE         2   \n",
      "\n",
      "             InvoiceDate  UnitPrice CustomerID         Country  order_value  \n",
      "622  2010-12-01 11:52:00       0.00        NaN  United Kingdom         0.00  \n",
      "1443 2010-12-01 14:32:00       2.51        NaN  United Kingdom         2.51  \n",
      "1444 2010-12-01 14:32:00       2.51        NaN  United Kingdom         5.02  \n",
      "(135080, 9)\n"
     ]
    },
    {
     "data": {
      "image/png": "[encoded data removed]",
      "text/plain": [
       "<Figure size 2500x1000 with 2 Axes>"
      ]
     },
     "metadata": {},
     "output_type": "display_data"
    }
   ],
   "source": [
    "## generate preview of entries with null values\n",
    "print(\"\\nPreview of data with null values:\")\n",
    "print('='*10)\n",
    "print(df[df.isnull().any(axis=1)].head(3))\n",
    "print(df[df.isnull().any(axis=1)].shape)\n",
    "missingno.matrix(df)\n",
    "plt.show()"
   ]
  },
  {
   "cell_type": "code",
   "execution_count": 11,
   "metadata": {
    "colab": {
     "base_uri": "https://localhost:8080/"
    },
    "id": "OmHDpAjKQjuA",
    "outputId": "76b171db-fcd5-4afe-b358-f4b46477f365"
   },
   "outputs": [
    {
     "name": "stdout",
     "output_type": "stream",
     "text": [
      "<class 'pandas.core.frame.DataFrame'>\n",
      "Int64Index: 406829 entries, 0 to 541908\n",
      "Data columns (total 9 columns):\n",
      " #   Column       Non-Null Count   Dtype         \n",
      "---  ------       --------------   -----         \n",
      " 0   InvoiceNo    406829 non-null  object        \n",
      " 1   StockCode    406829 non-null  object        \n",
      " 2   Description  406829 non-null  object        \n",
      " 3   Quantity     406829 non-null  int64         \n",
      " 4   InvoiceDate  406829 non-null  datetime64[ns]\n",
      " 5   UnitPrice    406829 non-null  float64       \n",
      " 6   CustomerID   406829 non-null  object        \n",
      " 7   Country      406829 non-null  object        \n",
      " 8   order_value  406829 non-null  float64       \n",
      "dtypes: datetime64[ns](1), float64(2), int64(1), object(5)\n",
      "memory usage: 31.0+ MB\n"
     ]
    }
   ],
   "source": [
    "# drop na\n",
    "df1 = df.dropna()\n",
    "df1.info()"
   ]
  },
  {
   "cell_type": "markdown",
   "metadata": {
    "id": "qLZhMjR3Pu3H"
   },
   "source": [
    "### Outliers"
   ]
  },
  {
   "cell_type": "code",
   "execution_count": 12,
   "metadata": {
    "colab": {
     "base_uri": "https://localhost:8080/",
     "height": 154
    },
    "id": "u1ghR4uGPJLW",
    "outputId": "e14a3d86-2aa4-48af-83eb-a9b4dc700244"
   },
   "outputs": [
    {
     "data": {
      "text/html": [
       "<div>\n",
       "<style scoped>\n",
       "    .dataframe tbody tr th:only-of-type {\n",
       "        vertical-align: middle;\n",
       "    }\n",
       "\n",
       "    .dataframe tbody tr th {\n",
       "        vertical-align: top;\n",
       "    }\n",
       "\n",
       "    .dataframe thead th {\n",
       "        text-align: right;\n",
       "    }\n",
       "</style>\n",
       "<table border=\"1\" class=\"dataframe\">\n",
       "  <thead>\n",
       "    <tr style=\"text-align: right;\">\n",
       "      <th></th>\n",
       "      <th>count</th>\n",
       "      <th>mean</th>\n",
       "      <th>std</th>\n",
       "      <th>min</th>\n",
       "      <th>1%</th>\n",
       "      <th>5%</th>\n",
       "      <th>25%</th>\n",
       "      <th>50%</th>\n",
       "      <th>75%</th>\n",
       "      <th>90%</th>\n",
       "      <th>95%</th>\n",
       "      <th>99%</th>\n",
       "      <th>max</th>\n",
       "    </tr>\n",
       "  </thead>\n",
       "  <tbody>\n",
       "    <tr>\n",
       "      <th>Quantity</th>\n",
       "      <td>406829.0</td>\n",
       "      <td>12.061303</td>\n",
       "      <td>248.693370</td>\n",
       "      <td>-80995.0</td>\n",
       "      <td>-2.00</td>\n",
       "      <td>1.00</td>\n",
       "      <td>2.00</td>\n",
       "      <td>5.00</td>\n",
       "      <td>12.00</td>\n",
       "      <td>24.00</td>\n",
       "      <td>36.0</td>\n",
       "      <td>120.00</td>\n",
       "      <td>80995.0</td>\n",
       "    </tr>\n",
       "    <tr>\n",
       "      <th>UnitPrice</th>\n",
       "      <td>406829.0</td>\n",
       "      <td>3.460471</td>\n",
       "      <td>69.315162</td>\n",
       "      <td>0.0</td>\n",
       "      <td>0.21</td>\n",
       "      <td>0.42</td>\n",
       "      <td>1.25</td>\n",
       "      <td>1.95</td>\n",
       "      <td>3.75</td>\n",
       "      <td>6.75</td>\n",
       "      <td>8.5</td>\n",
       "      <td>15.00</td>\n",
       "      <td>38970.0</td>\n",
       "    </tr>\n",
       "    <tr>\n",
       "      <th>order_value</th>\n",
       "      <td>406829.0</td>\n",
       "      <td>20.401854</td>\n",
       "      <td>427.591718</td>\n",
       "      <td>-168469.6</td>\n",
       "      <td>-9.90</td>\n",
       "      <td>0.85</td>\n",
       "      <td>4.20</td>\n",
       "      <td>11.10</td>\n",
       "      <td>19.50</td>\n",
       "      <td>35.40</td>\n",
       "      <td>67.2</td>\n",
       "      <td>199.68</td>\n",
       "      <td>168469.6</td>\n",
       "    </tr>\n",
       "  </tbody>\n",
       "</table>\n",
       "</div>"
      ],
      "text/plain": [
       "                count       mean         std       min    1%    5%   25%  \\\n",
       "Quantity     406829.0  12.061303  248.693370  -80995.0 -2.00  1.00  2.00   \n",
       "UnitPrice    406829.0   3.460471   69.315162       0.0  0.21  0.42  1.25   \n",
       "order_value  406829.0  20.401854  427.591718 -168469.6 -9.90  0.85  4.20   \n",
       "\n",
       "               50%    75%    90%   95%     99%       max  \n",
       "Quantity      5.00  12.00  24.00  36.0  120.00   80995.0  \n",
       "UnitPrice     1.95   3.75   6.75   8.5   15.00   38970.0  \n",
       "order_value  11.10  19.50  35.40  67.2  199.68  168469.6  "
      ]
     },
     "execution_count": 12,
     "metadata": {},
     "output_type": "execute_result"
    }
   ],
   "source": [
    "df1.describe([0.01,0.05,0.25,0.50, 0.75, 0.90,0.95,0.99]).T"
   ]
  },
  {
   "cell_type": "code",
   "execution_count": null,
   "metadata": {},
   "outputs": [],
   "source": [
    "# TODO_01: Explore the distribution by hist or describe\n",
    "# Filter outlier on quantity and order values"
   ]
  },
  {
   "cell_type": "code",
   "execution_count": 14,
   "metadata": {},
   "outputs": [],
   "source": [
    "q_cap_90 = df['Quantity'].quantile(0.95)\n",
    "order_val_cap_90 = df['order_value'].quantile(0.95)"
   ]
  },
  {
   "cell_type": "code",
   "execution_count": 15,
   "metadata": {
    "colab": {
     "base_uri": "https://localhost:8080/",
     "height": 154
    },
    "id": "KT_92ZaDRHO1",
    "outputId": "8473f505-9785-4ffb-c40c-1976df8479ff"
   },
   "outputs": [
    {
     "data": {
      "text/html": [
       "<div>\n",
       "<style scoped>\n",
       "    .dataframe tbody tr th:only-of-type {\n",
       "        vertical-align: middle;\n",
       "    }\n",
       "\n",
       "    .dataframe tbody tr th {\n",
       "        vertical-align: top;\n",
       "    }\n",
       "\n",
       "    .dataframe thead th {\n",
       "        text-align: right;\n",
       "    }\n",
       "</style>\n",
       "<table border=\"1\" class=\"dataframe\">\n",
       "  <thead>\n",
       "    <tr style=\"text-align: right;\">\n",
       "      <th></th>\n",
       "      <th>count</th>\n",
       "      <th>mean</th>\n",
       "      <th>std</th>\n",
       "      <th>min</th>\n",
       "      <th>1%</th>\n",
       "      <th>5%</th>\n",
       "      <th>25%</th>\n",
       "      <th>50%</th>\n",
       "      <th>75%</th>\n",
       "      <th>90%</th>\n",
       "      <th>95%</th>\n",
       "      <th>99%</th>\n",
       "      <th>max</th>\n",
       "    </tr>\n",
       "  </thead>\n",
       "  <tbody>\n",
       "    <tr>\n",
       "      <th>Quantity</th>\n",
       "      <td>397924.0</td>\n",
       "      <td>13.021823</td>\n",
       "      <td>180.420210</td>\n",
       "      <td>1.0</td>\n",
       "      <td>1.00</td>\n",
       "      <td>1.00</td>\n",
       "      <td>2.00</td>\n",
       "      <td>6.00</td>\n",
       "      <td>12.00</td>\n",
       "      <td>24.00</td>\n",
       "      <td>36.0</td>\n",
       "      <td>120.00</td>\n",
       "      <td>80995.00</td>\n",
       "    </tr>\n",
       "    <tr>\n",
       "      <th>UnitPrice</th>\n",
       "      <td>397924.0</td>\n",
       "      <td>3.116174</td>\n",
       "      <td>22.096788</td>\n",
       "      <td>0.0</td>\n",
       "      <td>0.21</td>\n",
       "      <td>0.42</td>\n",
       "      <td>1.25</td>\n",
       "      <td>1.95</td>\n",
       "      <td>3.75</td>\n",
       "      <td>6.35</td>\n",
       "      <td>8.5</td>\n",
       "      <td>14.95</td>\n",
       "      <td>8142.75</td>\n",
       "    </tr>\n",
       "    <tr>\n",
       "      <th>order_value</th>\n",
       "      <td>397924.0</td>\n",
       "      <td>22.394749</td>\n",
       "      <td>309.055588</td>\n",
       "      <td>0.0</td>\n",
       "      <td>0.55</td>\n",
       "      <td>1.25</td>\n",
       "      <td>4.68</td>\n",
       "      <td>11.80</td>\n",
       "      <td>19.80</td>\n",
       "      <td>35.40</td>\n",
       "      <td>67.5</td>\n",
       "      <td>202.50</td>\n",
       "      <td>168469.60</td>\n",
       "    </tr>\n",
       "  </tbody>\n",
       "</table>\n",
       "</div>"
      ],
      "text/plain": [
       "                count       mean         std  min    1%    5%   25%    50%  \\\n",
       "Quantity     397924.0  13.021823  180.420210  1.0  1.00  1.00  2.00   6.00   \n",
       "UnitPrice    397924.0   3.116174   22.096788  0.0  0.21  0.42  1.25   1.95   \n",
       "order_value  397924.0  22.394749  309.055588  0.0  0.55  1.25  4.68  11.80   \n",
       "\n",
       "               75%    90%   95%     99%        max  \n",
       "Quantity     12.00  24.00  36.0  120.00   80995.00  \n",
       "UnitPrice     3.75   6.35   8.5   14.95    8142.75  \n",
       "order_value  19.80  35.40  67.5  202.50  168469.60  "
      ]
     },
     "execution_count": 15,
     "metadata": {},
     "output_type": "execute_result"
    }
   ],
   "source": [
    "q_flr = 0\n",
    "q_cap = q_cap_90\n",
    "order_val_cap = order_val_cap_90\n",
    "\n",
    "df1 = df1[df1.Quantity >= q_flr]\n",
    "df1.describe([0.01,0.05,0.25,0.50, 0.75, 0.90,0.95,0.99]).T"
   ]
  },
  {
   "cell_type": "code",
   "execution_count": 16,
   "metadata": {
    "colab": {
     "base_uri": "https://localhost:8080/",
     "height": 176
    },
    "id": "lZbBG6fPboSW",
    "outputId": "16cd6680-43ff-4f0a-d0b5-3a7ae1d34f01"
   },
   "outputs": [
    {
     "data": {
      "text/html": [
       "<div>\n",
       "<style scoped>\n",
       "    .dataframe tbody tr th:only-of-type {\n",
       "        vertical-align: middle;\n",
       "    }\n",
       "\n",
       "    .dataframe tbody tr th {\n",
       "        vertical-align: top;\n",
       "    }\n",
       "\n",
       "    .dataframe thead th {\n",
       "        text-align: right;\n",
       "    }\n",
       "</style>\n",
       "<table border=\"1\" class=\"dataframe\">\n",
       "  <thead>\n",
       "    <tr style=\"text-align: right;\">\n",
       "      <th></th>\n",
       "      <th>count</th>\n",
       "      <th>mean</th>\n",
       "      <th>std</th>\n",
       "      <th>min</th>\n",
       "      <th>1%</th>\n",
       "      <th>5%</th>\n",
       "      <th>25%</th>\n",
       "      <th>50%</th>\n",
       "      <th>75%</th>\n",
       "      <th>90%</th>\n",
       "      <th>95%</th>\n",
       "      <th>99%</th>\n",
       "      <th>max</th>\n",
       "    </tr>\n",
       "  </thead>\n",
       "  <tbody>\n",
       "    <tr>\n",
       "      <th>Quantity</th>\n",
       "      <td>363409.0</td>\n",
       "      <td>6.848388</td>\n",
       "      <td>6.546333</td>\n",
       "      <td>1.0</td>\n",
       "      <td>1.00</td>\n",
       "      <td>1.00</td>\n",
       "      <td>2.00</td>\n",
       "      <td>4.00</td>\n",
       "      <td>12.00</td>\n",
       "      <td>12.00</td>\n",
       "      <td>24.0</td>\n",
       "      <td>25.00</td>\n",
       "      <td>28.00</td>\n",
       "    </tr>\n",
       "    <tr>\n",
       "      <th>UnitPrice</th>\n",
       "      <td>363409.0</td>\n",
       "      <td>2.862839</td>\n",
       "      <td>3.082083</td>\n",
       "      <td>0.0</td>\n",
       "      <td>0.29</td>\n",
       "      <td>0.42</td>\n",
       "      <td>1.25</td>\n",
       "      <td>1.95</td>\n",
       "      <td>3.75</td>\n",
       "      <td>5.95</td>\n",
       "      <td>8.5</td>\n",
       "      <td>14.95</td>\n",
       "      <td>57.95</td>\n",
       "    </tr>\n",
       "    <tr>\n",
       "      <th>order_value</th>\n",
       "      <td>363409.0</td>\n",
       "      <td>12.296227</td>\n",
       "      <td>9.945648</td>\n",
       "      <td>0.0</td>\n",
       "      <td>0.55</td>\n",
       "      <td>1.25</td>\n",
       "      <td>4.16</td>\n",
       "      <td>10.20</td>\n",
       "      <td>17.34</td>\n",
       "      <td>25.00</td>\n",
       "      <td>32.7</td>\n",
       "      <td>46.80</td>\n",
       "      <td>59.40</td>\n",
       "    </tr>\n",
       "  </tbody>\n",
       "</table>\n",
       "</div>"
      ],
      "text/plain": [
       "                count       mean       std  min    1%    5%   25%    50%  \\\n",
       "Quantity     363409.0   6.848388  6.546333  1.0  1.00  1.00  2.00   4.00   \n",
       "UnitPrice    363409.0   2.862839  3.082083  0.0  0.29  0.42  1.25   1.95   \n",
       "order_value  363409.0  12.296227  9.945648  0.0  0.55  1.25  4.16  10.20   \n",
       "\n",
       "               75%    90%   95%    99%    max  \n",
       "Quantity     12.00  12.00  24.0  25.00  28.00  \n",
       "UnitPrice     3.75   5.95   8.5  14.95  57.95  \n",
       "order_value  17.34  25.00  32.7  46.80  59.40  "
      ]
     },
     "execution_count": 16,
     "metadata": {},
     "output_type": "execute_result"
    }
   ],
   "source": [
    "df1 = df1[(df1.Quantity < q_cap) & (df1.order_value < order_val_cap)]\n",
    "df1.describe([0.01,0.05,0.25,0.50, 0.75, 0.90,0.95,0.99]).T"
   ]
  },
  {
   "cell_type": "markdown",
   "metadata": {
    "id": "vcMsvzkzTGq1"
   },
   "source": [
    "## Create RFM Score"
   ]
  },
  {
   "cell_type": "markdown",
   "metadata": {
    "id": "GnSHIa0ATPt5"
   },
   "source": [
    "### Recency\n",
    "\n",
    "`TODO_02`: How we define Recency? Add as markdown notes below\n",
    "\n",
    "~> Your comment"
   ]
  },
  {
   "cell_type": "code",
   "execution_count": 17,
   "metadata": {
    "colab": {
     "base_uri": "https://localhost:8080/"
    },
    "id": "GvrM5yTKTUUF",
    "outputId": "133fc5fe-782e-4a0e-daeb-4ac1d17d361d"
   },
   "outputs": [
    {
     "name": "stdout",
     "output_type": "stream",
     "text": [
      "Min Date 2010-12-01 08:26:00 \n",
      "Max Date 2011-12-09 12:50:00\n"
     ]
    }
   ],
   "source": [
    "# First, detect the most recent day in the datasets\n",
    "print(\"Min Date\", df1[\"InvoiceDate\"].min(), \"\\nMax Date\", df1[\"InvoiceDate\"].max())"
   ]
  },
  {
   "cell_type": "code",
   "execution_count": 18,
   "metadata": {
    "colab": {
     "base_uri": "https://localhost:8080/",
     "height": 197
    },
    "id": "iDN0t0czTeVD",
    "outputId": "f600c5f9-a0ce-4ccc-b664-1ae185fc8937"
   },
   "outputs": [
    {
     "data": {
      "text/html": [
       "<div>\n",
       "<style scoped>\n",
       "    .dataframe tbody tr th:only-of-type {\n",
       "        vertical-align: middle;\n",
       "    }\n",
       "\n",
       "    .dataframe tbody tr th {\n",
       "        vertical-align: top;\n",
       "    }\n",
       "\n",
       "    .dataframe thead th {\n",
       "        text-align: right;\n",
       "    }\n",
       "</style>\n",
       "<table border=\"1\" class=\"dataframe\">\n",
       "  <thead>\n",
       "    <tr style=\"text-align: right;\">\n",
       "      <th></th>\n",
       "      <th>Recency</th>\n",
       "    </tr>\n",
       "    <tr>\n",
       "      <th>CustomerID</th>\n",
       "      <th></th>\n",
       "    </tr>\n",
       "  </thead>\n",
       "  <tbody>\n",
       "    <tr>\n",
       "      <th>12347</th>\n",
       "      <td>1</td>\n",
       "    </tr>\n",
       "    <tr>\n",
       "      <th>12348</th>\n",
       "      <td>74</td>\n",
       "    </tr>\n",
       "    <tr>\n",
       "      <th>12349</th>\n",
       "      <td>18</td>\n",
       "    </tr>\n",
       "    <tr>\n",
       "      <th>12350</th>\n",
       "      <td>309</td>\n",
       "    </tr>\n",
       "    <tr>\n",
       "      <th>12352</th>\n",
       "      <td>35</td>\n",
       "    </tr>\n",
       "  </tbody>\n",
       "</table>\n",
       "</div>"
      ],
      "text/plain": [
       "            Recency\n",
       "CustomerID         \n",
       "12347             1\n",
       "12348            74\n",
       "12349            18\n",
       "12350           309\n",
       "12352            35"
      ]
     },
     "execution_count": 18,
     "metadata": {},
     "output_type": "execute_result"
    }
   ],
   "source": [
    "r_series = (df1[\"InvoiceDate\"].max() - df1.groupby(\"CustomerID\").agg({\"InvoiceDate\":\"max\"})).rename(columns = {\"InvoiceDate\":\"Recency\"})\n",
    "r_series['Recency'] = r_series['Recency'].apply(lambda x: x.days) # Use apply to map the function (lambda) to all elements of the series\n",
    "r_series.head()"
   ]
  },
  {
   "cell_type": "code",
   "execution_count": 19,
   "metadata": {
    "colab": {
     "base_uri": "https://localhost:8080/",
     "height": 316
    },
    "id": "SFAvehcnbTnf",
    "outputId": "6a065dea-b70b-4361-baad-65e15a1968d5"
   },
   "outputs": [
    {
     "data": {
      "text/plain": [
       "array([[<AxesSubplot:title={'center':'Recency'}>]], dtype=object)"
      ]
     },
     "execution_count": 19,
     "metadata": {},
     "output_type": "execute_result"
    },
    {
     "data": {
      "image/png": "[encoded data removed]",
      "text/plain": [
       "<Figure size 640x480 with 1 Axes>"
      ]
     },
     "metadata": {},
     "output_type": "display_data"
    }
   ],
   "source": [
    "r_series.hist()"
   ]
  },
  {
   "cell_type": "markdown",
   "metadata": {
    "id": "M7HTavjoT4jl"
   },
   "source": [
    "### Frequency\n",
    "\n",
    "`TODO_03`: How we define Frequency? Add as markdown notes below\n",
    "\n",
    "~> Your comment"
   ]
  },
  {
   "cell_type": "code",
   "execution_count": 20,
   "metadata": {
    "ExecuteTime": {
     "end_time": "2022-10-28T04:15:30.194378Z",
     "start_time": "2022-10-28T04:15:30.051299Z"
    },
    "colab": {
     "base_uri": "https://localhost:8080/",
     "height": 197
    },
    "id": "stEJt7PBW5Tb",
    "outputId": "c3211a35-bede-491b-981e-0c65a99e252c"
   },
   "outputs": [
    {
     "data": {
      "text/html": [
       "<div>\n",
       "<style scoped>\n",
       "    .dataframe tbody tr th:only-of-type {\n",
       "        vertical-align: middle;\n",
       "    }\n",
       "\n",
       "    .dataframe tbody tr th {\n",
       "        vertical-align: top;\n",
       "    }\n",
       "\n",
       "    .dataframe thead th {\n",
       "        text-align: right;\n",
       "    }\n",
       "</style>\n",
       "<table border=\"1\" class=\"dataframe\">\n",
       "  <thead>\n",
       "    <tr style=\"text-align: right;\">\n",
       "      <th></th>\n",
       "      <th>Frequency</th>\n",
       "    </tr>\n",
       "    <tr>\n",
       "      <th>CustomerID</th>\n",
       "      <th></th>\n",
       "    </tr>\n",
       "  </thead>\n",
       "  <tbody>\n",
       "    <tr>\n",
       "      <th>12347</th>\n",
       "      <td>7</td>\n",
       "    </tr>\n",
       "    <tr>\n",
       "      <th>12348</th>\n",
       "      <td>4</td>\n",
       "    </tr>\n",
       "    <tr>\n",
       "      <th>12349</th>\n",
       "      <td>1</td>\n",
       "    </tr>\n",
       "    <tr>\n",
       "      <th>12350</th>\n",
       "      <td>1</td>\n",
       "    </tr>\n",
       "    <tr>\n",
       "      <th>12352</th>\n",
       "      <td>7</td>\n",
       "    </tr>\n",
       "  </tbody>\n",
       "</table>\n",
       "</div>"
      ],
      "text/plain": [
       "            Frequency\n",
       "CustomerID           \n",
       "12347               7\n",
       "12348               4\n",
       "12349               1\n",
       "12350               1\n",
       "12352               7"
      ]
     },
     "execution_count": 20,
     "metadata": {},
     "output_type": "execute_result"
    }
   ],
   "source": [
    "f_series = df1.groupby(\"CustomerID\").agg({\"InvoiceDate\":\"nunique\"}).rename(columns={\"InvoiceDate\": \"Frequency\"})\n",
    "f_series.head()"
   ]
  },
  {
   "cell_type": "code",
   "execution_count": 21,
   "metadata": {
    "colab": {
     "base_uri": "https://localhost:8080/",
     "height": 316
    },
    "id": "meJqHlk5bXqg",
    "outputId": "695eee6b-fd47-4116-96cf-d1a9f8212df5"
   },
   "outputs": [
    {
     "data": {
      "text/plain": [
       "array([[<AxesSubplot:title={'center':'Frequency'}>]], dtype=object)"
      ]
     },
     "execution_count": 21,
     "metadata": {},
     "output_type": "execute_result"
    },
    {
     "data": {
      "image/png": "[encoded data removed]",
      "text/plain": [
       "<Figure size 640x480 with 1 Axes>"
      ]
     },
     "metadata": {},
     "output_type": "display_data"
    }
   ],
   "source": [
    "f_series.hist()"
   ]
  },
  {
   "cell_type": "code",
   "execution_count": 22,
   "metadata": {
    "colab": {
     "base_uri": "https://localhost:8080/"
    },
    "id": "F07Y2ZOZcIQU",
    "outputId": "6fce12ed-71c0-4759-f7bf-5a733393f1b9"
   },
   "outputs": [
    {
     "name": "stdout",
     "output_type": "stream",
     "text": [
      "Above p95 of 12.0: (202, 1) obs.\n"
     ]
    }
   ],
   "source": [
    "# TODO_04: \n",
    "# Why we need to treat outliers below? What we did? \n",
    "# What happened if we don't treat outliers\n",
    "\n",
    "cut_95 = f_series.Frequency.quantile(0.95)\n",
    "outliers = f_series[f_series.Frequency > cut_95].shape\n",
    "print('Above p95 of {}: {} obs.'.format(cut_95, outliers))"
   ]
  },
  {
   "cell_type": "code",
   "execution_count": 23,
   "metadata": {
    "colab": {
     "base_uri": "https://localhost:8080/",
     "height": 316
    },
    "id": "VK5c8-O_cxf-",
    "outputId": "155e0519-4939-4922-8c8b-8810b3f82427"
   },
   "outputs": [
    {
     "data": {
      "text/plain": [
       "array([[<AxesSubplot:title={'center':'Frequency'}>]], dtype=object)"
      ]
     },
     "execution_count": 23,
     "metadata": {},
     "output_type": "execute_result"
    },
    {
     "data": {
      "image/png": "[encoded data removed]",
      "text/plain": [
       "<Figure size 640x480 with 1 Axes>"
      ]
     },
     "metadata": {},
     "output_type": "display_data"
    }
   ],
   "source": [
    "f_series[f_series.Frequency > cut_95] = cut_95 ## Replace the one > p95, by 95 value\n",
    "f_series.hist()"
   ]
  },
  {
   "cell_type": "markdown",
   "metadata": {
    "id": "zz-4lP-GUOny"
   },
   "source": [
    "### Monetary\n",
    "\n",
    "`TODO_05`: How we define Monetary? Add as markdown notes below\n",
    "\n",
    "~> Your comment"
   ]
  },
  {
   "cell_type": "code",
   "execution_count": 24,
   "metadata": {
    "colab": {
     "base_uri": "https://localhost:8080/",
     "height": 197
    },
    "id": "x-qyCvuGYlfS",
    "outputId": "3f2c0ed8-f731-4913-bc26-014042d73b63"
   },
   "outputs": [
    {
     "data": {
      "text/html": [
       "<div>\n",
       "<style scoped>\n",
       "    .dataframe tbody tr th:only-of-type {\n",
       "        vertical-align: middle;\n",
       "    }\n",
       "\n",
       "    .dataframe tbody tr th {\n",
       "        vertical-align: top;\n",
       "    }\n",
       "\n",
       "    .dataframe thead th {\n",
       "        text-align: right;\n",
       "    }\n",
       "</style>\n",
       "<table border=\"1\" class=\"dataframe\">\n",
       "  <thead>\n",
       "    <tr style=\"text-align: right;\">\n",
       "      <th></th>\n",
       "      <th>Monetary</th>\n",
       "    </tr>\n",
       "    <tr>\n",
       "      <th>CustomerID</th>\n",
       "      <th></th>\n",
       "    </tr>\n",
       "  </thead>\n",
       "  <tbody>\n",
       "    <tr>\n",
       "      <th>12347</th>\n",
       "      <td>3398.48</td>\n",
       "    </tr>\n",
       "    <tr>\n",
       "      <th>12348</th>\n",
       "      <td>210.20</td>\n",
       "    </tr>\n",
       "    <tr>\n",
       "      <th>12349</th>\n",
       "      <td>1244.35</td>\n",
       "    </tr>\n",
       "    <tr>\n",
       "      <th>12350</th>\n",
       "      <td>334.40</td>\n",
       "    </tr>\n",
       "    <tr>\n",
       "      <th>12352</th>\n",
       "      <td>1505.74</td>\n",
       "    </tr>\n",
       "  </tbody>\n",
       "</table>\n",
       "</div>"
      ],
      "text/plain": [
       "            Monetary\n",
       "CustomerID          \n",
       "12347        3398.48\n",
       "12348         210.20\n",
       "12349        1244.35\n",
       "12350         334.40\n",
       "12352        1505.74"
      ]
     },
     "execution_count": 24,
     "metadata": {},
     "output_type": "execute_result"
    }
   ],
   "source": [
    "## We can either choose to sum or average the value of orders (Try the sum this time)\n",
    "m_series = df1.groupby(\"CustomerID\").agg({\"order_value\":\"sum\"}).rename(columns={\"order_value\":\"Monetary\"})\n",
    "m_series.head()"
   ]
  },
  {
   "cell_type": "code",
   "execution_count": 25,
   "metadata": {
    "colab": {
     "base_uri": "https://localhost:8080/",
     "height": 316
    },
    "id": "MdApkVF8bgqe",
    "outputId": "058ce4f9-87c1-4f92-ad7e-8ba25bdf55ff"
   },
   "outputs": [
    {
     "data": {
      "text/plain": [
       "array([[<AxesSubplot:title={'center':'Monetary'}>]], dtype=object)"
      ]
     },
     "execution_count": 25,
     "metadata": {},
     "output_type": "execute_result"
    },
    {
     "data": {
      "image/png": "[encoded data removed]",
      "text/plain": [
       "<Figure size 640x480 with 1 Axes>"
      ]
     },
     "metadata": {},
     "output_type": "display_data"
    }
   ],
   "source": [
    "m_series.hist()"
   ]
  },
  {
   "cell_type": "code",
   "execution_count": 26,
   "metadata": {
    "colab": {
     "base_uri": "https://localhost:8080/"
    },
    "id": "7AZcFzjDdMca",
    "outputId": "44e7268c-6f6c-4f64-fc2a-54fbc77cb21c"
   },
   "outputs": [
    {
     "name": "stdout",
     "output_type": "stream",
     "text": [
      "Above p95 of 3690.3559999999993: (210, 1) obs.\n"
     ]
    }
   ],
   "source": [
    "cut_95 = m_series.Monetary.quantile(0.95)\n",
    "outliers = m_series[m_series.Monetary > cut_95].shape\n",
    "print('Above p95 of {}: {} obs.'.format(cut_95, outliers))"
   ]
  },
  {
   "cell_type": "code",
   "execution_count": 27,
   "metadata": {
    "colab": {
     "base_uri": "https://localhost:8080/",
     "height": 316
    },
    "id": "u2z0pPe1db_d",
    "outputId": "3a743c27-c540-41d0-c576-59f12ecd4f0d"
   },
   "outputs": [
    {
     "data": {
      "text/plain": [
       "array([[<AxesSubplot:title={'center':'Monetary'}>]], dtype=object)"
      ]
     },
     "execution_count": 27,
     "metadata": {},
     "output_type": "execute_result"
    },
    {
     "data": {
      "image/png": "[encoded data removed]",
      "text/plain": [
       "<Figure size 640x480 with 1 Axes>"
      ]
     },
     "metadata": {},
     "output_type": "display_data"
    }
   ],
   "source": [
    "m_series[m_series.Monetary > cut_95] = cut_95 ## Replace the one > p95, by 95 value\n",
    "m_series.hist()"
   ]
  },
  {
   "cell_type": "markdown",
   "metadata": {
    "id": "EDNWw2BTY4vz"
   },
   "source": [
    "### RFM Score\n",
    "\n",
    "1. Concat `Recency`, `Frequency`, `Monetary`\n",
    "2. Bin each element to 5 bins (equivalent to 5-level scale) -> `R_Score`, `F_Score`, `M_Score`\n",
    "3. Combine `R_Score`, `F_Score`, `M_Score` into `RFM_SCORE`\n",
    "\n",
    "> Notice that: `RFM_SCORE` and element scores are categorical."
   ]
  },
  {
   "cell_type": "code",
   "execution_count": 28,
   "metadata": {
    "colab": {
     "base_uri": "https://localhost:8080/",
     "height": 197
    },
    "id": "7fR3WCVHZSHe",
    "outputId": "464dccbe-056d-46f7-8270-5c825c76e74d"
   },
   "outputs": [
    {
     "data": {
      "text/html": [
       "<div>\n",
       "<style scoped>\n",
       "    .dataframe tbody tr th:only-of-type {\n",
       "        vertical-align: middle;\n",
       "    }\n",
       "\n",
       "    .dataframe tbody tr th {\n",
       "        vertical-align: top;\n",
       "    }\n",
       "\n",
       "    .dataframe thead th {\n",
       "        text-align: right;\n",
       "    }\n",
       "</style>\n",
       "<table border=\"1\" class=\"dataframe\">\n",
       "  <thead>\n",
       "    <tr style=\"text-align: right;\">\n",
       "      <th></th>\n",
       "      <th>Recency</th>\n",
       "      <th>Frequency</th>\n",
       "      <th>Monetary</th>\n",
       "    </tr>\n",
       "    <tr>\n",
       "      <th>CustomerID</th>\n",
       "      <th></th>\n",
       "      <th></th>\n",
       "      <th></th>\n",
       "    </tr>\n",
       "  </thead>\n",
       "  <tbody>\n",
       "    <tr>\n",
       "      <th>12347</th>\n",
       "      <td>1</td>\n",
       "      <td>7</td>\n",
       "      <td>3398.48</td>\n",
       "    </tr>\n",
       "    <tr>\n",
       "      <th>12348</th>\n",
       "      <td>74</td>\n",
       "      <td>4</td>\n",
       "      <td>210.20</td>\n",
       "    </tr>\n",
       "    <tr>\n",
       "      <th>12349</th>\n",
       "      <td>18</td>\n",
       "      <td>1</td>\n",
       "      <td>1244.35</td>\n",
       "    </tr>\n",
       "    <tr>\n",
       "      <th>12350</th>\n",
       "      <td>309</td>\n",
       "      <td>1</td>\n",
       "      <td>334.40</td>\n",
       "    </tr>\n",
       "    <tr>\n",
       "      <th>12352</th>\n",
       "      <td>35</td>\n",
       "      <td>7</td>\n",
       "      <td>1505.74</td>\n",
       "    </tr>\n",
       "  </tbody>\n",
       "</table>\n",
       "</div>"
      ],
      "text/plain": [
       "            Recency  Frequency  Monetary\n",
       "CustomerID                              \n",
       "12347             1          7   3398.48\n",
       "12348            74          4    210.20\n",
       "12349            18          1   1244.35\n",
       "12350           309          1    334.40\n",
       "12352            35          7   1505.74"
      ]
     },
     "execution_count": 28,
     "metadata": {},
     "output_type": "execute_result"
    }
   ],
   "source": [
    "rfm = pd.concat([r_series, f_series, m_series], axis=1)\n",
    "rfm.head()"
   ]
  },
  {
   "cell_type": "code",
   "execution_count": 29,
   "metadata": {
    "colab": {
     "base_uri": "https://localhost:8080/",
     "height": 197
    },
    "id": "c26isOosZkj7",
    "outputId": "5c150eb8-4168-452b-c444-b02d4a8d2d4c"
   },
   "outputs": [
    {
     "data": {
      "text/html": [
       "<div>\n",
       "<style scoped>\n",
       "    .dataframe tbody tr th:only-of-type {\n",
       "        vertical-align: middle;\n",
       "    }\n",
       "\n",
       "    .dataframe tbody tr th {\n",
       "        vertical-align: top;\n",
       "    }\n",
       "\n",
       "    .dataframe thead th {\n",
       "        text-align: right;\n",
       "    }\n",
       "</style>\n",
       "<table border=\"1\" class=\"dataframe\">\n",
       "  <thead>\n",
       "    <tr style=\"text-align: right;\">\n",
       "      <th></th>\n",
       "      <th>Recency</th>\n",
       "      <th>Frequency</th>\n",
       "      <th>Monetary</th>\n",
       "      <th>R_Score</th>\n",
       "      <th>F_Score</th>\n",
       "      <th>M_Score</th>\n",
       "    </tr>\n",
       "    <tr>\n",
       "      <th>CustomerID</th>\n",
       "      <th></th>\n",
       "      <th></th>\n",
       "      <th></th>\n",
       "      <th></th>\n",
       "      <th></th>\n",
       "      <th></th>\n",
       "    </tr>\n",
       "  </thead>\n",
       "  <tbody>\n",
       "    <tr>\n",
       "      <th>12347</th>\n",
       "      <td>1</td>\n",
       "      <td>7</td>\n",
       "      <td>3398.48</td>\n",
       "      <td>5</td>\n",
       "      <td>3</td>\n",
       "      <td>5</td>\n",
       "    </tr>\n",
       "    <tr>\n",
       "      <th>12348</th>\n",
       "      <td>74</td>\n",
       "      <td>4</td>\n",
       "      <td>210.20</td>\n",
       "      <td>2</td>\n",
       "      <td>2</td>\n",
       "      <td>2</td>\n",
       "    </tr>\n",
       "    <tr>\n",
       "      <th>12349</th>\n",
       "      <td>18</td>\n",
       "      <td>1</td>\n",
       "      <td>1244.35</td>\n",
       "      <td>4</td>\n",
       "      <td>1</td>\n",
       "      <td>4</td>\n",
       "    </tr>\n",
       "    <tr>\n",
       "      <th>12350</th>\n",
       "      <td>309</td>\n",
       "      <td>1</td>\n",
       "      <td>334.40</td>\n",
       "      <td>1</td>\n",
       "      <td>1</td>\n",
       "      <td>2</td>\n",
       "    </tr>\n",
       "    <tr>\n",
       "      <th>12352</th>\n",
       "      <td>35</td>\n",
       "      <td>7</td>\n",
       "      <td>1505.74</td>\n",
       "      <td>3</td>\n",
       "      <td>3</td>\n",
       "      <td>5</td>\n",
       "    </tr>\n",
       "  </tbody>\n",
       "</table>\n",
       "</div>"
      ],
      "text/plain": [
       "            Recency  Frequency  Monetary R_Score F_Score M_Score\n",
       "CustomerID                                                      \n",
       "12347             1          7   3398.48       5       3       5\n",
       "12348            74          4    210.20       2       2       2\n",
       "12349            18          1   1244.35       4       1       4\n",
       "12350           309          1    334.40       1       1       2\n",
       "12352            35          7   1505.74       3       3       5"
      ]
     },
     "execution_count": 29,
     "metadata": {},
     "output_type": "execute_result"
    }
   ],
   "source": [
    "## Bin the R, F, M into 5 bins by percentiles\n",
    "rfm['R_Score'] = pd.qcut(rfm['Recency'], 5, labels = [5, 4, 3, 2, 1]) ## score is reverse, as smaller Recency (days) is better\n",
    "rfm['F_Score'] = pd.cut(rfm['Frequency'], 5, labels = [1, 2, 3, 4, 5], duplicates='drop') ## bin edges not unique, due to the skewed distribution\n",
    "rfm['M_Score'] = pd.qcut(rfm['Monetary'], 5, labels = [1, 2, 3, 4, 5],duplicates='drop')\n",
    "rfm.head()"
   ]
  },
  {
   "cell_type": "code",
   "execution_count": 30,
   "metadata": {
    "colab": {
     "base_uri": "https://localhost:8080/",
     "height": 197
    },
    "id": "uab9F6IbhEKo",
    "outputId": "dee9027c-5474-45de-9666-7c743825009b"
   },
   "outputs": [
    {
     "data": {
      "text/html": [
       "<div>\n",
       "<style scoped>\n",
       "    .dataframe tbody tr th:only-of-type {\n",
       "        vertical-align: middle;\n",
       "    }\n",
       "\n",
       "    .dataframe tbody tr th {\n",
       "        vertical-align: top;\n",
       "    }\n",
       "\n",
       "    .dataframe thead th {\n",
       "        text-align: right;\n",
       "    }\n",
       "</style>\n",
       "<table border=\"1\" class=\"dataframe\">\n",
       "  <thead>\n",
       "    <tr style=\"text-align: right;\">\n",
       "      <th></th>\n",
       "      <th>Recency</th>\n",
       "      <th>Frequency</th>\n",
       "      <th>Monetary</th>\n",
       "      <th>R_Score</th>\n",
       "      <th>F_Score</th>\n",
       "      <th>M_Score</th>\n",
       "      <th>RFM_SCORE</th>\n",
       "    </tr>\n",
       "    <tr>\n",
       "      <th>CustomerID</th>\n",
       "      <th></th>\n",
       "      <th></th>\n",
       "      <th></th>\n",
       "      <th></th>\n",
       "      <th></th>\n",
       "      <th></th>\n",
       "      <th></th>\n",
       "    </tr>\n",
       "  </thead>\n",
       "  <tbody>\n",
       "    <tr>\n",
       "      <th>12347</th>\n",
       "      <td>1</td>\n",
       "      <td>7</td>\n",
       "      <td>3398.48</td>\n",
       "      <td>5</td>\n",
       "      <td>3</td>\n",
       "      <td>5</td>\n",
       "      <td>535</td>\n",
       "    </tr>\n",
       "    <tr>\n",
       "      <th>12348</th>\n",
       "      <td>74</td>\n",
       "      <td>4</td>\n",
       "      <td>210.20</td>\n",
       "      <td>2</td>\n",
       "      <td>2</td>\n",
       "      <td>2</td>\n",
       "      <td>222</td>\n",
       "    </tr>\n",
       "    <tr>\n",
       "      <th>12349</th>\n",
       "      <td>18</td>\n",
       "      <td>1</td>\n",
       "      <td>1244.35</td>\n",
       "      <td>4</td>\n",
       "      <td>1</td>\n",
       "      <td>4</td>\n",
       "      <td>414</td>\n",
       "    </tr>\n",
       "    <tr>\n",
       "      <th>12350</th>\n",
       "      <td>309</td>\n",
       "      <td>1</td>\n",
       "      <td>334.40</td>\n",
       "      <td>1</td>\n",
       "      <td>1</td>\n",
       "      <td>2</td>\n",
       "      <td>112</td>\n",
       "    </tr>\n",
       "    <tr>\n",
       "      <th>12352</th>\n",
       "      <td>35</td>\n",
       "      <td>7</td>\n",
       "      <td>1505.74</td>\n",
       "      <td>3</td>\n",
       "      <td>3</td>\n",
       "      <td>5</td>\n",
       "      <td>335</td>\n",
       "    </tr>\n",
       "  </tbody>\n",
       "</table>\n",
       "</div>"
      ],
      "text/plain": [
       "            Recency  Frequency  Monetary R_Score F_Score M_Score RFM_SCORE\n",
       "CustomerID                                                                \n",
       "12347             1          7   3398.48       5       3       5       535\n",
       "12348            74          4    210.20       2       2       2       222\n",
       "12349            18          1   1244.35       4       1       4       414\n",
       "12350           309          1    334.40       1       1       2       112\n",
       "12352            35          7   1505.74       3       3       5       335"
      ]
     },
     "execution_count": 30,
     "metadata": {},
     "output_type": "execute_result"
    }
   ],
   "source": [
    "## Generate the RFM Scores\n",
    "# RFM Scores: Category\n",
    "rfm[\"RFM_SCORE\"] = (rfm['R_Score'].astype(str) + \n",
    "                     rfm['F_Score'].astype(str) + \n",
    "                     rfm['M_Score'].astype(str))\n",
    "\n",
    "rfm.head()"
   ]
  },
  {
   "cell_type": "markdown",
   "metadata": {
    "id": "sX5D2qdVhRT6"
   },
   "source": [
    "## RFM Analysis"
   ]
  },
  {
   "cell_type": "markdown",
   "metadata": {
    "id": "1rU5lp1bha3J"
   },
   "source": [
    "### Distribution by RFM Score\n",
    "\n",
    "1. First, we check the distribution of Value (`Monetary`) by all `RFM_SCORE` we have by boxplot\n",
    "\t- Have up to 85 possible values of `RFM_SCORE` combinations of R, F, M \n",
    "\t- This number of categories makes it not visible to obtain the insights -> Strategies to reduce the groups \n",
    "\n",
    "> Discussion: Why 85, but not 5 x 5 x 5 = 125?"
   ]
  },
  {
   "cell_type": "code",
   "execution_count": 31,
   "metadata": {
    "colab": {
     "base_uri": "https://localhost:8080/",
     "height": 332
    },
    "id": "7-iN2aL_haFm",
    "outputId": "7c53eb4e-486c-4c53-8a49-b9e197d2f93b"
   },
   "outputs": [
    {
     "data": {
      "text/plain": [
       "<AxesSubplot:xlabel='RFM_SCORE', ylabel='Monetary'>"
      ]
     },
     "execution_count": 31,
     "metadata": {},
     "output_type": "execute_result"
    },
    {
     "data": {
      "image/png": "[encoded data removed]",
      "text/plain": [
       "<Figure size 3000x500 with 1 Axes>"
      ]
     },
     "metadata": {},
     "output_type": "display_data"
    }
   ],
   "source": [
    "plt.figure(figsize=(30, 5))\n",
    "sns.boxplot(x='RFM_SCORE', y='Monetary', data=rfm.sort_values(by='Monetary',ascending=False))"
   ]
  },
  {
   "cell_type": "code",
   "execution_count": 32,
   "metadata": {
    "colab": {
     "base_uri": "https://localhost:8080/"
    },
    "id": "yxfQbshAv6G3",
    "outputId": "5a3c2f6b-11f3-4e0c-def1-f5bb00ef8737"
   },
   "outputs": [
    {
     "data": {
      "text/plain": [
       "97"
      ]
     },
     "execution_count": 32,
     "metadata": {},
     "output_type": "execute_result"
    }
   ],
   "source": [
    "len(rfm.RFM_SCORE.unique())"
   ]
  },
  {
   "cell_type": "code",
   "execution_count": 33,
   "metadata": {
    "id": "9yeivO8PxEBb"
   },
   "outputs": [],
   "source": [
    "ls = []\n",
    "for r in [1, 2, 3, 4, 5]:\n",
    "  for f in [1, 2, 3, 4, 5]:\n",
    "    for m in [1, 2, 3, 4, 5]:\n",
    "      out = str(r) + str(f) + str(m)\n",
    "      ls.append(out)"
   ]
  },
  {
   "cell_type": "code",
   "execution_count": 34,
   "metadata": {
    "colab": {
     "base_uri": "https://localhost:8080/"
    },
    "id": "NEQzl9C1xsCe",
    "outputId": "21974c72-ca90-4c60-f236-be28d571b71d"
   },
   "outputs": [
    {
     "data": {
      "text/plain": [
       "125"
      ]
     },
     "execution_count": 34,
     "metadata": {},
     "output_type": "execute_result"
    }
   ],
   "source": [
    "len(ls)"
   ]
  },
  {
   "cell_type": "code",
   "execution_count": null,
   "metadata": {
    "id": "92QGm4zlxvIv"
   },
   "outputs": [],
   "source": [
    "# for e in ls:\n",
    "#   if e not in rfm.RFM_SCORE.unique():\n",
    "#     print(e)\n",
    "\n",
    "# Or better way (list comprehensive): [e for e in ls if e not in rfm.RFM_SCORE.unique()]"
   ]
  },
  {
   "cell_type": "markdown",
   "metadata": {
    "id": "fiNv3p6xjRXn"
   },
   "source": [
    "### Distribution by RFM-based Segments\n",
    "\n",
    "Next, We can either: \n",
    "\n",
    "- Group values in `RFM_SCORE` by business acumen (WHAT WE DO BEFLOW)\n",
    "- Clustering with Kmenas\n",
    "\n",
    "Below, we only use 2 elements R,F to segments and M as the aggregate metrics"
   ]
  },
  {
   "cell_type": "code",
   "execution_count": 35,
   "metadata": {
    "id": "EPMWOwcTax76"
   },
   "outputs": [],
   "source": [
    "## With all 3 elements, there are many segments to focus. Let's segment by R, F only (keep M for comparison)\n",
    "seg_map = {\n",
    "    r'[1-2][1-2]': 'Hibernating', ## Recency =< 2, Bad Frequency =< 2\n",
    "    r'[1-2][3-4]': 'At Risk', ## Bad Recency =< 2, Mid Frequency from 3-4\n",
    "    r'[1-2]5': 'Can\\'t Loose', \n",
    "    r'3[1-2]': 'About to Sleep',\n",
    "    r'33': 'Need Attention',\n",
    "    r'[3-4][4-5]': 'Loyal Customers',\n",
    "    r'41': 'Promising',\n",
    "    r'51': 'New Customers',\n",
    "    r'[4-5][2-3]': 'Potential Loyalists',\n",
    "    r'5[4-5]': 'Champions'\n",
    "}\n",
    "\n",
    "rfm['Segment'] = rfm['R_Score'].astype(str) + rfm['F_Score'].astype(str) ## Notice that, here we only consider R, F => M is the value to summary\n",
    "rfm['Segment'] = rfm['Segment'].replace(seg_map, regex=True)"
   ]
  },
  {
   "cell_type": "code",
   "execution_count": 36,
   "metadata": {
    "colab": {
     "base_uri": "https://localhost:8080/",
     "height": 514
    },
    "id": "ijz3ZDDabdtr",
    "outputId": "fc297043-38bb-436c-ad58-5bd925aa8026"
   },
   "outputs": [
    {
     "data": {
      "text/plain": [
       "<AxesSubplot:xlabel='Segment', ylabel='Monetary'>"
      ]
     },
     "execution_count": 36,
     "metadata": {},
     "output_type": "execute_result"
    },
    {
     "data": {
      "image/png": "[encoded data removed]",
      "text/plain": [
       "<Figure size 2000x800 with 1 Axes>"
      ]
     },
     "metadata": {},
     "output_type": "display_data"
    }
   ],
   "source": [
    "plt.figure(figsize=(20, 8))\n",
    "sns.boxplot(x='Segment', y='Monetary', data=rfm.sort_values(by='Monetary',ascending=False))"
   ]
  },
  {
   "cell_type": "code",
   "execution_count": 2,
   "metadata": {
    "ExecuteTime": {
     "end_time": "2022-10-28T04:22:19.540770Z",
     "start_time": "2022-10-28T04:22:19.538300Z"
    }
   },
   "outputs": [],
   "source": [
    "# TODO_06: Comment the insights from the boxplot "
   ]
  },
  {
   "cell_type": "markdown",
   "metadata": {
    "id": "-pPkekvCjr0T"
   },
   "source": [
    "### Deep-dive in each components"
   ]
  },
  {
   "cell_type": "code",
   "execution_count": 37,
   "metadata": {
    "colab": {
     "base_uri": "https://localhost:8080/",
     "height": 352
    },
    "id": "PZInr4r7juY5",
    "outputId": "62bece68-40ce-4e4f-82ce-a678928450a2"
   },
   "outputs": [
    {
     "data": {
      "text/plain": [
       "<AxesSubplot:xlabel='R_Score', ylabel='Frequency'>"
      ]
     },
     "execution_count": 37,
     "metadata": {},
     "output_type": "execute_result"
    },
    {
     "data": {
      "image/png": "[encoded data removed]",
      "text/plain": [
       "<Figure size 1000x500 with 1 Axes>"
      ]
     },
     "metadata": {},
     "output_type": "display_data"
    }
   ],
   "source": [
    "plt.figure(figsize=(10, 5))\n",
    "sns.boxplot(x='R_Score', y='Frequency', data=rfm)"
   ]
  },
  {
   "cell_type": "code",
   "execution_count": null,
   "metadata": {},
   "outputs": [],
   "source": [
    "# TODO_07: Comment the insights from boxplot "
   ]
  },
  {
   "cell_type": "code",
   "execution_count": 38,
   "metadata": {
    "colab": {
     "base_uri": "https://localhost:8080/",
     "height": 352
    },
    "id": "9EQvsVTUjzub",
    "outputId": "70486374-b2cf-49fd-a078-32ca0a7850bc"
   },
   "outputs": [
    {
     "data": {
      "text/plain": [
       "<AxesSubplot:xlabel='F_Score', ylabel='Monetary'>"
      ]
     },
     "execution_count": 38,
     "metadata": {},
     "output_type": "execute_result"
    },
    {
     "data": {
      "image/png": "[encoded data removed]",
      "text/plain": [
       "<Figure size 1000x500 with 1 Axes>"
      ]
     },
     "metadata": {},
     "output_type": "display_data"
    }
   ],
   "source": [
    "plt.figure(figsize=(10, 5))\n",
    "sns.boxplot(x='F_Score', y='Monetary', data=rfm)"
   ]
  },
  {
   "cell_type": "code",
   "execution_count": null,
   "metadata": {},
   "outputs": [],
   "source": [
    "# TODO_08: Comment the insights from boxplot "
   ]
  },
  {
   "cell_type": "markdown",
   "metadata": {
    "id": "oSAQjUy4pvtC"
   },
   "source": [
    "### Aggregates by Segments"
   ]
  },
  {
   "cell_type": "code",
   "execution_count": 39,
   "metadata": {
    "colab": {
     "base_uri": "https://localhost:8080/",
     "height": 320
    },
    "id": "jJbcHXkJj5QB",
    "outputId": "bf318d08-5237-4a5e-859f-f3640747d9e9"
   },
   "outputs": [
    {
     "data": {
      "text/html": [
       "<div>\n",
       "<style scoped>\n",
       "    .dataframe tbody tr th:only-of-type {\n",
       "        vertical-align: middle;\n",
       "    }\n",
       "\n",
       "    .dataframe tbody tr th {\n",
       "        vertical-align: top;\n",
       "    }\n",
       "\n",
       "    .dataframe thead th {\n",
       "        text-align: right;\n",
       "    }\n",
       "</style>\n",
       "<table border=\"1\" class=\"dataframe\">\n",
       "  <thead>\n",
       "    <tr style=\"text-align: right;\">\n",
       "      <th></th>\n",
       "      <th>Recency_mean</th>\n",
       "      <th>Recency_median</th>\n",
       "      <th>Recency_count</th>\n",
       "      <th>Recency_std</th>\n",
       "      <th>Frequency_mean</th>\n",
       "      <th>Frequency_median</th>\n",
       "      <th>Frequency_count</th>\n",
       "      <th>Frequency_std</th>\n",
       "      <th>Monetary_mean</th>\n",
       "      <th>Monetary_median</th>\n",
       "      <th>Monetary_count</th>\n",
       "      <th>Monetary_std</th>\n",
       "    </tr>\n",
       "    <tr>\n",
       "      <th>Segment</th>\n",
       "      <th></th>\n",
       "      <th></th>\n",
       "      <th></th>\n",
       "      <th></th>\n",
       "      <th></th>\n",
       "      <th></th>\n",
       "      <th></th>\n",
       "      <th></th>\n",
       "      <th></th>\n",
       "      <th></th>\n",
       "      <th></th>\n",
       "      <th></th>\n",
       "    </tr>\n",
       "  </thead>\n",
       "  <tbody>\n",
       "    <tr>\n",
       "      <th>About to Sleep</th>\n",
       "      <td>51.091292</td>\n",
       "      <td>51.0</td>\n",
       "      <td>712</td>\n",
       "      <td>10.844838</td>\n",
       "      <td>2.178371</td>\n",
       "      <td>2.0</td>\n",
       "      <td>712</td>\n",
       "      <td>1.267547</td>\n",
       "      <td>637.762885</td>\n",
       "      <td>436.215</td>\n",
       "      <td>712</td>\n",
       "      <td>629.868962</td>\n",
       "    </tr>\n",
       "    <tr>\n",
       "      <th>At Risk</th>\n",
       "      <td>125.803922</td>\n",
       "      <td>105.0</td>\n",
       "      <td>51</td>\n",
       "      <td>55.926387</td>\n",
       "      <td>6.882353</td>\n",
       "      <td>6.0</td>\n",
       "      <td>51</td>\n",
       "      <td>1.051609</td>\n",
       "      <td>1344.979020</td>\n",
       "      <td>1105.070</td>\n",
       "      <td>51</td>\n",
       "      <td>789.844608</td>\n",
       "    </tr>\n",
       "    <tr>\n",
       "      <th>Can't Loose</th>\n",
       "      <td>145.777778</td>\n",
       "      <td>113.0</td>\n",
       "      <td>9</td>\n",
       "      <td>96.115527</td>\n",
       "      <td>11.555556</td>\n",
       "      <td>12.0</td>\n",
       "      <td>9</td>\n",
       "      <td>0.527046</td>\n",
       "      <td>2016.599556</td>\n",
       "      <td>2003.270</td>\n",
       "      <td>9</td>\n",
       "      <td>1118.435087</td>\n",
       "    </tr>\n",
       "    <tr>\n",
       "      <th>Champions</th>\n",
       "      <td>4.392617</td>\n",
       "      <td>3.0</td>\n",
       "      <td>298</td>\n",
       "      <td>3.646438</td>\n",
       "      <td>10.812081</td>\n",
       "      <td>12.0</td>\n",
       "      <td>298</td>\n",
       "      <td>1.541214</td>\n",
       "      <td>2826.309040</td>\n",
       "      <td>3203.120</td>\n",
       "      <td>298</td>\n",
       "      <td>942.953599</td>\n",
       "    </tr>\n",
       "    <tr>\n",
       "      <th>Hibernating</th>\n",
       "      <td>193.343459</td>\n",
       "      <td>183.0</td>\n",
       "      <td>1613</td>\n",
       "      <td>89.485841</td>\n",
       "      <td>1.693118</td>\n",
       "      <td>1.0</td>\n",
       "      <td>1613</td>\n",
       "      <td>1.012666</td>\n",
       "      <td>423.481522</td>\n",
       "      <td>292.440</td>\n",
       "      <td>1613</td>\n",
       "      <td>457.120530</td>\n",
       "    </tr>\n",
       "    <tr>\n",
       "      <th>Loyal Customers</th>\n",
       "      <td>28.076087</td>\n",
       "      <td>23.5</td>\n",
       "      <td>184</td>\n",
       "      <td>13.740955</td>\n",
       "      <td>10.065217</td>\n",
       "      <td>10.0</td>\n",
       "      <td>184</td>\n",
       "      <td>1.618232</td>\n",
       "      <td>2580.508152</td>\n",
       "      <td>2646.045</td>\n",
       "      <td>184</td>\n",
       "      <td>1001.723470</td>\n",
       "    </tr>\n",
       "    <tr>\n",
       "      <th>Need Attention</th>\n",
       "      <td>47.803279</td>\n",
       "      <td>49.0</td>\n",
       "      <td>61</td>\n",
       "      <td>9.639882</td>\n",
       "      <td>6.409836</td>\n",
       "      <td>6.0</td>\n",
       "      <td>61</td>\n",
       "      <td>0.495885</td>\n",
       "      <td>1720.331475</td>\n",
       "      <td>1610.750</td>\n",
       "      <td>61</td>\n",
       "      <td>819.902162</td>\n",
       "    </tr>\n",
       "    <tr>\n",
       "      <th>New Customers</th>\n",
       "      <td>6.003676</td>\n",
       "      <td>6.0</td>\n",
       "      <td>272</td>\n",
       "      <td>3.682509</td>\n",
       "      <td>2.040441</td>\n",
       "      <td>2.0</td>\n",
       "      <td>272</td>\n",
       "      <td>0.730352</td>\n",
       "      <td>524.466985</td>\n",
       "      <td>399.370</td>\n",
       "      <td>272</td>\n",
       "      <td>431.479667</td>\n",
       "    </tr>\n",
       "    <tr>\n",
       "      <th>Potential Loyalists</th>\n",
       "      <td>13.843284</td>\n",
       "      <td>13.0</td>\n",
       "      <td>536</td>\n",
       "      <td>9.606349</td>\n",
       "      <td>5.167910</td>\n",
       "      <td>5.0</td>\n",
       "      <td>536</td>\n",
       "      <td>1.104695</td>\n",
       "      <td>1472.512629</td>\n",
       "      <td>1231.460</td>\n",
       "      <td>536</td>\n",
       "      <td>883.491977</td>\n",
       "    </tr>\n",
       "    <tr>\n",
       "      <th>Promising</th>\n",
       "      <td>22.684096</td>\n",
       "      <td>23.0</td>\n",
       "      <td>459</td>\n",
       "      <td>5.430223</td>\n",
       "      <td>1.908497</td>\n",
       "      <td>2.0</td>\n",
       "      <td>459</td>\n",
       "      <td>0.809546</td>\n",
       "      <td>515.643150</td>\n",
       "      <td>383.650</td>\n",
       "      <td>459</td>\n",
       "      <td>488.814845</td>\n",
       "    </tr>\n",
       "  </tbody>\n",
       "</table>\n",
       "</div>"
      ],
      "text/plain": [
       "                     Recency_mean  Recency_median  Recency_count  Recency_std  \\\n",
       "Segment                                                                         \n",
       "About to Sleep          51.091292            51.0            712    10.844838   \n",
       "At Risk                125.803922           105.0             51    55.926387   \n",
       "Can't Loose            145.777778           113.0              9    96.115527   \n",
       "Champions                4.392617             3.0            298     3.646438   \n",
       "Hibernating            193.343459           183.0           1613    89.485841   \n",
       "Loyal Customers         28.076087            23.5            184    13.740955   \n",
       "Need Attention          47.803279            49.0             61     9.639882   \n",
       "New Customers            6.003676             6.0            272     3.682509   \n",
       "Potential Loyalists     13.843284            13.0            536     9.606349   \n",
       "Promising               22.684096            23.0            459     5.430223   \n",
       "\n",
       "                     Frequency_mean  Frequency_median  Frequency_count  \\\n",
       "Segment                                                                  \n",
       "About to Sleep             2.178371               2.0              712   \n",
       "At Risk                    6.882353               6.0               51   \n",
       "Can't Loose               11.555556              12.0                9   \n",
       "Champions                 10.812081              12.0              298   \n",
       "Hibernating                1.693118               1.0             1613   \n",
       "Loyal Customers           10.065217              10.0              184   \n",
       "Need Attention             6.409836               6.0               61   \n",
       "New Customers              2.040441               2.0              272   \n",
       "Potential Loyalists        5.167910               5.0              536   \n",
       "Promising                  1.908497               2.0              459   \n",
       "\n",
       "                     Frequency_std  Monetary_mean  Monetary_median  \\\n",
       "Segment                                                              \n",
       "About to Sleep            1.267547     637.762885          436.215   \n",
       "At Risk                   1.051609    1344.979020         1105.070   \n",
       "Can't Loose               0.527046    2016.599556         2003.270   \n",
       "Champions                 1.541214    2826.309040         3203.120   \n",
       "Hibernating               1.012666     423.481522          292.440   \n",
       "Loyal Customers           1.618232    2580.508152         2646.045   \n",
       "Need Attention            0.495885    1720.331475         1610.750   \n",
       "New Customers             0.730352     524.466985          399.370   \n",
       "Potential Loyalists       1.104695    1472.512629         1231.460   \n",
       "Promising                 0.809546     515.643150          383.650   \n",
       "\n",
       "                     Monetary_count  Monetary_std  \n",
       "Segment                                            \n",
       "About to Sleep                  712    629.868962  \n",
       "At Risk                          51    789.844608  \n",
       "Can't Loose                       9   1118.435087  \n",
       "Champions                       298    942.953599  \n",
       "Hibernating                    1613    457.120530  \n",
       "Loyal Customers                 184   1001.723470  \n",
       "Need Attention                   61    819.902162  \n",
       "New Customers                   272    431.479667  \n",
       "Potential Loyalists             536    883.491977  \n",
       "Promising                       459    488.814845  "
      ]
     },
     "execution_count": 39,
     "metadata": {},
     "output_type": "execute_result"
    }
   ],
   "source": [
    "rfmStats = rfm[[\"Segment\",\"Recency\",\"Frequency\", \"Monetary\"]].groupby(\"Segment\").agg([\"mean\",\"median\",\"count\", \"std\"])\n",
    "rfmStats.columns = rfmStats.columns.map('_'.join).str.strip('|')\n",
    "rfmStats"
   ]
  },
  {
   "cell_type": "markdown",
   "metadata": {
    "id": "Fy7pcW-suFkm"
   },
   "source": [
    "### Treemap"
   ]
  },
  {
   "cell_type": "code",
   "execution_count": 40,
   "metadata": {
    "colab": {
     "base_uri": "https://localhost:8080/"
    },
    "id": "p3Q8U0NwrZWs",
    "outputId": "61747aed-8087-415e-9093-c629ae4ae401"
   },
   "outputs": [
    {
     "name": "stdout",
     "output_type": "stream",
     "text": [
      "Collecting squarify\n",
      "  Downloading squarify-0.4.3-py3-none-any.whl (4.3 kB)\n",
      "Installing collected packages: squarify\n",
      "Successfully installed squarify-0.4.3\n"
     ]
    }
   ],
   "source": [
    "!pip install squarify"
   ]
  },
  {
   "cell_type": "code",
   "execution_count": 41,
   "metadata": {
    "id": "V_HB-0FetN9s"
   },
   "outputs": [],
   "source": [
    "import squarify # pip install squarify"
   ]
  },
  {
   "cell_type": "code",
   "execution_count": 42,
   "metadata": {
    "colab": {
     "base_uri": "https://localhost:8080/"
    },
    "id": "C2YjFG3DtPRK",
    "outputId": "94f1dac3-3e30-4059-b680-286a66015c81"
   },
   "outputs": [
    {
     "data": {
      "text/plain": [
       "Hibernating            1613\n",
       "About to Sleep          712\n",
       "Potential Loyalists     536\n",
       "Promising               459\n",
       "Champions               298\n",
       "New Customers           272\n",
       "Loyal Customers         184\n",
       "Need Attention           61\n",
       "At Risk                  51\n",
       "Can't Loose               9\n",
       "Name: Segment, dtype: int64"
      ]
     },
     "execution_count": 42,
     "metadata": {},
     "output_type": "execute_result"
    }
   ],
   "source": [
    "rfm.Segment.value_counts()"
   ]
  },
  {
   "cell_type": "code",
   "execution_count": 43,
   "metadata": {
    "colab": {
     "base_uri": "https://localhost:8080/",
     "height": 432
    },
    "id": "bcOQkvWHtfWa",
    "outputId": "1d69ca14-6a37-4393-d451-dd57fb6daae4"
   },
   "outputs": [
    {
     "data": {
      "image/png": "[encoded data removed]",
      "text/plain": [
       "<Figure size 1000x700 with 1 Axes>"
      ]
     },
     "metadata": {},
     "output_type": "display_data"
    }
   ],
   "source": [
    "df_plot = rfm.Segment.value_counts()\n",
    "plt.figure(figsize=(10, 7))\n",
    "squarify.plot(df_plot, label=df_plot.index, alpha=0.6)\n",
    "plt.show()"
   ]
  },
  {
   "cell_type": "code",
   "execution_count": null,
   "metadata": {
    "id": "rRZ3712FrzHS"
   },
   "outputs": [],
   "source": [
    "# TODO_09: Comment the insights from treemap"
   ]
  }
 ],
 "metadata": {
  "colab": {
   "collapsed_sections": [],
   "provenance": [],
   "toc_visible": true
  },
  "kernelspec": {
   "display_name": "base",
   "language": "python",
   "name": "python3"
  },
  "language_info": {
   "codemirror_mode": {
    "name": "ipython",
    "version": 3
   },
   "file_extension": ".py",
   "mimetype": "text/x-python",
   "name": "python",
   "nbconvert_exporter": "python",
   "pygments_lexer": "ipython3",
   "version": "3.9.13 (main, Aug 25 2022, 18:29:29) \n[Clang 12.0.0 ]"
  },
  "latex_envs": {
   "LaTeX_envs_menu_present": true,
   "autoclose": false,
   "autocomplete": true,
   "bibliofile": "biblio.bib",
   "cite_by": "apalike",
   "current_citInitial": 1,
   "eqLabelWithNumbers": true,
   "eqNumInitial": 1,
   "hotkeys": {
    "equation": "Ctrl-E",
    "itemize": "Ctrl-I"
   },
   "labels_anchors": false,
   "latex_user_defs": false,
   "report_style_numbering": false,
   "user_envs_cfg": false
  },
  "toc": {
   "base_numbering": 1,
   "nav_menu": {},
   "number_sections": true,
   "sideBar": true,
   "skip_h1_title": false,
   "title_cell": "Table of Contents",
   "title_sidebar": "Contents",
   "toc_cell": false,
   "toc_position": {},
   "toc_section_display": true,
   "toc_window_display": false
  },
  "varInspector": {
   "cols": {
    "lenName": 16,
    "lenType": 16,
    "lenVar": 40
   },
   "kernels_config": {
    "python": {
     "delete_cmd_postfix": "",
     "delete_cmd_prefix": "del ",
     "library": "var_list.py",
     "varRefreshCmd": "print(var_dic_list())"
    },
    "r": {
     "delete_cmd_postfix": ") ",
     "delete_cmd_prefix": "rm(",
     "library": "var_list.r",
     "varRefreshCmd": "cat(var_dic_list()) "
    }
   },
   "types_to_exclude": [
    "module",
    "function",
    "builtin_function_or_method",
    "instance",
    "_Feature"
   ],
   "window_display": false
  },
  "vscode": {
   "interpreter": {
    "hash": "c6b833c0fa46234c4ee025f105f2f809ee2737c106950d00a555df63e67206c4"
   }
  }
 },
 "nbformat": 4,
 "nbformat_minor": 1
}
