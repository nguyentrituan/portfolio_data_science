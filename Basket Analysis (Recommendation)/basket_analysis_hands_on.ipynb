{
 "cells": [
  {
   "cell_type": "markdown",
   "id": "90389d7e",
   "metadata": {},
   "source": [
    "# Association Rules Mining / Basket Analysis\n",
    "\n",
    "Basket Analysis (BA) is a powerful technique to mining the assocation between items within a basket, the result could be communicated as **Frequently Bought Together** items, that is used to:\n",
    "\n",
    "- Create the bundle of items\n",
    "- Recommend other items to add to basket (as \"Frequently Bought Togther\")\n",
    "\n",
    "BA is recommendation algorithm, but not personalization, as it is item-based, and not personalize the recommend by user.\n",
    "\n",
    "**The interesting of this hands-on**:\n",
    "\n",
    "- Instead of using any available public dataset, we will generate the synthetic data, by that:\n",
    "    - We understand deeply the data structure used for this model\n",
    "    - We can validate if the output make sense or not\n",
    "- Instead of using the existing Python package (such as: `mlxtend.frequent_patterns`), we will code the logic of Apriori Algorithm by our own, _it is the best way to understand the model in deeper level_\n",
    "\n"
   ]
  },
  {
   "cell_type": "code",
   "execution_count": null,
   "id": "c3c8d290",
   "metadata": {
    "ExecuteTime": {
     "end_time": "2023-03-10T08:51:39.285946Z",
     "start_time": "2023-03-10T08:51:39.281590Z"
    }
   },
   "outputs": [],
   "source": [
    "import os\n",
    "import sys\n",
    "from typing import Dict\n",
    "from numpy.random import choice, randint\n",
    "from itertools import groupby\n",
    "import pandas as pd\n",
    "import pytest\n",
    "from itertools import combinations\n",
    "import matplotlib.pyplot as plt\n",
    "import seaborn as sns\n",
    "import string\n",
    "from graphviz import Digraph"
   ]
  },
  {
   "cell_type": "markdown",
   "id": "da3f9ee6",
   "metadata": {},
   "source": [
    "# Create basket synthetic data\n",
    "\n",
    "Structure of data input for basket analysis:\n",
    "\n",
    "- basket_1: apple, egg, milk\n",
    "- basket_2: carrot, milk\n",
    "- basket_3: apple, egg, carrot\n",
    "- basket_4: apple, egg\n",
    "- basket_5: apple, carrot"
   ]
  },
  {
   "cell_type": "markdown",
   "id": "273183e2",
   "metadata": {},
   "source": [
    "## def create_basket"
   ]
  },
  {
   "cell_type": "code",
   "execution_count": 619,
   "id": "77a13ea5",
   "metadata": {
    "ExecuteTime": {
     "end_time": "2023-03-10T09:04:52.529719Z",
     "start_time": "2023-03-10T09:04:52.526218Z"
    }
   },
   "outputs": [],
   "source": [
    "def create_basket(list_item: list, init_freq: list, n_basket: int) -> Dict:\n",
    "    \"\"\"Create a basket of items.\n",
    "    Args:\n",
    "        list_item (list): list of items ['beer', 'egg', 'cheese', 'bread']\n",
    "        init_freq (list): initial frequency of items [0.2, 0.3, 0.1, 0.4]\n",
    "    Returns:\n",
    "        Dict with key as basket_id (range of int from 0 to n_basket), value is first item of basket\n",
    "        Example: {1: 'apple', 2: 'egg', 3: 'orange'}\n",
    "    \"\"\"\n",
    "    baskets = {}\n",
    "    for basket_id in range(n_basket):\n",
    "        # TODO: Fill in __\n",
    "        # Hint: Google numpy.random.choice\n",
    "#         baskets[basket_id] = choice('FILLME_1', 'FILLME_2')\n",
    "        baskets[basket_id] = choice(list_item, p=init_freq)\n",
    "    return baskets"
   ]
  },
  {
   "cell_type": "code",
   "execution_count": null,
   "id": "24ffccf2",
   "metadata": {
    "ExecuteTime": {
     "end_time": "2023-03-10T09:03:21.536446Z",
     "start_time": "2023-03-10T09:03:21.510348Z"
    }
   },
   "outputs": [],
   "source": [
    "# Test function\n",
    "baskets_dict_test = create_basket(list_item=['beer', 'egg', 'cheese'], init_freq=[0.5, 0.5, 0.], n_basket=5)\n",
    "## Test 1\n",
    "for item in baskets_dict_test.values():\n",
    "    assert item in ['beer', 'egg', 'cheese']\n",
    "## Test 2\n",
    "assert len(baskets_dict_test.keys()) == 5\n",
    "print('PASS !!!!!')"
   ]
  },
  {
   "cell_type": "markdown",
   "id": "59191285",
   "metadata": {},
   "source": [
    "## def generate_next_items_by_associated_rule"
   ]
  },
  {
   "cell_type": "code",
   "execution_count": null,
   "id": "4ada42a3",
   "metadata": {
    "ExecuteTime": {
     "end_time": "2023-03-10T08:43:04.936126Z",
     "start_time": "2023-03-10T08:43:04.929971Z"
    }
   },
   "outputs": [],
   "source": [
    "# associated_rules = {'bread': {'egg': 0.3, 'cheese': 0.2},\n",
    "#                     'egg': {'apple': 0.2},\n",
    "#                     'cheese': {'egg': 0.3},\n",
    "#                     'beer': {'cheese': 0.2, 'wine': 0.5},\n",
    "#                     'apple': {'orange': 0.2}\n",
    "#                    }\n",
    "\n",
    "# synthetic_item_list = ['beer', 'egg', 'cheese', 'bread', 'wine', 'apple', 'orange']\n",
    "def generate_next_items_by_associated_rule(item, associated_rules, synthetic_item_list):\n",
    "    \"\"\"Pre-defined logic of association\n",
    "    Args:\n",
    "        item: seeding item\n",
    "        associated_rules: we pre-define the rules, to see if the model succesfully to detect it\n",
    "        synthetic_item_list: full list of item\n",
    "    Returns:\n",
    "        next item\n",
    "    \"\"\"\n",
    "    try:\n",
    "        # (1) By the item inputs, extract the associated_items from the rules\n",
    "        associated_items = list(associated_rules['FILLME_1'].keys())\n",
    "        # (2) By the item inputs, extract the freqs of those associated_items from the rules\n",
    "        associated_items_freqs = list(associated_rules['FILLME_2'].values())\n",
    "        # (3) Take other items not the list of associated_items, and item itself\n",
    "        other_items = [i for i in 'FILLME_3' if i not in [item, *associated_items]]\n",
    "        # (4) The prob of other items could be equally random: (1 - sum(associate_prob)) / each itme\n",
    "        other_freq = 'FILLME_4'\n",
    "        other_freqs = np.repeat(other_freq, len(other_items)-1)\n",
    "        next_item = choice([*associated_items, *other_items], \n",
    "                           p=[*associated_items_freqs, \n",
    "                              *other_freqs, \n",
    "                              1. - np.sum(associated_items_freqs) - np.sum(other_freqs)])\n",
    "    except:\n",
    "        other_items = [i for i in synthetic_item_list if i != item]\n",
    "        next_item = choice(other_items)\n",
    "    return next_item"
   ]
  },
  {
   "cell_type": "code",
   "execution_count": 625,
   "id": "7e42fb2d",
   "metadata": {
    "ExecuteTime": {
     "end_time": "2023-03-10T09:09:40.754304Z",
     "start_time": "2023-03-10T09:09:40.748835Z"
    }
   },
   "outputs": [
    {
     "name": "stdout",
     "output_type": "stream",
     "text": [
      "EXAMPLE\n",
      "beer ==> wine\n",
      "egg ==> apple\n",
      "cheese ==> apple\n",
      "bread ==> cheese\n",
      "wine ==> orange\n",
      "apple ==> beer\n",
      "orange ==> beer\n"
     ]
    }
   ],
   "source": [
    "print('EXAMPLE')\n",
    "for item in synthetic_item_list:\n",
    "    next_item = generate_associated_items_by_rule(item, associated_rules, synthetic_item_list)\n",
    "    print(f'{item} ==> {next_item}')"
   ]
  },
  {
   "cell_type": "markdown",
   "id": "5269d6c5",
   "metadata": {},
   "source": [
    "## Parameters"
   ]
  },
  {
   "cell_type": "code",
   "execution_count": 620,
   "id": "1bbd7e13",
   "metadata": {
    "ExecuteTime": {
     "end_time": "2023-03-10T09:04:58.206784Z",
     "start_time": "2023-03-10T09:04:58.203603Z"
    }
   },
   "outputs": [],
   "source": [
    "# Parameters\n",
    "synthetic_item_list = ['beer', 'egg', 'cheese', 'bread', 'wine', 'apple', 'orange']\n",
    "synthetic_init_freq = [0.2, 0.05, 0.1, 0.3, 0.05, 0.2, 0.1]"
   ]
  },
  {
   "cell_type": "code",
   "execution_count": 622,
   "id": "1af494a4",
   "metadata": {
    "ExecuteTime": {
     "end_time": "2023-03-10T09:06:08.243057Z",
     "start_time": "2023-03-10T09:06:08.238622Z"
    }
   },
   "outputs": [],
   "source": [
    "associated_rules = {'bread': {'egg': 0.3, 'cheese': 0.2},\n",
    "                    'egg': {'apple': 0.2},\n",
    "                    'cheese': {'egg': 0.3},\n",
    "                    'beer': {'cheese': 0.2, 'wine': 0.5},\n",
    "                    'apple': {'orange': 0.2}\n",
    "                   }"
   ]
  },
  {
   "cell_type": "markdown",
   "id": "833e81fd",
   "metadata": {},
   "source": [
    "## Initialize basket"
   ]
  },
  {
   "cell_type": "code",
   "execution_count": 621,
   "id": "2e8dcfbe",
   "metadata": {
    "ExecuteTime": {
     "end_time": "2023-03-10T09:04:59.022996Z",
     "start_time": "2023-03-10T09:04:58.997056Z"
    }
   },
   "outputs": [],
   "source": [
    "# Initialize the basket_dict with 1st item from synthetic_item_list, synthetic_init_freq, with 1000 baskets\n",
    "baskets_dict = create_basket('FILLME1')"
   ]
  },
  {
   "cell_type": "code",
   "execution_count": 631,
   "id": "679a2022",
   "metadata": {
    "ExecuteTime": {
     "end_time": "2023-03-10T09:16:43.742202Z",
     "start_time": "2023-03-10T09:16:43.556170Z"
    }
   },
   "outputs": [],
   "source": [
    "# Create synthetic\n",
    "basket_df = pd.DataFrame({\n",
    "    'basket_id': baskets_dict.keys(),\n",
    "    'items_list': [[item] for item in baskets_dict.values()],\n",
    "    'size_basket': randint(low=2, high=4, size=1000, dtype=int)\n",
    "})\n",
    "\n",
    "# (1) Loop over the maximum size of basket, and add new_item into items_lists based on the last item in item_list\n",
    "for i in range(basket_df.size_basket.max()):\n",
    "    basket_df['items_list'] = (basket_df.items_list\n",
    "                               .apply(\n",
    "                                   lambda x: [*x, \n",
    "                                              # Hint: FILLME_1 is a function\n",
    "                                              'FILLME_1'(x[-1], 'FILLME_2', 'FILLME_3')\n",
    "                                             ]\n",
    "                                     )\n",
    "                              )\n",
    "\n",
    "basket_df['items_list'] = basket_df.items_list.apply(lambda x: list(dict.fromkeys(x))) # dedup\n",
    "# (2) Trim the basket so the num_items = size_baskets\n",
    "basket_df['items_list'] = basket_df.apply(lambda r: r.items_list[:'FILLME_4'], axis=1)\n",
    "\n",
    "basket_df.drop(columns='size_basket', inplace=True)"
   ]
  },
  {
   "cell_type": "code",
   "execution_count": 632,
   "id": "c2f6e709",
   "metadata": {
    "ExecuteTime": {
     "end_time": "2023-03-10T09:16:46.755265Z",
     "start_time": "2023-03-10T09:16:46.747282Z"
    }
   },
   "outputs": [
    {
     "data": {
      "text/html": [
       "<div>\n",
       "<style scoped>\n",
       "    .dataframe tbody tr th:only-of-type {\n",
       "        vertical-align: middle;\n",
       "    }\n",
       "\n",
       "    .dataframe tbody tr th {\n",
       "        vertical-align: top;\n",
       "    }\n",
       "\n",
       "    .dataframe thead th {\n",
       "        text-align: right;\n",
       "    }\n",
       "</style>\n",
       "<table border=\"1\" class=\"dataframe\">\n",
       "  <thead>\n",
       "    <tr style=\"text-align: right;\">\n",
       "      <th></th>\n",
       "      <th>basket_id</th>\n",
       "      <th>items_list</th>\n",
       "    </tr>\n",
       "  </thead>\n",
       "  <tbody>\n",
       "    <tr>\n",
       "      <th>0</th>\n",
       "      <td>0</td>\n",
       "      <td>[bread, beer, wine]</td>\n",
       "    </tr>\n",
       "    <tr>\n",
       "      <th>1</th>\n",
       "      <td>1</td>\n",
       "      <td>[cheese, apple, wine]</td>\n",
       "    </tr>\n",
       "    <tr>\n",
       "      <th>2</th>\n",
       "      <td>2</td>\n",
       "      <td>[orange, cheese]</td>\n",
       "    </tr>\n",
       "    <tr>\n",
       "      <th>3</th>\n",
       "      <td>3</td>\n",
       "      <td>[orange, wine, egg]</td>\n",
       "    </tr>\n",
       "    <tr>\n",
       "      <th>4</th>\n",
       "      <td>4</td>\n",
       "      <td>[bread, egg]</td>\n",
       "    </tr>\n",
       "  </tbody>\n",
       "</table>\n",
       "</div>"
      ],
      "text/plain": [
       "   basket_id             items_list\n",
       "0          0    [bread, beer, wine]\n",
       "1          1  [cheese, apple, wine]\n",
       "2          2       [orange, cheese]\n",
       "3          3    [orange, wine, egg]\n",
       "4          4           [bread, egg]"
      ]
     },
     "execution_count": 632,
     "metadata": {},
     "output_type": "execute_result"
    }
   ],
   "source": [
    "# The data input for BA will look like this\n",
    "basket_df.head()"
   ]
  },
  {
   "cell_type": "markdown",
   "id": "e9fe2a5f",
   "metadata": {},
   "source": [
    "# Apriori Algorithms"
   ]
  },
  {
   "cell_type": "markdown",
   "id": "d56ebb27",
   "metadata": {},
   "source": [
    "## Step 1: Item_support\n",
    "\n",
    "```\n",
    "order 1: apple, egg, milk  \n",
    "order 2: carrot, milk  \n",
    "order 3: apple, egg, carrot\n",
    "order 4: apple, egg\n",
    "order 5: apple, carrot\n",
    "```\n",
    "\n",
    "Count how frequent a single items appear in a basket:\n",
    "\n",
    "```\n",
    "item set      occurrence count    \n",
    "{apple}              4   \n",
    "{egg}                3   \n",
    "{milk}               2   \n",
    "{carrot}             2   \n",
    "```\n",
    "\n",
    "> We can set some min_occurrence to remove cold-item, for example: `min_occur_thres = 2`, we will remove `{milk}`, and `{carrot}`\n",
    "\n"
   ]
  },
  {
   "cell_type": "code",
   "execution_count": 630,
   "id": "38827540",
   "metadata": {
    "ExecuteTime": {
     "end_time": "2023-03-10T09:14:52.093012Z",
     "start_time": "2023-03-10T09:14:52.075419Z"
    }
   },
   "outputs": [
    {
     "data": {
      "text/html": [
       "<div>\n",
       "<style scoped>\n",
       "    .dataframe tbody tr th:only-of-type {\n",
       "        vertical-align: middle;\n",
       "    }\n",
       "\n",
       "    .dataframe tbody tr th {\n",
       "        vertical-align: top;\n",
       "    }\n",
       "\n",
       "    .dataframe thead th {\n",
       "        text-align: right;\n",
       "    }\n",
       "</style>\n",
       "<table border=\"1\" class=\"dataframe\">\n",
       "  <thead>\n",
       "    <tr style=\"text-align: right;\">\n",
       "      <th></th>\n",
       "      <th>item_name</th>\n",
       "      <th>occurence</th>\n",
       "      <th>item_support</th>\n",
       "    </tr>\n",
       "  </thead>\n",
       "  <tbody>\n",
       "    <tr>\n",
       "      <th>0</th>\n",
       "      <td>apple</td>\n",
       "      <td>340</td>\n",
       "      <td>0.137152</td>\n",
       "    </tr>\n",
       "    <tr>\n",
       "      <th>1</th>\n",
       "      <td>beer</td>\n",
       "      <td>372</td>\n",
       "      <td>0.150061</td>\n",
       "    </tr>\n",
       "    <tr>\n",
       "      <th>2</th>\n",
       "      <td>bread</td>\n",
       "      <td>457</td>\n",
       "      <td>0.184349</td>\n",
       "    </tr>\n",
       "    <tr>\n",
       "      <th>3</th>\n",
       "      <td>cheese</td>\n",
       "      <td>331</td>\n",
       "      <td>0.133522</td>\n",
       "    </tr>\n",
       "    <tr>\n",
       "      <th>4</th>\n",
       "      <td>egg</td>\n",
       "      <td>332</td>\n",
       "      <td>0.133925</td>\n",
       "    </tr>\n",
       "    <tr>\n",
       "      <th>5</th>\n",
       "      <td>orange</td>\n",
       "      <td>299</td>\n",
       "      <td>0.120613</td>\n",
       "    </tr>\n",
       "    <tr>\n",
       "      <th>6</th>\n",
       "      <td>wine</td>\n",
       "      <td>348</td>\n",
       "      <td>0.140379</td>\n",
       "    </tr>\n",
       "  </tbody>\n",
       "</table>\n",
       "</div>"
      ],
      "text/plain": [
       "  item_name  occurence  item_support\n",
       "0     apple        340      0.137152\n",
       "1      beer        372      0.150061\n",
       "2     bread        457      0.184349\n",
       "3    cheese        331      0.133522\n",
       "4       egg        332      0.133925\n",
       "5    orange        299      0.120613\n",
       "6      wine        348      0.140379"
      ]
     },
     "execution_count": 630,
     "metadata": {},
     "output_type": "execute_result"
    }
   ],
   "source": [
    "df_item_line = (basket_df[['basket_id', 'items_list', 'size_basket']]\n",
    "                .explode('items_list')\n",
    "                .rename(columns={'items_list': 'item_name'})\n",
    "               )\n",
    "df_item_support = df_item_line.'FILME_1'.'FILLME_2'.nunique().rename('occurence').reset_index() \n",
    "df_item_support['item_support'] = df_item_support.occurence / df_item_support.occurence.sum()\n",
    "df_item_support"
   ]
  },
  {
   "cell_type": "markdown",
   "id": "6ee48ecd",
   "metadata": {},
   "source": [
    "## Step 2: Create pair of items\n",
    "\n",
    "1. We need to remove the item not satisfied `min_occur_thres=2`, in our synthetic case, there is no removed item, but in 5-basket example, we have `{apple}` and `{egg}`\n",
    "2. Calculate the occurence of pair:\n",
    "```\n",
    "item set           occurence count  \n",
    "{apple, egg}             3  \n",
    "```"
   ]
  },
  {
   "cell_type": "code",
   "execution_count": 634,
   "id": "9b4fe45c",
   "metadata": {
    "ExecuteTime": {
     "end_time": "2023-03-10T09:25:45.461154Z",
     "start_time": "2023-03-10T09:25:45.447451Z"
    }
   },
   "outputs": [
    {
     "data": {
      "text/html": [
       "<div>\n",
       "<style scoped>\n",
       "    .dataframe tbody tr th:only-of-type {\n",
       "        vertical-align: middle;\n",
       "    }\n",
       "\n",
       "    .dataframe tbody tr th {\n",
       "        vertical-align: top;\n",
       "    }\n",
       "\n",
       "    .dataframe thead th {\n",
       "        text-align: right;\n",
       "    }\n",
       "</style>\n",
       "<table border=\"1\" class=\"dataframe\">\n",
       "  <thead>\n",
       "    <tr style=\"text-align: right;\">\n",
       "      <th></th>\n",
       "      <th>basket_id</th>\n",
       "      <th>items_list</th>\n",
       "      <th>item_pairs</th>\n",
       "    </tr>\n",
       "  </thead>\n",
       "  <tbody>\n",
       "    <tr>\n",
       "      <th>0</th>\n",
       "      <td>0</td>\n",
       "      <td>[bread, beer, wine]</td>\n",
       "      <td>[(bread, beer), (bread, wine), (beer, wine)]</td>\n",
       "    </tr>\n",
       "    <tr>\n",
       "      <th>1</th>\n",
       "      <td>1</td>\n",
       "      <td>[cheese, apple, wine]</td>\n",
       "      <td>[(cheese, apple), (cheese, wine), (apple, wine)]</td>\n",
       "    </tr>\n",
       "    <tr>\n",
       "      <th>2</th>\n",
       "      <td>2</td>\n",
       "      <td>[orange, cheese]</td>\n",
       "      <td>[(orange, cheese)]</td>\n",
       "    </tr>\n",
       "    <tr>\n",
       "      <th>3</th>\n",
       "      <td>3</td>\n",
       "      <td>[orange, wine, egg]</td>\n",
       "      <td>[(orange, wine), (orange, egg), (wine, egg)]</td>\n",
       "    </tr>\n",
       "    <tr>\n",
       "      <th>4</th>\n",
       "      <td>4</td>\n",
       "      <td>[bread, egg]</td>\n",
       "      <td>[(bread, egg)]</td>\n",
       "    </tr>\n",
       "  </tbody>\n",
       "</table>\n",
       "</div>"
      ],
      "text/plain": [
       "   basket_id             items_list  \\\n",
       "0          0    [bread, beer, wine]   \n",
       "1          1  [cheese, apple, wine]   \n",
       "2          2       [orange, cheese]   \n",
       "3          3    [orange, wine, egg]   \n",
       "4          4           [bread, egg]   \n",
       "\n",
       "                                         item_pairs  \n",
       "0      [(bread, beer), (bread, wine), (beer, wine)]  \n",
       "1  [(cheese, apple), (cheese, wine), (apple, wine)]  \n",
       "2                                [(orange, cheese)]  \n",
       "3      [(orange, wine), (orange, egg), (wine, egg)]  \n",
       "4                                    [(bread, egg)]  "
      ]
     },
     "execution_count": 634,
     "metadata": {},
     "output_type": "execute_result"
    }
   ],
   "source": [
    "# Create all possible pair from the items_list\n",
    "basket_df['item_pairs'] = basket_df.items_list.apply(lambda x: list('FILLME')) # Hints: itertools.combinations\n",
    "basket_df.head()"
   ]
  },
  {
   "cell_type": "code",
   "execution_count": 636,
   "id": "4c042ac5",
   "metadata": {
    "ExecuteTime": {
     "end_time": "2023-03-10T09:26:01.138841Z",
     "start_time": "2023-03-10T09:26:01.124222Z"
    }
   },
   "outputs": [
    {
     "data": {
      "text/html": [
       "<div>\n",
       "<style scoped>\n",
       "    .dataframe tbody tr th:only-of-type {\n",
       "        vertical-align: middle;\n",
       "    }\n",
       "\n",
       "    .dataframe tbody tr th {\n",
       "        vertical-align: top;\n",
       "    }\n",
       "\n",
       "    .dataframe thead th {\n",
       "        text-align: right;\n",
       "    }\n",
       "</style>\n",
       "<table border=\"1\" class=\"dataframe\">\n",
       "  <thead>\n",
       "    <tr style=\"text-align: right;\">\n",
       "      <th></th>\n",
       "      <th>item_pairs</th>\n",
       "      <th>occurence_AB</th>\n",
       "    </tr>\n",
       "  </thead>\n",
       "  <tbody>\n",
       "    <tr>\n",
       "      <th>0</th>\n",
       "      <td>(apple, beer)</td>\n",
       "      <td>55</td>\n",
       "    </tr>\n",
       "    <tr>\n",
       "      <th>1</th>\n",
       "      <td>(apple, bread)</td>\n",
       "      <td>53</td>\n",
       "    </tr>\n",
       "    <tr>\n",
       "      <th>2</th>\n",
       "      <td>(apple, cheese)</td>\n",
       "      <td>61</td>\n",
       "    </tr>\n",
       "    <tr>\n",
       "      <th>3</th>\n",
       "      <td>(apple, egg)</td>\n",
       "      <td>52</td>\n",
       "    </tr>\n",
       "    <tr>\n",
       "      <th>4</th>\n",
       "      <td>(apple, orange)</td>\n",
       "      <td>52</td>\n",
       "    </tr>\n",
       "  </tbody>\n",
       "</table>\n",
       "</div>"
      ],
      "text/plain": [
       "        item_pairs  occurence_AB\n",
       "0    (apple, beer)            55\n",
       "1   (apple, bread)            53\n",
       "2  (apple, cheese)            61\n",
       "3     (apple, egg)            52\n",
       "4  (apple, orange)            52"
      ]
     },
     "execution_count": 636,
     "metadata": {},
     "output_type": "execute_result"
    }
   ],
   "source": [
    "df_item_pairs = basket_df[['basket_id', 'item_pairs']].explode('item_pairs')\n",
    "df_item_pairs = # FILLME\n",
    "df_item_pairs.head()"
   ]
  },
  {
   "cell_type": "markdown",
   "id": "02f2968c",
   "metadata": {},
   "source": [
    "## Step 3: Support_AB\n",
    "\n",
    "The percentage of order that contains the item_pairs: \n",
    "\n",
    "```\n",
    "support{apple,egg} = 3/5 or 60%\n",
    "```\n",
    "\n",
    "Later, **minimum support threshold** will need to be set, commonly based on the domain knowlegde. For grocery dataset, for example, it could me many distinct items, so the pair will take only a small fraction of combinations in an basket/order (as low as 0.01% could be accepted)"
   ]
  },
  {
   "cell_type": "code",
   "execution_count": null,
   "id": "6a805c41",
   "metadata": {
    "ExecuteTime": {
     "end_time": "2023-03-10T08:43:11.600993Z",
     "start_time": "2023-03-10T08:43:11.590139Z"
    }
   },
   "outputs": [],
   "source": [
    "# support{apple,egg} = 3/5 or 60%\n",
    "df_item_pairs['support_AB'] = df_item_pairs.occurence_AB / df_item_pairs.occurence_AB.sum()\n",
    "df_item_pairs.sort_values(by='support_AB', ascending=False).head()"
   ]
  },
  {
   "cell_type": "markdown",
   "id": "52e37d3c",
   "metadata": {},
   "source": [
    "## Step 4: Confidence\n",
    "\n",
    "Given two items, A and B, confidence measures the percentage of times that item B is purchased, given that item A was purchased. This is expressed as:\n",
    "\n",
    "```\n",
    "confidence{A->B} = support{A,B} / support{A}   \n",
    "```\n",
    "\n",
    "```\n",
    "confidence{B->A} = support{A,B} / support{B}    \n",
    "```\n",
    "\n",
    "Confidence values range from 0 to 1, where 0 indicates that B is never purchased when A is purchased, and 1 indicates that B is always purchased whenever A is purchased. Note that the confidence measure is directional. This means that we can also compute the percentage of times that item A is purchased, given that item B was purchased."
   ]
  },
  {
   "cell_type": "markdown",
   "id": "967abac5",
   "metadata": {},
   "source": [
    "First, we need to merge support of item A and B from `df_item_support`"
   ]
  },
  {
   "cell_type": "code",
   "execution_count": null,
   "id": "a70dbd61",
   "metadata": {
    "ExecuteTime": {
     "end_time": "2023-03-10T08:43:10.840385Z",
     "start_time": "2023-03-10T08:43:10.809880Z"
    }
   },
   "outputs": [],
   "source": [
    "# Take itemA as the first item in item_pairs\n",
    "# Take itemB as the second item in item_pairs\n",
    "df_item_pairs['itemA'] = df_item_pairs.item_pairs.apply(lambda x: 'FILLME_1')\n",
    "df_item_pairs['itemB'] = df_item_pairs.item_pairs.apply(lambda x: 'FILLME_2')\n",
    "\n",
    "# Merge item_support of item A from df_item_support\n",
    "# Hint: rename item_name to itemA, item_support to supportA, similar to B\n",
    "df_item_pairs = pd.merge(\n",
    "    df_item_pairs, \n",
    "    'FILLME_3'\n",
    ")\n",
    "df_item_pairs = pd.merge(\n",
    "    df_item_pairs, \n",
    "    'FILLME_4'\n",
    ")"
   ]
  },
  {
   "cell_type": "markdown",
   "id": "f8d37e87",
   "metadata": {},
   "source": [
    "Second, calculate `confidence_AB` and `confidence_BA`"
   ]
  },
  {
   "cell_type": "code",
   "execution_count": null,
   "id": "f42fac85",
   "metadata": {
    "ExecuteTime": {
     "end_time": "2023-03-10T09:37:06.013085Z",
     "start_time": "2023-03-10T09:37:05.987676Z"
    }
   },
   "outputs": [],
   "source": [
    "# confidence{A->B} = support{A,B} / support{A}   \n",
    "df_item_pairs['confidence_AB'] = 'FILLME_1'\n",
    "df_item_pairs['confidence_BA'] = 'FILLME_2'\n",
    "df_item_pairs.sort_values(by='support_AB', ascending=False).head()"
   ]
  },
  {
   "cell_type": "markdown",
   "id": "fbad7407",
   "metadata": {},
   "source": [
    "## Step 5: Lift\n",
    "\n",
    "Given two items, A and B, lift indicates whether there is a relationship between A and B, or whether the two items are occuring together in the same orders simply by chance (ie: at random)\n",
    "\n",
    "```\n",
    "lift{A,B} = lift{B,A} = support{A,B} / (support{A} * support{B})\n",
    "```\n",
    "\n",
    "For examople, \n",
    "```\n",
    "  lift{apple,egg} = lift{egg,apple} = support{apple,egg} / (support{apple} * support{egg})\n",
    "                  = (3/5) / (4/5 * 3/5) \n",
    "                  = 1.25  \n",
    "```\n",
    "> If apple occurred in 80% of the orders and egg occurred in 60% of the orders, then if there was no relationship between them, we would expect both of them to show up together in the same order 48% of the time (ie: 80% * 60%). The numerator, on the other hand, represents how often apple and egg actually appear together in the same order. In this example, that is 60% of the time. Taking the numerator and dividing it by the denominator, we get to how many more times apple and egg actually appear in the same order, compared to if there was no relationship between them (ie: that they are occurring together simply at random).\n",
    "\n",
    "Intepretation\n",
    "```\n",
    " * lift = 1 implies no relationship between A and B. \n",
    "   (ie: A and B occur together only by chance)\n",
    "\n",
    " * lift > 1 implies that there is a positive relationship between A and B.\n",
    "   (ie:  A and B occur together more often than random)\n",
    "\n",
    " * lift < 1 implies that there is a negative relationship between A and B.\n",
    "   (ie:  A and B occur together less often than random)\n",
    "```"
   ]
  },
  {
   "cell_type": "code",
   "execution_count": null,
   "id": "b66c2a31",
   "metadata": {
    "ExecuteTime": {
     "end_time": "2023-03-10T08:43:13.643646Z",
     "start_time": "2023-03-10T08:43:13.618673Z"
    }
   },
   "outputs": [],
   "source": [
    "# lift{A,B} = lift{B,A} = support{A,B} / (support{A} * support{B}) \n",
    "df_item_pairs['lift'] = df_item_pairs.support_AB / (df_item_pairs.supportA * df_item_pairs.supportB)\n",
    "df_item_pairs.sort_values(by='support_AB', ascending=False).head()"
   ]
  },
  {
   "cell_type": "markdown",
   "id": "1b405343",
   "metadata": {},
   "source": [
    "# Deep-dive the results"
   ]
  },
  {
   "cell_type": "markdown",
   "id": "6cfec8e5",
   "metadata": {},
   "source": [
    "Now, let's check the distribution of support, confidence, and lift"
   ]
  },
  {
   "cell_type": "code",
   "execution_count": null,
   "id": "5991594a",
   "metadata": {
    "ExecuteTime": {
     "end_time": "2023-03-10T08:43:14.735784Z",
     "start_time": "2023-03-10T08:43:14.389816Z"
    }
   },
   "outputs": [],
   "source": [
    "fig, axs = plt.subplots(1, 3, figsize=(13, 5))\n",
    "\n",
    "xs = ['lift', 'support_AB', 'confidence_AB']\n",
    "colors = ['skyblue', 'olive', 'gold']\n",
    "\n",
    "for i in range(3):\n",
    "    sns.histplot(data=df_item_pairs, x=xs[i], kde=True, color=colors[i], ax=axs[i])"
   ]
  },
  {
   "cell_type": "markdown",
   "id": "24e4f640",
   "metadata": {},
   "source": [
    "## min_support, num_rules, confidence\n",
    "\n",
    "When min_support is higher, we have less numbers of rules (consider with confidence, there are not much left). Let's check on the trade-off between min_support, num_rules, and consideration with confidence level"
   ]
  },
  {
   "cell_type": "code",
   "execution_count": null,
   "id": "b78195e2",
   "metadata": {
    "ExecuteTime": {
     "end_time": "2023-03-10T08:43:15.286289Z",
     "start_time": "2023-03-10T08:43:15.271987Z"
    }
   },
   "outputs": [],
   "source": [
    "def plot_numrules_confidence_lvl(df_item_pairs, min_support, ax):\n",
    "    rules_df = df_item_pairs[df_item_pairs.support_AB >= min_support]\n",
    "    confidence_levels = np.arange(0, 1, 0.1)\n",
    "    num_rules = []\n",
    "    for thres_lvl in confidence_levels:\n",
    "        rule_cnt = rules_df[rules_df.confidence_AB > thres_lvl].shape[0]\n",
    "        num_rules.append(rule_cnt)\n",
    "    \n",
    "    df_confidence_rule_cnt = pd.DataFrame({\n",
    "        'confidence_level': confidence_levels,\n",
    "        'num_rules': num_rules\n",
    "    }).set_index('confidence_level')\n",
    "    \n",
    "    ax.plot(confidence_levels, num_rules, 'o-', color='black')\n",
    "    ax.set_title(f'Cut-off: support_AB >= {min_support}')\n",
    "    ax.set_xlabel('Confidence level')\n",
    "    return ax"
   ]
  },
  {
   "cell_type": "code",
   "execution_count": null,
   "id": "e5d599a1",
   "metadata": {
    "ExecuteTime": {
     "end_time": "2023-03-10T08:43:16.437587Z",
     "start_time": "2023-03-10T08:43:16.180779Z"
    }
   },
   "outputs": [],
   "source": [
    "fig, axs = plt.subplots(1, 3, figsize=(13, 5))\n",
    "min_support = [0.01, 0.03, 0.05]\n",
    "for i in range(3):\n",
    "    plot_numrules_confidence_lvl(df_item_pairs, min_support=min_support[i], ax=axs[i])\n",
    "    if i == 0:\n",
    "        axs[i].set_ylabel('Number of rules')"
   ]
  },
  {
   "cell_type": "markdown",
   "id": "51800f25",
   "metadata": {},
   "source": [
    "## Filter min_support & min_confidence"
   ]
  },
  {
   "cell_type": "code",
   "execution_count": null,
   "id": "9440d584",
   "metadata": {
    "ExecuteTime": {
     "end_time": "2023-03-10T08:43:44.183317Z",
     "start_time": "2023-03-10T08:43:44.175751Z"
    }
   },
   "outputs": [],
   "source": [
    "df_item_pairs_flr_support = df_item_pairs[df_item_pairs.support_AB >= 0.01]\n",
    "df_item_pairs_flr_support_confi = df_item_pairs_flr_support[df_item_pairs_flr_support.confidence_AB >= 0.2]\n",
    "print(df_item_pairs.shape)\n",
    "print(df_item_pairs_flr_support.shape)\n",
    "print(df_item_pairs_flr_support_confi.shape)"
   ]
  },
  {
   "cell_type": "markdown",
   "id": "702e988e",
   "metadata": {},
   "source": [
    "## Sense-check: lift = 1, lift >> 1"
   ]
  },
  {
   "cell_type": "code",
   "execution_count": null,
   "id": "747680c9",
   "metadata": {
    "ExecuteTime": {
     "end_time": "2023-03-10T08:43:44.974593Z",
     "start_time": "2023-03-10T08:43:44.961682Z"
    }
   },
   "outputs": [],
   "source": [
    "# lift = 1 implies no relationship between A and B. \n",
    "# (ie: A and B occur together only by chance)\n",
    "df_item_pairs[df_item_pairs.lift.between(0.9, 1.1)].head()"
   ]
  },
  {
   "cell_type": "code",
   "execution_count": null,
   "id": "32b8bd9f",
   "metadata": {
    "ExecuteTime": {
     "end_time": "2023-03-10T08:43:45.711482Z",
     "start_time": "2023-03-10T08:43:45.705519Z"
    }
   },
   "outputs": [],
   "source": [
    "df_item_pairs_flr_support_confi[df_item_pairs_flr_support_confi.lift.between(0.9, 1.1)].shape"
   ]
  },
  {
   "cell_type": "code",
   "execution_count": null,
   "id": "2c05aecd",
   "metadata": {
    "ExecuteTime": {
     "end_time": "2023-03-10T08:43:46.404337Z",
     "start_time": "2023-03-10T08:43:46.392709Z"
    }
   },
   "outputs": [],
   "source": [
    "# lift > 1 implies that there is a positive relationship between A and B.\n",
    "# (ie:  A and B occur together more often than random)\n",
    "df_item_pairs_flr_support_confi.sort_values(by='lift', ascending=False).head()"
   ]
  },
  {
   "cell_type": "code",
   "execution_count": null,
   "id": "3fbd6479",
   "metadata": {
    "ExecuteTime": {
     "end_time": "2023-03-10T08:43:47.090773Z",
     "start_time": "2023-03-10T08:43:47.077114Z"
    }
   },
   "outputs": [],
   "source": [
    "df_item_pairs_flr_support_confi.sort_values(by='lift', ascending=False).tail()"
   ]
  },
  {
   "cell_type": "markdown",
   "id": "68c7b09b",
   "metadata": {},
   "source": [
    "## Heatmap of lift x items-pairs"
   ]
  },
  {
   "cell_type": "code",
   "execution_count": null,
   "id": "f14e1a84",
   "metadata": {
    "ExecuteTime": {
     "end_time": "2023-03-10T08:43:48.098322Z",
     "start_time": "2023-03-10T08:43:47.803492Z"
    }
   },
   "outputs": [],
   "source": [
    "fig, axs = plt.subplots(1, 3, figsize=(13, 5))\n",
    "\n",
    "xs = ['lift', 'support_AB', 'confidence_AB']\n",
    "colors = ['skyblue', 'olive', 'gold']\n",
    "\n",
    "tit1 = 'without filter'\n",
    "tit2 = 'min-support>=0.01'\n",
    "tit3 = tit2 + ' ' + 'confi-lvl>=0.2'\n",
    "\n",
    "sns.histplot(data=df_item_pairs, x='lift', kde=True, color='gold', ax=axs[0]).set(title=tit1)\n",
    "sns.histplot(data=df_item_pairs_flr_support, x='lift', kde=True, color='olive', ax=axs[1]).set(title=tit2)\n",
    "sns.histplot(data=df_item_pairs_flr_support_confi, x='lift', kde=True, color='skyblue', ax=axs[2]).set(title=tit3);"
   ]
  },
  {
   "cell_type": "code",
   "execution_count": null,
   "id": "330059f9",
   "metadata": {
    "ExecuteTime": {
     "end_time": "2023-03-10T08:43:48.855138Z",
     "start_time": "2023-03-10T08:43:48.839225Z"
    }
   },
   "outputs": [],
   "source": [
    "df_apriori = df_item_pairs_flr_support_confi.sort_values(by='lift', ascending=False)\n",
    "df_apriori"
   ]
  },
  {
   "cell_type": "code",
   "execution_count": null,
   "id": "4ac9ba98",
   "metadata": {
    "ExecuteTime": {
     "end_time": "2023-03-10T08:43:49.846260Z",
     "start_time": "2023-03-10T08:43:49.662183Z"
    }
   },
   "outputs": [],
   "source": [
    "df_heatmap = (df_apriori\n",
    "              .groupby(['itemA', 'itemB']).lift.mean()\n",
    "              .reset_index()\n",
    "              .pivot(index='itemA', columns='itemB', values='lift')\n",
    "             )\n",
    "plt.figure(figsize=(7, 5))\n",
    "sns.heatmap(df_heatmap, annot=True, fmt='.1f', cmap=sns.cubehelix_palette(as_cmap=True))\n",
    "plt.title('Apriori output: Lift by item pair');"
   ]
  },
  {
   "cell_type": "markdown",
   "id": "c0bb3741",
   "metadata": {},
   "source": [
    "## Further: Filter by lift"
   ]
  },
  {
   "cell_type": "code",
   "execution_count": null,
   "id": "cc595288",
   "metadata": {
    "ExecuteTime": {
     "end_time": "2023-03-10T08:43:53.915476Z",
     "start_time": "2023-03-10T08:43:53.911286Z"
    }
   },
   "outputs": [],
   "source": [
    "df_apriori = df_apriori[df_apriori.lift >= 1.3]\n",
    "df_apriori"
   ]
  },
  {
   "cell_type": "code",
   "execution_count": null,
   "id": "f3480ac8",
   "metadata": {
    "ExecuteTime": {
     "end_time": "2023-03-10T08:43:54.821668Z",
     "start_time": "2023-03-10T08:43:54.619532Z"
    }
   },
   "outputs": [],
   "source": [
    "df_heatmap = (df_apriori\n",
    "              .groupby(['itemA', 'itemB']).lift.mean()\n",
    "              .reset_index()\n",
    "              .pivot(index='itemA', columns='itemB', values='lift')\n",
    "             )\n",
    "plt.figure(figsize=(7, 5))\n",
    "sns.heatmap(df_heatmap, annot=True, fmt='.1f', cmap=sns.cubehelix_palette(as_cmap=True))\n",
    "plt.title('Apriori output: Lift by item pair');"
   ]
  },
  {
   "cell_type": "markdown",
   "id": "f816cac8",
   "metadata": {},
   "source": [
    "## Intro to graph"
   ]
  },
  {
   "cell_type": "code",
   "execution_count": null,
   "id": "b3b140c7",
   "metadata": {
    "ExecuteTime": {
     "end_time": "2023-03-10T08:44:03.759707Z",
     "start_time": "2023-03-10T08:44:03.747978Z"
    }
   },
   "outputs": [],
   "source": [
    "# Create nodes_df\n",
    "associated_items_ls = pd.concat([df_apriori.itemA, df_apriori.itemB]).unique()\n",
    "nodes_df = df_item_support[df_item_support.item_name.isin(associated_items_ls)]\n",
    "\n",
    "alphanum_nodeid = list(string.ascii_lowercase) + [str(i) for i in range(9)]\n",
    "nodes_df['node_id'] = [alphanum_nodeid[i] for i in range(len(nodes_df))]\n",
    "nodes_df"
   ]
  },
  {
   "cell_type": "code",
   "execution_count": null,
   "id": "b0b8eb16",
   "metadata": {
    "ExecuteTime": {
     "end_time": "2023-03-10T08:44:04.502835Z",
     "start_time": "2023-03-10T08:44:04.478292Z"
    }
   },
   "outputs": [],
   "source": [
    "# Add node_id to df_apriori\n",
    "nodes_id_dict = {r.item_name: r.node_id for _, r in nodes_df.iterrows()}\n",
    "df_apriori['from_node_id'] = df_apriori.itemA.apply(lambda x: nodes_id_dict[x])\n",
    "df_apriori['to_node_id'] = df_apriori.itemB.apply(lambda x: nodes_id_dict[x])\n",
    "df_apriori['edge'] = df_apriori.from_node_id + df_apriori.to_node_id\n",
    "df_apriori"
   ]
  },
  {
   "cell_type": "code",
   "execution_count": null,
   "id": "ae772092",
   "metadata": {
    "ExecuteTime": {
     "end_time": "2023-03-10T08:44:06.267722Z",
     "start_time": "2023-03-10T08:44:06.021746Z"
    }
   },
   "outputs": [],
   "source": [
    "scaled_size = 4\n",
    "gra = Digraph(edge_attr={'color':'lightgray'},\n",
    "              node_attr={'shape': 'circle', 'fixedsize':'true', 'style': 'filled', 'fontsize': '10'},\n",
    "              graph_attr={'beautify':'true', 'margin': '0.5'},\n",
    "              format='pdf'\n",
    "             )\n",
    "\n",
    "for _, r in nodes_df.iterrows():\n",
    "    gra.node(r.node_id, r.item_name.lower(), **{'width':str(r.item_support * scaled_size)})\n",
    "\n",
    "gra.edges(df_apriori.edge.tolist())\n",
    "gra"
   ]
  },
  {
   "cell_type": "code",
   "execution_count": null,
   "id": "d5ea3e92",
   "metadata": {},
   "outputs": [],
   "source": []
  }
 ],
 "metadata": {
  "kernelspec": {
   "display_name": "Python 3 (ipykernel)",
   "language": "python",
   "name": "python3"
  },
  "language_info": {
   "codemirror_mode": {
    "name": "ipython",
    "version": 3
   },
   "file_extension": ".py",
   "mimetype": "text/x-python",
   "name": "python",
   "nbconvert_exporter": "python",
   "pygments_lexer": "ipython3",
   "version": "3.8.8"
  },
  "latex_envs": {
   "LaTeX_envs_menu_present": true,
   "autoclose": false,
   "autocomplete": true,
   "bibliofile": "biblio.bib",
   "cite_by": "apalike",
   "current_citInitial": 1,
   "eqLabelWithNumbers": true,
   "eqNumInitial": 1,
   "hotkeys": {
    "equation": "Ctrl-E",
    "itemize": "Ctrl-I"
   },
   "labels_anchors": false,
   "latex_user_defs": false,
   "report_style_numbering": false,
   "user_envs_cfg": false
  },
  "toc": {
   "base_numbering": 1,
   "nav_menu": {},
   "number_sections": true,
   "sideBar": true,
   "skip_h1_title": false,
   "title_cell": "Table of Contents",
   "title_sidebar": "Contents",
   "toc_cell": false,
   "toc_position": {},
   "toc_section_display": true,
   "toc_window_display": true
  },
  "varInspector": {
   "cols": {
    "lenName": 16,
    "lenType": 16,
    "lenVar": 40
   },
   "kernels_config": {
    "python": {
     "delete_cmd_postfix": "",
     "delete_cmd_prefix": "del ",
     "library": "var_list.py",
     "varRefreshCmd": "print(var_dic_list())"
    },
    "r": {
     "delete_cmd_postfix": ") ",
     "delete_cmd_prefix": "rm(",
     "library": "var_list.r",
     "varRefreshCmd": "cat(var_dic_list()) "
    }
   },
   "types_to_exclude": [
    "module",
    "function",
    "builtin_function_or_method",
    "instance",
    "_Feature"
   ],
   "window_display": false
  },
  "vscode": {
   "interpreter": {
    "hash": "fe499eaee30ab486884091db98fd06f34dd13a56b3fd15fdcb87a6046d8be81b"
   }
  }
 },
 "nbformat": 4,
 "nbformat_minor": 5
}
