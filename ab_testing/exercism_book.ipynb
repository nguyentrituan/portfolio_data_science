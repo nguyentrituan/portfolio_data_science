{
 "cells": [
  {
   "cell_type": "code",
   "execution_count": 3,
   "metadata": {},
   "outputs": [
    {
     "name": "stdout",
     "output_type": "stream",
     "text": [
      "5\n"
     ]
    }
   ],
   "source": [
    "# try:\n",
    "#     # Thu in gia tri x\n",
    "#      print(x)\n",
    "# except NameError: # Neu ton tai loi NameError\n",
    "#     print(\"Bien chua duoc dinh nghia\")\n",
    "# except: # Neu ton tai loi khac\n",
    "#     print(\"Da co mot loi khac trong chuong trinh\")"
   ]
  },
  {
   "cell_type": "code",
   "execution_count": 4,
   "metadata": {},
   "outputs": [],
   "source": [
    "# def rebase(input_base, digits, output_base):\n",
    "#     if input_base < 2:\n",
    "#         raise ValueError('input base must be >= 2')\n",
    "#     if output_base < 2:\n",
    "#         raise ValueError('output base must be >= 2')\n",
    "#     if not all(0 <= d < input_base for d in digits):\n",
    "#         raise ValueError('all digits must satisfy 0 <= d < input base')\n",
    "#     decimal = 0\n",
    "#     for d in digits:\n",
    "#         decimal = decimal * input_base + d\n",
    "#     if decimal == 0: return [0]\n",
    "#     out_digits = []\n",
    "#     while decimal > 0:\n",
    "#         decimal, digit = divmod(decimal, output_base)\n",
    "#         out_digits.insert(0, digit)\n",
    "#     return out_digits"
   ]
  },
  {
   "cell_type": "code",
   "execution_count": 10,
   "metadata": {},
   "outputs": [],
   "source": [
    "# numbers = [1, 2, 3]\n",
    "# numbers.remove(2)\n"
   ]
  },
  {
   "cell_type": "code",
   "execution_count": 11,
   "metadata": {},
   "outputs": [
    {
     "data": {
      "text/plain": [
       "[1, 3]"
      ]
     },
     "execution_count": 11,
     "metadata": {},
     "output_type": "execute_result"
    }
   ],
   "source": [
    "# numbers"
   ]
  },
  {
   "cell_type": "code",
   "execution_count": 25,
   "metadata": {},
   "outputs": [],
   "source": [
    "numbers = [1]\n"
   ]
  },
  {
   "cell_type": "code",
   "execution_count": 28,
   "metadata": {},
   "outputs": [
    {
     "name": "stdout",
     "output_type": "stream",
     "text": [
      "tuan\n"
     ]
    }
   ],
   "source": [
    "try:\n",
    "    numbers.pop(1)\n",
    "except ValueError: \n",
    "    print('input base must be >= 2')\n",
    "except IndexError:\n",
    "    print('tuan')"
   ]
  },
  {
   "cell_type": "code",
   "execution_count": 40,
   "metadata": {},
   "outputs": [],
   "source": [
    "def add_me_to_the_queue(express_queue, normal_queue, ticket_type, person_name):\n",
    "    \"\"\"Add a person to the 'express' or 'normal' queue depending on the ticket number.\n",
    "    :param express_queue: list - names in the Fast-track queue.\n",
    "    :param normal_queue: list - names in the normal queue.\n",
    "    :param ticket_type: int - type of ticket. 1 = express, 0 = normal.\n",
    "    :param person_name: str - name of person to add to a queue.\n",
    "    :return: list - the (updated) queue the name was added to.\n",
    "    \"\"\"\n",
    "    if ticket_type == 1:\n",
    "        express_queue.append(person_name)\n",
    "        return express_queue\n",
    "    else:\n",
    "        normal_queue.append(person_name)\n",
    "        return normal_queue\n",
    "    pass"
   ]
  },
  {
   "cell_type": "code",
   "execution_count": 41,
   "metadata": {},
   "outputs": [
    {
     "data": {
      "text/plain": [
       "['Tony', 'Bruce', 'RichieRich']"
      ]
     },
     "execution_count": 41,
     "metadata": {},
     "output_type": "execute_result"
    }
   ],
   "source": [
    "add_me_to_the_queue(express_queue=[\"Tony\", \"Bruce\"], normal_queue=[\"RobotGuy\", \"WW\"], ticket_type=1, person_name=\"RichieRich\")"
   ]
  },
  {
   "cell_type": "code",
   "execution_count": 66,
   "metadata": {},
   "outputs": [],
   "source": [
    "def find_my_friend(queue, friend_name):\n",
    "    \"\"\"Search the queue for a name and return their queue position (index).\n",
    " \n",
    "    :param queue: list - names in the queue.\n",
    "    :param friend_name: str - name of friend to find.\n",
    "    :return: int - index at which the friends name was found.\n",
    "    \"\"\"\n",
    "    return queue.index(friend_name)\n",
    "    pass"
   ]
  },
  {
   "cell_type": "code",
   "execution_count": 67,
   "metadata": {},
   "outputs": [
    {
     "name": "stdout",
     "output_type": "stream",
     "text": [
      "spam\n"
     ]
    }
   ],
   "source": [
    "placeholders = [\"spam\", \"ham\", \"eggs\", \"green_spam\", \"green_ham\", \"green_eggs\"]\n",
    "print(placeholders.pop(0))\n",
    "# while placeholders:\n",
    "    # print(placeholders.pop(0))"
   ]
  },
  {
   "attachments": {},
   "cell_type": "markdown",
   "metadata": {},
   "source": [
    "Chaitana's Colossal Coaster"
   ]
  },
  {
   "cell_type": "code",
   "execution_count": 68,
   "metadata": {},
   "outputs": [],
   "source": [
    "express_queue=[\"Tony\", \"Bruce\"]"
   ]
  },
  {
   "cell_type": "code",
   "execution_count": 69,
   "metadata": {},
   "outputs": [
    {
     "data": {
      "text/plain": [
       "0"
      ]
     },
     "execution_count": 69,
     "metadata": {},
     "output_type": "execute_result"
    }
   ],
   "source": [
    "find_my_friend(express_queue,\"Tony\")"
   ]
  },
  {
   "cell_type": "code",
   "execution_count": 70,
   "metadata": {},
   "outputs": [
    {
     "name": "stdout",
     "output_type": "stream",
     "text": [
      "Bird (at index 0) starts with a B.\n",
      "Chicken doesn't start with a B.\n",
      "Barrel (at index 2) starts with a B.\n",
      "Bongo (at index 3) starts with a B.\n",
      "loop broken.\n"
     ]
    }
   ],
   "source": [
    "word_list = [\"bird\", \"chicken\", \"barrel\", \"bongo\", \"sliver\", \"apple\"]\n",
    "for index, word in enumerate(word_list):\n",
    "   if word.startswith(\"b\"):\n",
    "       print(f\"{word.title()} (at index {index}) starts with a B.\")\n",
    "   elif word == \"sliver\":\n",
    "      break\n",
    "   else:\n",
    "      print(f\"{word.title()} doesn't start with a B.\")\n",
    "print(\"loop broken.\")"
   ]
  },
  {
   "attachments": {},
   "cell_type": "markdown",
   "metadata": {},
   "source": [
    "Making the Grade"
   ]
  },
  {
   "cell_type": "code",
   "execution_count": 71,
   "metadata": {},
   "outputs": [],
   "source": [
    "student_scores = [90.33, 40.5, 55.44, 70.05, 30.55, 25.45, 80.45, 95.3, 38.7, 40.3]"
   ]
  },
  {
   "cell_type": "code",
   "execution_count": 72,
   "metadata": {},
   "outputs": [
    {
     "data": {
      "text/plain": [
       "<map at 0x7fc310dc3be0>"
      ]
     },
     "execution_count": 72,
     "metadata": {},
     "output_type": "execute_result"
    }
   ],
   "source": [
    "a = map(lambda n: n <= 40, student_scores)\n",
    "a"
   ]
  },
  {
   "cell_type": "code",
   "execution_count": 73,
   "metadata": {},
   "outputs": [],
   "source": [
    "def round_scores(student_scores: list) -> list:\n",
    "    \"\"\"Round all provided student scores.\n",
    "\n",
    "    :param student_scores: list - float or int of student exam scores.\n",
    "    :return: list - student scores *rounded* to nearest integer value.\n",
    "    \"\"\"\n",
    "    return list(map(round, student_scores))"
   ]
  },
  {
   "cell_type": "code",
   "execution_count": 77,
   "metadata": {},
   "outputs": [
    {
     "data": {
      "text/plain": [
       "[90, 40, 55, 70, 31, 25, 80, 95, 39, 40]"
      ]
     },
     "execution_count": 77,
     "metadata": {},
     "output_type": "execute_result"
    }
   ],
   "source": [
    "round_scores(student_scores)"
   ]
  },
  {
   "cell_type": "code",
   "execution_count": 74,
   "metadata": {},
   "outputs": [],
   "source": [
    "def count_failed_students(student_scores: list) -> int:\n",
    "    \"\"\"Count the number of failing students out of the group provided.\n",
    "\n",
    "    :param student_scores: list - containing int student scores.\n",
    "    :return: int - count of student scores at or below 40.\n",
    "    \"\"\"\n",
    "    return sum(map(lambda n: n <= 40, student_scores))"
   ]
  },
  {
   "cell_type": "code",
   "execution_count": 75,
   "metadata": {},
   "outputs": [],
   "source": [
    "def letter_grades(highest):\n",
    "    \"\"\"Create a list of grade thresholds based on the provided highest grade.\n",
    "\n",
    "    :param highest: int - value of highest exam score.\n",
    "    :return: list - of lower threshold scores for each D-A letter grade interval.\n",
    "            For example, where the highest score is 100, and failing is <= 40,\n",
    "            The result would be [41, 56, 71, 86]:\n",
    "\n",
    "            41 <= \"D\" <= 55\n",
    "            56 <= \"C\" <= 70\n",
    "            71 <= \"B\" <= 85\n",
    "            86 <= \"A\" <= 100\n",
    "    \"\"\"\n",
    "    return list(map(lambda n: n * (highest - 40) // 4 + 41, [0, 1, 2, 3]))"
   ]
  },
  {
   "cell_type": "code",
   "execution_count": 76,
   "metadata": {},
   "outputs": [
    {
     "data": {
      "text/plain": [
       "[41, 56, 71, 86]"
      ]
     },
     "execution_count": 76,
     "metadata": {},
     "output_type": "execute_result"
    }
   ],
   "source": [
    "letter_grades(100)"
   ]
  },
  {
   "cell_type": "code",
   "execution_count": 85,
   "metadata": {},
   "outputs": [
    {
     "data": {
      "text/plain": [
       "3"
      ]
     },
     "execution_count": 85,
     "metadata": {},
     "output_type": "execute_result"
    }
   ],
   "source": [
    "count_failed_students(student_scores)"
   ]
  },
  {
   "cell_type": "code",
   "execution_count": 79,
   "metadata": {},
   "outputs": [
    {
     "name": "stdout",
     "output_type": "stream",
     "text": [
      "[11, 22, 33]\n"
     ]
    }
   ],
   "source": [
    "numbers1 = [1, 2, 3]\n",
    "numbers2 = [10, 20, 30]\n",
    "combined_numbers = list(map(lambda x, y: x + y, numbers1, numbers2))\n",
    "print(combined_numbers)  # Output: [11, 22, 33]"
   ]
  },
  {
   "cell_type": "code",
   "execution_count": 76,
   "metadata": {},
   "outputs": [],
   "source": [
    "# def round_scores(student_scores: list) -> list:\n",
    "#     \"\"\"Round all provided student scores.\n",
    "\n",
    "#     :param student_scores: list - float or int of student exam scores.\n",
    "#     :return: list - student scores *rounded* to nearest integer value.\n",
    "#     \"\"\"\n",
    "#     return list(map(round, student_scores))"
   ]
  },
  {
   "cell_type": "code",
   "execution_count": 77,
   "metadata": {},
   "outputs": [
    {
     "data": {
      "text/plain": [
       "[90, 40, 55, 70, 31, 25, 80, 95, 39, 40]"
      ]
     },
     "execution_count": 77,
     "metadata": {},
     "output_type": "execute_result"
    }
   ],
   "source": [
    "round_scores(list(student_scores))"
   ]
  },
  {
   "attachments": {},
   "cell_type": "markdown",
   "metadata": {},
   "source": [
    "Tisbury Treasure Hunt"
   ]
  },
  {
   "cell_type": "code",
   "execution_count": 2,
   "metadata": {},
   "outputs": [
    {
     "data": {
      "text/plain": [
       "('T', 'i', 'm', 'b', 'u', 'k', 't', 'u')"
      ]
     },
     "execution_count": 2,
     "metadata": {},
     "output_type": "execute_result"
    }
   ],
   "source": [
    "multiple_elements_string = tuple(\"Timbuktu\")\n",
    "multiple_elements_string\n"
   ]
  },
  {
   "cell_type": "code",
   "execution_count": 40,
   "metadata": {},
   "outputs": [],
   "source": [
    "def clean_up(combined_record_group):\n",
    "    \"\"\"Clean up a combined record group into a multi-line string of single records.\n",
    "\n",
    "    :param combined_record_group: tuple - everything from both participants.\n",
    "    :return: str - everything \"cleaned\", excess coordinates and information are removed.\n",
    "\n",
    "    The return statement should be a multi-lined string with items separated by newlines.\n",
    "\n",
    "    (see HINTS.md for an example).\n",
    "    \"\"\"\n",
    "    return \"\".join([f\"{(record[0], record[2], record[3], record[4])}\\n\" for record in combined_record_group])\n",
    "    # return \"\".join(record[0] for record in combined_record_group)"
   ]
  },
  {
   "cell_type": "code",
   "execution_count": 41,
   "metadata": {},
   "outputs": [],
   "source": [
    "a = (('Brass Spyglass', '4B', 'Abandoned Lighthouse', ('4', 'B'), 'Blue'), ('Vintage Pirate Hat', '7E', 'Quiet Inlet (Island of Mystery)', ('7', 'E'), 'Orange'), ('Crystal Crab', '6A', 'Old Schooner', ('6', 'A'), 'Purple'))"
   ]
  },
  {
   "cell_type": "code",
   "execution_count": 42,
   "metadata": {},
   "outputs": [
    {
     "data": {
      "text/plain": [
       "(('Brass Spyglass', '4B', 'Abandoned Lighthouse', ('4', 'B'), 'Blue'),\n",
       " ('Vintage Pirate Hat',\n",
       "  '7E',\n",
       "  'Quiet Inlet (Island of Mystery)',\n",
       "  ('7', 'E'),\n",
       "  'Orange'),\n",
       " ('Crystal Crab', '6A', 'Old Schooner', ('6', 'A'), 'Purple'))"
      ]
     },
     "execution_count": 42,
     "metadata": {},
     "output_type": "execute_result"
    }
   ],
   "source": [
    "a"
   ]
  },
  {
   "cell_type": "code",
   "execution_count": 43,
   "metadata": {},
   "outputs": [
    {
     "data": {
      "text/plain": [
       "\"('Brass Spyglass', 'Abandoned Lighthouse', ('4', 'B'), 'Blue')\\n('Vintage Pirate Hat', 'Quiet Inlet (Island of Mystery)', ('7', 'E'), 'Orange')\\n('Crystal Crab', 'Old Schooner', ('6', 'A'), 'Purple')\\n\""
      ]
     },
     "execution_count": 43,
     "metadata": {},
     "output_type": "execute_result"
    }
   ],
   "source": [
    "clean_up(a)"
   ]
  },
  {
   "cell_type": "code",
   "execution_count": 46,
   "metadata": {},
   "outputs": [
    {
     "data": {
      "text/plain": [
       "{'name': 'Wombat', 'speed': 23, 'land_animal': True}"
      ]
     },
     "execution_count": 46,
     "metadata": {},
     "output_type": "execute_result"
    }
   ],
   "source": [
    "wombat = dict([('name', 'Wombat'),('speed', 23),('land_animal', True)])\n",
    "wombat"
   ]
  },
  {
   "cell_type": "code",
   "execution_count": 48,
   "metadata": {},
   "outputs": [
    {
     "data": {
      "text/plain": [
       "{'name': 'Black Bear', 'speed': 40, 'land_animal': True}"
      ]
     },
     "execution_count": 48,
     "metadata": {},
     "output_type": "execute_result"
    }
   ],
   "source": [
    "bear = dict(name=\"Black Bear\", speed=40, land_animal=True)\n",
    "bear"
   ]
  },
  {
   "cell_type": "code",
   "execution_count": 50,
   "metadata": {},
   "outputs": [
    {
     "data": {
      "text/plain": [
       "{'name': 'Blue Whale', 'speed': 35, 'land_animal': False}"
      ]
     },
     "execution_count": 50,
     "metadata": {},
     "output_type": "execute_result"
    }
   ],
   "source": [
    "whale = {\"name\": \"Blue Whale\", \"speed\": 35, \"land_animal\": False}\n",
    "whale"
   ]
  },
  {
   "cell_type": "code",
   "execution_count": 51,
   "metadata": {},
   "outputs": [
    {
     "name": "stdout",
     "output_type": "stream",
     "text": [
      "name : Blue Whale\n",
      "speed : 35\n",
      "land_animal : False\n"
     ]
    }
   ],
   "source": [
    "for key, value in whale.items():\n",
    "    print(key,\":\",value)"
   ]
  },
  {
   "attachments": {},
   "cell_type": "markdown",
   "metadata": {},
   "source": [
    "Inventory Management"
   ]
  },
  {
   "cell_type": "code",
   "execution_count": 60,
   "metadata": {},
   "outputs": [],
   "source": [
    "from collections import Counter"
   ]
  },
  {
   "cell_type": "code",
   "execution_count": 61,
   "metadata": {},
   "outputs": [],
   "source": [
    "items = [\"coal\", \"wood\", \"wood\", \"diamond\", \"diamond\", \"diamond\"]"
   ]
  },
  {
   "cell_type": "code",
   "execution_count": 64,
   "metadata": {},
   "outputs": [],
   "source": [
    "def create_inventory(items):\n",
    "    \"\"\"\n",
    " \n",
    "    :param items: list - list of items to create an inventory from.\n",
    "    :return:  dict - the inventory dictionary.\n",
    "    \"\"\"\n",
    "    return dict(Counter(items))"
   ]
  },
  {
   "cell_type": "code",
   "execution_count": 100,
   "metadata": {},
   "outputs": [
    {
     "data": {
      "text/plain": [
       "{'wood': 2, 'iron': 1, 'coal': 1}"
      ]
     },
     "execution_count": 100,
     "metadata": {},
     "output_type": "execute_result"
    }
   ],
   "source": [
    "create_inventory(items)"
   ]
  },
  {
   "cell_type": "code",
   "execution_count": 101,
   "metadata": {},
   "outputs": [],
   "source": [
    "items = [\"wood\", \"iron\", \"coal\", \"wood\"]\n",
    "inventory = {\"coal\":1}"
   ]
  },
  {
   "cell_type": "code",
   "execution_count": 102,
   "metadata": {},
   "outputs": [
    {
     "data": {
      "text/plain": [
       "['wood', 'iron', 'coal', 'wood']"
      ]
     },
     "execution_count": 102,
     "metadata": {},
     "output_type": "execute_result"
    }
   ],
   "source": [
    "items"
   ]
  },
  {
   "cell_type": "code",
   "execution_count": 104,
   "metadata": {},
   "outputs": [
    {
     "data": {
      "text/plain": [
       "Counter({'coal': 1})"
      ]
     },
     "execution_count": 104,
     "metadata": {},
     "output_type": "execute_result"
    }
   ],
   "source": [
    "Counter(inventory)"
   ]
  },
  {
   "cell_type": "code",
   "execution_count": 105,
   "metadata": {},
   "outputs": [],
   "source": [
    "# Counter(inventory)"
   ]
  },
  {
   "cell_type": "code",
   "execution_count": 108,
   "metadata": {},
   "outputs": [],
   "source": [
    "def add_items(inventory, items):\n",
    "    \"\"\"\n",
    " \n",
    "    :param inventory: dict - dictionary of existing inventory.\n",
    "    :param items: list - list of items to update the inventory with.\n",
    "    :return:  dict - the inventory dictionary update with the new items.\n",
    "    \"\"\"\n",
    "    return dict(Counter(inventory) + Counter(items))"
   ]
  },
  {
   "cell_type": "code",
   "execution_count": 109,
   "metadata": {},
   "outputs": [
    {
     "data": {
      "text/plain": [
       "{'coal': 2, 'wood': 2, 'iron': 1}"
      ]
     },
     "execution_count": 109,
     "metadata": {},
     "output_type": "execute_result"
    }
   ],
   "source": [
    "add_items(inventory,items)"
   ]
  },
  {
   "cell_type": "code",
   "execution_count": 110,
   "metadata": {},
   "outputs": [],
   "source": [
    "items = [\"diamond\", \"coal\", \"iron\", \"iron\"]"
   ]
  },
  {
   "cell_type": "code",
   "execution_count": 125,
   "metadata": {},
   "outputs": [],
   "source": [
    "inventory = {\"coal\":3, \"diamond\":1, \"iron\":5}"
   ]
  },
  {
   "cell_type": "code",
   "execution_count": 126,
   "metadata": {},
   "outputs": [
    {
     "data": {
      "text/plain": [
       "dict_items([('coal', 3), ('diamond', 1), ('iron', 5)])"
      ]
     },
     "execution_count": 126,
     "metadata": {},
     "output_type": "execute_result"
    }
   ],
   "source": [
    "inventory.items()"
   ]
  },
  {
   "cell_type": "code",
   "execution_count": 122,
   "metadata": {},
   "outputs": [],
   "source": [
    "def decrement_items(inventory, items):\n",
    "    \"\"\"\n",
    "    decrement items from inventory; include keys with value == 0\n",
    " \n",
    "    :param inventory: dict - inventory dictionary.\n",
    "    :param items: list - list of items to decrement from the inventory.\n",
    "    :return:  dict - updated inventory dictionary with items decremented.\n",
    "    \"\"\"\n",
    "    counts = dict(Counter(inventory) - Counter(items))\n",
    "    # counts.update({a: 0 for a in inventory if a not in counts})\n",
    "    counts.update({a: 0 for a in inventory if a not in counts})\n",
    "    return counts"
   ]
  },
  {
   "cell_type": "code",
   "execution_count": 123,
   "metadata": {},
   "outputs": [
    {
     "data": {
      "text/plain": [
       "{'coal': 0, 'iron': 0, 'diamond': 0}"
      ]
     },
     "execution_count": 123,
     "metadata": {},
     "output_type": "execute_result"
    }
   ],
   "source": [
    "decrement_items(inventory,items)"
   ]
  },
  {
   "attachments": {},
   "cell_type": "markdown",
   "metadata": {},
   "source": [
    "Locomotive Engineer"
   ]
  },
  {
   "cell_type": "code",
   "execution_count": 5,
   "metadata": {},
   "outputs": [
    {
     "name": "stdout",
     "output_type": "stream",
     "text": [
      "(1, 2, 3)\n"
     ]
    }
   ],
   "source": [
    "# This function is defined to take any number of positional arguments\n",
    "\n",
    "def my_function(*args):\n",
    "    print(args)\n",
    "\n",
    "# Arguments given to the function are packed into a tuple\n",
    "\n",
    "my_function(1, 2, 3)\n",
    "# (1, 2, 3)\n",
    "\n",
    "# >>> my_function(\"Hello\")\n",
    "# (\"Hello\")\n",
    "\n",
    "# >>> my_function(1, 2, 3, \"Hello\", \"Mars\")\n",
    "# (1, 2, 3, \"Hello\", \"Mars\")"
   ]
  },
  {
   "cell_type": "code",
   "execution_count": 6,
   "metadata": {},
   "outputs": [
    {
     "name": "stdout",
     "output_type": "stream",
     "text": [
      "(1, 2, 3, 'Hello')\n"
     ]
    }
   ],
   "source": [
    "my_function(1,2,3,\"Hello\")"
   ]
  },
  {
   "cell_type": "code",
   "execution_count": 26,
   "metadata": {},
   "outputs": [],
   "source": [
    "def get_list_of_wagons(*args):\n",
    "    \"\"\"Return a list of wagons.\n",
    "\n",
    "    :param: arbitrary number of wagons.\n",
    "    :return: list - list of wagons.\n",
    "    \"\"\"\n",
    "    # return [*args]\n",
    "    return [*args]\n"
   ]
  },
  {
   "cell_type": "code",
   "execution_count": 27,
   "metadata": {},
   "outputs": [
    {
     "data": {
      "text/plain": [
       "[1, 7, 12, 3, 14, 8, 5]"
      ]
     },
     "execution_count": 27,
     "metadata": {},
     "output_type": "execute_result"
    }
   ],
   "source": [
    "get_list_of_wagons(1, 7, 12, 3, 14, 8, 5)"
   ]
  },
  {
   "cell_type": "code",
   "execution_count": 12,
   "metadata": {},
   "outputs": [],
   "source": [
    "def fix_list_of_wagons(each_wagons_id, missing_wagons):\n",
    "    \"\"\"Fix the list of wagons.\n",
    "\n",
    "    :parm each_wagons_id: list - the list of wagons.\n",
    "    :parm missing_wagons: list - the list of missing wagons.\n",
    "    :return: list - list of wagons.\n",
    "    \"\"\"\n",
    "    [[a, b, c, *last], d] = [each_wagons_id, missing_wagons]\n",
    "    return [c, d, *last, a, b]"
   ]
  },
  {
   "cell_type": "code",
   "execution_count": 13,
   "metadata": {},
   "outputs": [
    {
     "data": {
      "text/plain": [
       "[1, [3, 17, 6, 15], 7, 4, 12, 6, 3, 13, 2, 5]"
      ]
     },
     "execution_count": 13,
     "metadata": {},
     "output_type": "execute_result"
    }
   ],
   "source": [
    "fix_list_of_wagons([2, 5, 1, 7, 4, 12, 6, 3, 13], [3, 17, 6, 15])"
   ]
  },
  {
   "cell_type": "code",
   "execution_count": 61,
   "metadata": {},
   "outputs": [],
   "source": [
    "fruits = (\"apple\", \"banana\", \"cherry\")\n",
    "more_fruits = [\"orange\", \"kiwi\", \"melon\", \"mango\"]\n",
    "\n",
    "# fruits and more_fruits are unpacked and then their elements are packed into combined_fruits\n",
    "combined_fruits = *fruits, *more_fruits\n",
    "# combined_fruits = fruits, more_fruits"
   ]
  },
  {
   "cell_type": "code",
   "execution_count": 62,
   "metadata": {},
   "outputs": [
    {
     "data": {
      "text/plain": [
       "('apple', 'banana', 'cherry', 'orange', 'kiwi', 'melon', 'mango')"
      ]
     },
     "execution_count": 62,
     "metadata": {},
     "output_type": "execute_result"
    }
   ],
   "source": [
    "combined_fruits"
   ]
  },
  {
   "cell_type": "code",
   "execution_count": 35,
   "metadata": {},
   "outputs": [],
   "source": [
    "fruits_inventory = {\"apple\": 6, \"banana\": 2, \"cherry\": 3}\n",
    "more_fruits_inventory = {\"orange\": 4, \"kiwi\": 1, \"melon\": 2, \"mango\": 3}\n",
    "\n",
    "# # fruits_inventory and more_fruits_inventory are unpacked into key-values pairs and combined.\n",
    "combined_fruits_inventory = {**fruits_inventory, **more_fruits_inventory}\n",
    "# combined_fruits_inventory = {*fruits_inventory, *more_fruits_inventory} \n",
    "\n",
    "# # then the pairs are packed into combined_fruits_inventory\n",
    "# combined_fruits_inventory\n",
    "# {\"apple\": 6, \"banana\": 2, \"cherry\": 3, \"orange\": 4, \"kiwi\": 1, \"melon\": 2, \"mango\": 3}"
   ]
  },
  {
   "cell_type": "code",
   "execution_count": 36,
   "metadata": {},
   "outputs": [
    {
     "data": {
      "text/plain": [
       "{'apple': 6,\n",
       " 'banana': 2,\n",
       " 'cherry': 3,\n",
       " 'orange': 4,\n",
       " 'kiwi': 1,\n",
       " 'melon': 2,\n",
       " 'mango': 3}"
      ]
     },
     "execution_count": 36,
     "metadata": {},
     "output_type": "execute_result"
    }
   ],
   "source": [
    "combined_fruits_inventory"
   ]
  },
  {
   "cell_type": "code",
   "execution_count": 46,
   "metadata": {},
   "outputs": [],
   "source": [
    "def add_missing_stops(dicts, **kwargs):\n",
    "    \"\"\"Add missing stops to route dict.\n",
    "\n",
    "    :param route: dict - the dict of routing information.\n",
    "    :param: arbitrary number of stops.\n",
    "    :return: dict - updated route dictionary.\n",
    "    \"\"\"\n",
    "    # return {**dicts, 'stops': [*kwargs.values()]}\n",
    "    return {**dicts, 'stops': [*kwargs.values()]}"
   ]
  },
  {
   "cell_type": "code",
   "execution_count": 47,
   "metadata": {},
   "outputs": [
    {
     "data": {
      "text/plain": [
       "{'from': 'New York',\n",
       " 'to': 'Miami',\n",
       " 'stops': ['Washington, DC',\n",
       "  'Charlotte',\n",
       "  'Atlanta',\n",
       "  'Jacksonville',\n",
       "  'Orlando']}"
      ]
     },
     "execution_count": 47,
     "metadata": {},
     "output_type": "execute_result"
    }
   ],
   "source": [
    "add_missing_stops({\"from\": \"New York\", \"to\": \"Miami\"},\n",
    "                      stop_1=\"Washington, DC\", stop_2=\"Charlotte\", stop_3=\"Atlanta\",\n",
    "                      stop_4=\"Jacksonville\", stop_5=\"Orlando\")\n"
   ]
  },
  {
   "cell_type": "code",
   "execution_count": 59,
   "metadata": {},
   "outputs": [],
   "source": [
    "fruits_inventory = {\"apple\": 6, \"banana\": 2, \"cherry\": 3}\n",
    "more_fruits_inventory = {\"orange\": 4, \"kiwi\": 1, \"melon\": 2, \"mango\": 3}\n",
    "\n",
    "# fruits_inventory and more_fruits_inventory are unpacked into key-values pairs and combined.\n",
    "# combined_fruits_inventory = {**fruits_inventory, **more_fruits_inventory}\n",
    "combined_fruits_inventory = [*fruits_inventory, *more_fruits_inventory]\n"
   ]
  },
  {
   "cell_type": "code",
   "execution_count": 60,
   "metadata": {},
   "outputs": [
    {
     "data": {
      "text/plain": [
       "['apple', 'banana', 'cherry', 'orange', 'kiwi', 'melon', 'mango']"
      ]
     },
     "execution_count": 60,
     "metadata": {},
     "output_type": "execute_result"
    }
   ],
   "source": [
    "combined_fruits_inventory"
   ]
  },
  {
   "cell_type": "code",
   "execution_count": null,
   "metadata": {},
   "outputs": [],
   "source": []
  }
 ],
 "metadata": {
  "kernelspec": {
   "display_name": "nguyen_tri_tuan",
   "language": "python",
   "name": "python3"
  },
  "language_info": {
   "codemirror_mode": {
    "name": "ipython",
    "version": 3
   },
   "file_extension": ".py",
   "mimetype": "text/x-python",
   "name": "python",
   "nbconvert_exporter": "python",
   "pygments_lexer": "ipython3",
   "version": "3.8.15"
  },
  "orig_nbformat": 4
 },
 "nbformat": 4,
 "nbformat_minor": 2
}
